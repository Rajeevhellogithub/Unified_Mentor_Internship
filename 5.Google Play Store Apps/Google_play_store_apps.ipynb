{
 "cells": [
  {
   "cell_type": "markdown",
   "id": "cb965c27-e079-4b70-bdd4-4dee0c3862c2",
   "metadata": {
    "jp-MarkdownHeadingCollapsed": true
   },
   "source": [
    "## Import Libraries"
   ]
  },
  {
   "cell_type": "code",
   "execution_count": 1,
   "id": "fa37165a-f4b2-4dab-b861-eb584b466f96",
   "metadata": {},
   "outputs": [],
   "source": [
    "import pandas as pd\n",
    "import numpy as np\n",
    "import seaborn as sns\n",
    "import matplotlib.pyplot as plt\n",
    "from scipy import stats\n",
    "%matplotlib inline\n",
    "import warnings\n",
    "warnings.filterwarnings('ignore')\n",
    "pd.set_option('display.float_format', '{:.3f}'.format)"
   ]
  },
  {
   "cell_type": "markdown",
   "id": "474d2c94-a754-47e2-8ad3-7e1272b92b2f",
   "metadata": {
    "jp-MarkdownHeadingCollapsed": true
   },
   "source": [
    "## Import Dataset"
   ]
  },
  {
   "cell_type": "code",
   "execution_count": 2,
   "id": "548cf456-c5b8-4c27-bdfd-ef430d6ef5f4",
   "metadata": {},
   "outputs": [
    {
     "data": {
      "text/plain": [
       "(10841, 13)"
      ]
     },
     "execution_count": 2,
     "metadata": {},
     "output_type": "execute_result"
    }
   ],
   "source": [
    "df = pd.read_csv('googleplaystore.csv')\n",
    "df.shape"
   ]
  },
  {
   "cell_type": "code",
   "execution_count": 3,
   "id": "271c526b-62bf-478f-933c-6dcb765c1f93",
   "metadata": {},
   "outputs": [
    {
     "name": "stdout",
     "output_type": "stream",
     "text": [
      "The number of Rows are \"10841\", and the number of columns are \"13\"\n"
     ]
    }
   ],
   "source": [
    "print(f'The number of Rows are \"{df.shape[0]}\", and the number of columns are \"{df.shape[1]}\"')"
   ]
  },
  {
   "cell_type": "code",
   "execution_count": 4,
   "id": "0c933838-212c-4c9d-8211-9669e7d379b3",
   "metadata": {},
   "outputs": [
    {
     "data": {
      "text/html": [
       "<div>\n",
       "<style scoped>\n",
       "    .dataframe tbody tr th:only-of-type {\n",
       "        vertical-align: middle;\n",
       "    }\n",
       "\n",
       "    .dataframe tbody tr th {\n",
       "        vertical-align: top;\n",
       "    }\n",
       "\n",
       "    .dataframe thead th {\n",
       "        text-align: right;\n",
       "    }\n",
       "</style>\n",
       "<table border=\"1\" class=\"dataframe\">\n",
       "  <thead>\n",
       "    <tr style=\"text-align: right;\">\n",
       "      <th></th>\n",
       "      <th>0</th>\n",
       "      <th>1</th>\n",
       "      <th>2</th>\n",
       "    </tr>\n",
       "  </thead>\n",
       "  <tbody>\n",
       "    <tr>\n",
       "      <th>App</th>\n",
       "      <td>Photo Editor &amp; Candy Camera &amp; Grid &amp; ScrapBook</td>\n",
       "      <td>Coloring book moana</td>\n",
       "      <td>U Launcher Lite – FREE Live Cool Themes, Hide ...</td>\n",
       "    </tr>\n",
       "    <tr>\n",
       "      <th>Category</th>\n",
       "      <td>ART_AND_DESIGN</td>\n",
       "      <td>ART_AND_DESIGN</td>\n",
       "      <td>ART_AND_DESIGN</td>\n",
       "    </tr>\n",
       "    <tr>\n",
       "      <th>Rating</th>\n",
       "      <td>4.100</td>\n",
       "      <td>3.900</td>\n",
       "      <td>4.700</td>\n",
       "    </tr>\n",
       "    <tr>\n",
       "      <th>Reviews</th>\n",
       "      <td>159</td>\n",
       "      <td>967</td>\n",
       "      <td>87510</td>\n",
       "    </tr>\n",
       "    <tr>\n",
       "      <th>Size</th>\n",
       "      <td>19M</td>\n",
       "      <td>14M</td>\n",
       "      <td>8.7M</td>\n",
       "    </tr>\n",
       "    <tr>\n",
       "      <th>Installs</th>\n",
       "      <td>10,000+</td>\n",
       "      <td>500,000+</td>\n",
       "      <td>5,000,000+</td>\n",
       "    </tr>\n",
       "    <tr>\n",
       "      <th>Type</th>\n",
       "      <td>Free</td>\n",
       "      <td>Free</td>\n",
       "      <td>Free</td>\n",
       "    </tr>\n",
       "    <tr>\n",
       "      <th>Price</th>\n",
       "      <td>0</td>\n",
       "      <td>0</td>\n",
       "      <td>0</td>\n",
       "    </tr>\n",
       "    <tr>\n",
       "      <th>Content Rating</th>\n",
       "      <td>Everyone</td>\n",
       "      <td>Everyone</td>\n",
       "      <td>Everyone</td>\n",
       "    </tr>\n",
       "    <tr>\n",
       "      <th>Genres</th>\n",
       "      <td>Art &amp; Design</td>\n",
       "      <td>Art &amp; Design;Pretend Play</td>\n",
       "      <td>Art &amp; Design</td>\n",
       "    </tr>\n",
       "    <tr>\n",
       "      <th>Last Updated</th>\n",
       "      <td>January 7, 2018</td>\n",
       "      <td>January 15, 2018</td>\n",
       "      <td>August 1, 2018</td>\n",
       "    </tr>\n",
       "    <tr>\n",
       "      <th>Current Ver</th>\n",
       "      <td>1.0.0</td>\n",
       "      <td>2.0.0</td>\n",
       "      <td>1.2.4</td>\n",
       "    </tr>\n",
       "    <tr>\n",
       "      <th>Android Ver</th>\n",
       "      <td>4.0.3 and up</td>\n",
       "      <td>4.0.3 and up</td>\n",
       "      <td>4.0.3 and up</td>\n",
       "    </tr>\n",
       "  </tbody>\n",
       "</table>\n",
       "</div>"
      ],
      "text/plain": [
       "                                                             0  \\\n",
       "App             Photo Editor & Candy Camera & Grid & ScrapBook   \n",
       "Category                                        ART_AND_DESIGN   \n",
       "Rating                                                   4.100   \n",
       "Reviews                                                    159   \n",
       "Size                                                       19M   \n",
       "Installs                                               10,000+   \n",
       "Type                                                      Free   \n",
       "Price                                                        0   \n",
       "Content Rating                                        Everyone   \n",
       "Genres                                            Art & Design   \n",
       "Last Updated                                   January 7, 2018   \n",
       "Current Ver                                              1.0.0   \n",
       "Android Ver                                       4.0.3 and up   \n",
       "\n",
       "                                        1  \\\n",
       "App                   Coloring book moana   \n",
       "Category                   ART_AND_DESIGN   \n",
       "Rating                              3.900   \n",
       "Reviews                               967   \n",
       "Size                                  14M   \n",
       "Installs                         500,000+   \n",
       "Type                                 Free   \n",
       "Price                                   0   \n",
       "Content Rating                   Everyone   \n",
       "Genres          Art & Design;Pretend Play   \n",
       "Last Updated             January 15, 2018   \n",
       "Current Ver                         2.0.0   \n",
       "Android Ver                  4.0.3 and up   \n",
       "\n",
       "                                                                2  \n",
       "App             U Launcher Lite – FREE Live Cool Themes, Hide ...  \n",
       "Category                                           ART_AND_DESIGN  \n",
       "Rating                                                      4.700  \n",
       "Reviews                                                     87510  \n",
       "Size                                                         8.7M  \n",
       "Installs                                               5,000,000+  \n",
       "Type                                                         Free  \n",
       "Price                                                           0  \n",
       "Content Rating                                           Everyone  \n",
       "Genres                                               Art & Design  \n",
       "Last Updated                                       August 1, 2018  \n",
       "Current Ver                                                 1.2.4  \n",
       "Android Ver                                          4.0.3 and up  "
      ]
     },
     "execution_count": 4,
     "metadata": {},
     "output_type": "execute_result"
    }
   ],
   "source": [
    "df.head(3).T"
   ]
  },
  {
   "cell_type": "code",
   "execution_count": 5,
   "id": "db4dbbbb-e1be-49af-885e-32cc1b296655",
   "metadata": {},
   "outputs": [
    {
     "name": "stdout",
     "output_type": "stream",
     "text": [
      "<class 'pandas.core.frame.DataFrame'>\n",
      "RangeIndex: 10841 entries, 0 to 10840\n",
      "Data columns (total 13 columns):\n",
      " #   Column          Non-Null Count  Dtype  \n",
      "---  ------          --------------  -----  \n",
      " 0   App             10841 non-null  object \n",
      " 1   Category        10841 non-null  object \n",
      " 2   Rating          9367 non-null   float64\n",
      " 3   Reviews         10841 non-null  object \n",
      " 4   Size            10841 non-null  object \n",
      " 5   Installs        10841 non-null  object \n",
      " 6   Type            10840 non-null  object \n",
      " 7   Price           10841 non-null  object \n",
      " 8   Content Rating  10840 non-null  object \n",
      " 9   Genres          10841 non-null  object \n",
      " 10  Last Updated    10841 non-null  object \n",
      " 11  Current Ver     10833 non-null  object \n",
      " 12  Android Ver     10838 non-null  object \n",
      "dtypes: float64(1), object(12)\n",
      "memory usage: 1.1+ MB\n"
     ]
    }
   ],
   "source": [
    "df.info()"
   ]
  },
  {
   "cell_type": "code",
   "execution_count": 6,
   "id": "9aada9ef-dd7b-4a85-8370-bd3e13d6dd3f",
   "metadata": {},
   "outputs": [
    {
     "data": {
      "text/plain": [
       "Index(['App', 'Category', 'Rating', 'Reviews', 'Size', 'Installs', 'Type',\n",
       "       'Price', 'Content Rating', 'Genres', 'Last Updated', 'Current Ver',\n",
       "       'Android Ver'],\n",
       "      dtype='object')"
      ]
     },
     "execution_count": 6,
     "metadata": {},
     "output_type": "execute_result"
    }
   ],
   "source": [
    "df.columns"
   ]
  },
  {
   "cell_type": "markdown",
   "id": "fc446cd0-c1d0-4982-aef1-25834a7baa46",
   "metadata": {
    "jp-MarkdownHeadingCollapsed": true
   },
   "source": [
    "## Unique values count of each features"
   ]
  },
  {
   "cell_type": "code",
   "execution_count": 7,
   "id": "0cf5e2fc-be06-40c5-8e9e-7a1a9d4a955c",
   "metadata": {},
   "outputs": [
    {
     "name": "stdout",
     "output_type": "stream",
     "text": [
      "App : 9660\n",
      "Category : 34\n",
      "Rating : 40\n",
      "Reviews : 6002\n",
      "Size : 462\n",
      "Installs : 22\n",
      "Type : 3\n",
      "Price : 93\n",
      "Content Rating : 6\n",
      "Genres : 120\n",
      "Last Updated : 1378\n",
      "Current Ver : 2832\n",
      "Android Ver : 33\n"
     ]
    }
   ],
   "source": [
    "for col in df.columns:\n",
    "    print(col,':', len(df[col].value_counts().index))"
   ]
  },
  {
   "cell_type": "markdown",
   "id": "ca1babbe-c17f-4d71-8ac8-78a67d7969dd",
   "metadata": {
    "jp-MarkdownHeadingCollapsed": true
   },
   "source": [
    "## Unique values list of few selected features"
   ]
  },
  {
   "cell_type": "code",
   "execution_count": 8,
   "id": "2f4318e5-7255-44a2-919b-dcb2ba9ad3e3",
   "metadata": {
    "scrolled": true
   },
   "outputs": [
    {
     "name": "stdout",
     "output_type": "stream",
     "text": [
      "Category : \n",
      "\n",
      "['FAMILY', 'GAME', 'TOOLS', 'MEDICAL', 'BUSINESS', 'PRODUCTIVITY', 'PERSONALIZATION', 'COMMUNICATION', 'SPORTS', 'LIFESTYLE', 'FINANCE', 'HEALTH_AND_FITNESS', 'PHOTOGRAPHY', 'SOCIAL', 'NEWS_AND_MAGAZINES', 'SHOPPING', 'TRAVEL_AND_LOCAL', 'DATING', 'BOOKS_AND_REFERENCE', 'VIDEO_PLAYERS', 'EDUCATION', 'ENTERTAINMENT', 'MAPS_AND_NAVIGATION', 'FOOD_AND_DRINK', 'HOUSE_AND_HOME', 'LIBRARIES_AND_DEMO', 'AUTO_AND_VEHICLES', 'WEATHER', 'ART_AND_DESIGN', 'EVENTS', 'PARENTING', 'COMICS', 'BEAUTY', '1.9'] \n",
      "\n",
      "Rating : \n",
      "\n",
      "[4.4, 4.3, 4.5, 4.2, 4.6, 4.1, 4.0, 4.7, 3.9, 3.8, 5.0, 3.7, 4.8, 3.6, 3.5, 3.4, 3.3, 4.9, 3.0, 3.1, 3.2, 2.9, 2.8, 2.7, 2.6, 2.5, 2.3, 2.4, 1.0, 2.2, 1.9, 2.0, 1.7, 1.8, 2.1, 1.6, 1.4, 1.5, 1.2, 19.0] \n",
      "\n",
      "Installs : \n",
      "\n",
      "['1,000,000+', '10,000,000+', '100,000+', '10,000+', '1,000+', '5,000,000+', '100+', '500,000+', '50,000+', '5,000+', '100,000,000+', '10+', '500+', '50,000,000+', '50+', '5+', '500,000,000+', '1+', '1,000,000,000+', '0+', '0', 'Free'] \n",
      "\n",
      "Type : \n",
      "\n",
      "['Free', 'Paid', '0'] \n",
      "\n",
      "Price : \n",
      "\n",
      "['0', '$0.99', '$2.99', '$1.99', '$4.99', '$3.99', '$1.49', '$5.99', '$2.49', '$9.99', '$6.99', '$399.99', '$14.99', '$4.49', '$29.99', '$24.99', '$3.49', '$7.99', '$5.49', '$19.99', '$11.99', '$6.49', '$12.99', '$8.99', '$10.00', '$16.99', '$1.00', '$2.00', '$13.99', '$8.49', '$17.99', '$1.70', '$3.95', '$79.99', '$7.49', '$9.00', '$10.99', '$39.99', '$33.99', '$19.40', '$3.90', '$1.96', '$4.60', '$15.46', '$3.04', '$4.29', '$2.60', '$3.28', '$4.80', '$4.59', '$3.08', '$28.99', '$2.95', '$2.90', '$1.97', '$200.00', '$89.99', '$2.56', '$30.99', '$1.20', 'Everyone', '$3.61', '$394.99', '$1.26', '$2.59', '$1.61', '$154.99', '$1.59', '$1.50', '$15.99', '$74.99', '$3.88', '$25.99', '$400.00', '$3.02', '$1.76', '$4.84', '$4.77', '$2.50', '$1.29', '$109.99', '$5.00', '$299.99', '$379.99', '$37.99', '$18.99', '$389.99', '$19.90', '$1.75', '$14.00', '$4.85', '$46.99', '$1.04'] \n",
      "\n",
      "Content Rating : \n",
      "\n",
      "['Everyone', 'Teen', 'Mature 17+', 'Everyone 10+', 'Adults only 18+', 'Unrated'] \n",
      "\n",
      "Genres : \n",
      "\n",
      "['Tools', 'Entertainment', 'Education', 'Medical', 'Business', 'Productivity', 'Sports', 'Personalization', 'Communication', 'Lifestyle', 'Finance', 'Action', 'Health & Fitness', 'Photography', 'Social', 'News & Magazines', 'Shopping', 'Travel & Local', 'Dating', 'Books & Reference', 'Arcade', 'Simulation', 'Casual', 'Video Players & Editors', 'Puzzle', 'Maps & Navigation', 'Food & Drink', 'Role Playing', 'Strategy', 'Racing', 'House & Home', 'Libraries & Demo', 'Auto & Vehicles', 'Weather', 'Adventure', 'Events', 'Comics', 'Art & Design', 'Beauty', 'Education;Education', 'Card', 'Parenting', 'Board', 'Educational;Education', 'Casino', 'Trivia', 'Educational', 'Casual;Pretend Play', 'Word', 'Entertainment;Music & Video', 'Education;Pretend Play', 'Music', 'Casual;Action & Adventure', 'Racing;Action & Adventure', 'Puzzle;Brain Games', 'Educational;Pretend Play', 'Action;Action & Adventure', 'Arcade;Action & Adventure', 'Board;Brain Games', 'Casual;Brain Games', 'Adventure;Action & Adventure', 'Simulation;Action & Adventure', 'Entertainment;Brain Games', 'Parenting;Education', 'Role Playing;Action & Adventure', 'Casual;Creativity', 'Art & Design;Creativity', 'Education;Creativity', 'Education;Action & Adventure', 'Educational;Brain Games', 'Parenting;Music & Video', 'Education;Music & Video', 'Puzzle;Action & Adventure', 'Educational;Creativity', 'Role Playing;Pretend Play', 'Education;Brain Games', 'Educational;Action & Adventure', 'Sports;Action & Adventure', 'Simulation;Pretend Play', 'Casual;Education', 'Music;Music & Video', 'Board;Action & Adventure', 'Video Players & Editors;Music & Video', 'Entertainment;Action & Adventure', 'Simulation;Education', 'Entertainment;Creativity', 'Art & Design;Action & Adventure', 'Books & Reference;Education', 'Card;Action & Adventure', 'Adventure;Education', 'Video Players & Editors;Creativity', 'Entertainment;Pretend Play', 'Casual;Music & Video', 'Puzzle;Creativity', 'Art & Design;Pretend Play', 'Strategy;Action & Adventure', 'February 11, 2018', 'Strategy;Education', 'Trivia;Education', 'Communication;Creativity', 'Role Playing;Brain Games', 'Racing;Pretend Play', 'Role Playing;Education', 'Puzzle;Education', 'Adventure;Brain Games', 'Books & Reference;Creativity', 'Lifestyle;Education', 'Entertainment;Education', 'Health & Fitness;Action & Adventure', 'Parenting;Brain Games', 'Tools;Education', 'Travel & Local;Action & Adventure', 'Board;Pretend Play', 'Health & Fitness;Education', 'Music & Audio;Music & Video', 'Arcade;Pretend Play', 'Card;Brain Games', 'Lifestyle;Pretend Play', 'Comics;Creativity', 'Strategy;Creativity'] \n",
      "\n",
      "Android Ver : \n",
      "\n",
      "['4.1 and up', '4.0.3 and up', '4.0 and up', 'Varies with device', '4.4 and up', '2.3 and up', '5.0 and up', '4.2 and up', '2.3.3 and up', '2.2 and up', '4.3 and up', '3.0 and up', '2.1 and up', '1.6 and up', '6.0 and up', '7.0 and up', '3.2 and up', '2.0 and up', '5.1 and up', '1.5 and up', '4.4W and up', '3.1 and up', '2.0.1 and up', '8.0 and up', '7.1 and up', '4.0.3 - 7.1.1', '5.0 - 8.0', '1.0 and up', '7.0 - 7.1.1', '4.1 - 7.1.1', '5.0 - 6.0', '2.2 - 7.1.1', '5.0 - 7.1.1'] \n",
      "\n"
     ]
    }
   ],
   "source": [
    "vc_columns = ['Category','Rating','Installs','Type','Price','Content Rating','Genres','Android Ver']\n",
    "\n",
    "for col in vc_columns:\n",
    "    print(col, ':', '\\n')\n",
    "    print( df[col].value_counts().index.tolist(), '\\n')"
   ]
  },
  {
   "cell_type": "markdown",
   "id": "b4e0713a-d5f7-4546-b6b5-f2ed4db248f9",
   "metadata": {
    "jp-MarkdownHeadingCollapsed": true
   },
   "source": [
    "## Top 5 unique values of each features"
   ]
  },
  {
   "cell_type": "code",
   "execution_count": 9,
   "id": "b6f77375-d54f-42d4-acee-e50c48554f95",
   "metadata": {},
   "outputs": [
    {
     "name": "stdout",
     "output_type": "stream",
     "text": [
      "--- Top 5 Value Counts for Column: App ---\n",
      "App\n",
      "ROBLOX                                               9\n",
      "CBS Sports App - Scores, News, Stats & Watch Live    8\n",
      "ESPN                                                 7\n",
      "Duolingo: Learn Languages Free                       7\n",
      "Candy Crush Saga                                     7\n",
      "Name: count, dtype: int64\n",
      "\n",
      "\n",
      "--- Top 5 Value Counts for Column: Category ---\n",
      "Category\n",
      "FAMILY      1972\n",
      "GAME        1144\n",
      "TOOLS        843\n",
      "MEDICAL      463\n",
      "BUSINESS     460\n",
      "Name: count, dtype: int64\n",
      "\n",
      "\n",
      "--- Top 5 Value Counts for Column: Rating ---\n",
      "Rating\n",
      "4.400    1109\n",
      "4.300    1076\n",
      "4.500    1038\n",
      "4.200     952\n",
      "4.600     823\n",
      "Name: count, dtype: int64\n",
      "\n",
      "\n",
      "--- Top 5 Value Counts for Column: Reviews ---\n",
      "Reviews\n",
      "0    596\n",
      "1    272\n",
      "2    214\n",
      "3    175\n",
      "4    137\n",
      "Name: count, dtype: int64\n",
      "\n",
      "\n",
      "--- Top 5 Value Counts for Column: Size ---\n",
      "Size\n",
      "Varies with device    1695\n",
      "11M                    198\n",
      "12M                    196\n",
      "14M                    194\n",
      "13M                    191\n",
      "Name: count, dtype: int64\n",
      "\n",
      "\n",
      "--- Top 5 Value Counts for Column: Installs ---\n",
      "Installs\n",
      "1,000,000+     1579\n",
      "10,000,000+    1252\n",
      "100,000+       1169\n",
      "10,000+        1054\n",
      "1,000+          907\n",
      "Name: count, dtype: int64\n",
      "\n",
      "\n",
      "--- Top 5 Value Counts for Column: Type ---\n",
      "Type\n",
      "Free    10039\n",
      "Paid      800\n",
      "0           1\n",
      "Name: count, dtype: int64\n",
      "\n",
      "\n",
      "--- Top 5 Value Counts for Column: Price ---\n",
      "Price\n",
      "0        10040\n",
      "$0.99      148\n",
      "$2.99      129\n",
      "$1.99       73\n",
      "$4.99       72\n",
      "Name: count, dtype: int64\n",
      "\n",
      "\n",
      "--- Top 5 Value Counts for Column: Content Rating ---\n",
      "Content Rating\n",
      "Everyone           8714\n",
      "Teen               1208\n",
      "Mature 17+          499\n",
      "Everyone 10+        414\n",
      "Adults only 18+       3\n",
      "Name: count, dtype: int64\n",
      "\n",
      "\n",
      "--- Top 5 Value Counts for Column: Genres ---\n",
      "Genres\n",
      "Tools            842\n",
      "Entertainment    623\n",
      "Education        549\n",
      "Medical          463\n",
      "Business         460\n",
      "Name: count, dtype: int64\n",
      "\n",
      "\n",
      "--- Top 5 Value Counts for Column: Last Updated ---\n",
      "Last Updated\n",
      "August 3, 2018    326\n",
      "August 2, 2018    304\n",
      "July 31, 2018     294\n",
      "August 1, 2018    285\n",
      "July 30, 2018     211\n",
      "Name: count, dtype: int64\n",
      "\n",
      "\n",
      "--- Top 5 Value Counts for Column: Current Ver ---\n",
      "Current Ver\n",
      "Varies with device    1459\n",
      "1.0                    809\n",
      "1.1                    264\n",
      "1.2                    178\n",
      "2.0                    151\n",
      "Name: count, dtype: int64\n",
      "\n",
      "\n",
      "--- Top 5 Value Counts for Column: Android Ver ---\n",
      "Android Ver\n",
      "4.1 and up            2451\n",
      "4.0.3 and up          1501\n",
      "4.0 and up            1375\n",
      "Varies with device    1362\n",
      "4.4 and up             980\n",
      "Name: count, dtype: int64\n",
      "\n",
      "\n"
     ]
    }
   ],
   "source": [
    "def analyze_column_value_counts(df, column_name, top_n=5):\n",
    "    \"\"\"\n",
    "    Provides the top N value counts for a specified column in a DataFrame,\n",
    "    handling potential errors for non-categorical columns.\n",
    "    \"\"\"\n",
    "    print(f\"--- Top {top_n} Value Counts for Column: {column_name} ---\")\n",
    "    try:\n",
    "        top_values = df[column_name].value_counts().head(top_n)\n",
    "        print(top_values)\n",
    "    except TypeError:\n",
    "        print(f\"Cannot calculate value counts for this column (likely numeric or other non-categorical type).\")\n",
    "    except Exception as e:\n",
    "        print(f\"An error occurred: {e}\")\n",
    "    print(\"\\n\") # Line break\n",
    "\n",
    "# List of columns to analyze\n",
    "columns_to_analyze = df.columns\n",
    "\n",
    "# Iterate through each column and perform the analysis\n",
    "for column in columns_to_analyze:\n",
    "    analyze_column_value_counts(df, column, top_n=5)"
   ]
  },
  {
   "cell_type": "markdown",
   "id": "21166bba-df36-4d75-ae57-659a0966e57a",
   "metadata": {
    "jp-MarkdownHeadingCollapsed": true
   },
   "source": [
    "## Unique data types of each features including NaN"
   ]
  },
  {
   "cell_type": "code",
   "execution_count": 10,
   "id": "a5f6a0c1-a1c4-4181-b41f-3ff83218f34e",
   "metadata": {
    "scrolled": true
   },
   "outputs": [
    {
     "name": "stdout",
     "output_type": "stream",
     "text": [
      "--- Analysis for Column: App ---\n",
      "Data Type: <class 'str'>, Count: 10841\n",
      "\n",
      "\n",
      "--- Analysis for Column: Category ---\n",
      "Data Type: <class 'str'>, Count: 10841\n",
      "\n",
      "\n",
      "--- Analysis for Column: Rating ---\n",
      "Data Type: <class 'float'>, Count: 9367\n",
      "Data Type: nan, Count: 1474\n",
      "\n",
      "\n",
      "--- Analysis for Column: Reviews ---\n",
      "Data Type: <class 'str'>, Count: 10841\n",
      "\n",
      "\n",
      "--- Analysis for Column: Size ---\n",
      "Data Type: <class 'str'>, Count: 10841\n",
      "\n",
      "\n",
      "--- Analysis for Column: Installs ---\n",
      "Data Type: <class 'str'>, Count: 10841\n",
      "\n",
      "\n",
      "--- Analysis for Column: Type ---\n",
      "Data Type: <class 'str'>, Count: 10840\n",
      "Data Type: nan, Count: 1\n",
      "\n",
      "\n",
      "--- Analysis for Column: Price ---\n",
      "Data Type: <class 'str'>, Count: 10841\n",
      "\n",
      "\n",
      "--- Analysis for Column: Content Rating ---\n",
      "Data Type: <class 'str'>, Count: 10840\n",
      "Data Type: nan, Count: 1\n",
      "\n",
      "\n",
      "--- Analysis for Column: Genres ---\n",
      "Data Type: <class 'str'>, Count: 10841\n",
      "\n",
      "\n",
      "--- Analysis for Column: Last Updated ---\n",
      "Data Type: <class 'str'>, Count: 10841\n",
      "\n",
      "\n",
      "--- Analysis for Column: Current Ver ---\n",
      "Data Type: <class 'str'>, Count: 10833\n",
      "Data Type: nan, Count: 8\n",
      "\n",
      "\n",
      "--- Analysis for Column: Android Ver ---\n",
      "Data Type: <class 'str'>, Count: 10838\n",
      "Data Type: nan, Count: 3\n",
      "\n",
      "\n"
     ]
    }
   ],
   "source": [
    "def analyze_column_data_types(df, column_name):\n",
    "    \"\"\"\n",
    "    Scans through all values in a DataFrame column, identifies their data types,\n",
    "    and provides unique data types with their counts, including NaN.\n",
    "    \"\"\"\n",
    "    data_types = {}\n",
    "    for value in df[column_name]:\n",
    "        data_type = type(value)\n",
    "        if pd.isna(value):\n",
    "            data_type = 'nan'\n",
    "        else:\n",
    "            data_type = str(data_type)  # Convert to string for consistent counting\n",
    "        data_types[data_type] = data_types.get(data_type, 0) + 1\n",
    "\n",
    "    print(f\"--- Analysis for Column: {column_name} ---\")\n",
    "    for dtype, count in data_types.items():\n",
    "        print(f\"Data Type: {dtype}, Count: {count}\")\n",
    "    print(\"\\n\") # Line break\n",
    "\n",
    "# List of columns to analyze\n",
    "columns_to_analyze = df.columns\n",
    "\n",
    "# Iterate through each column and perform the analysis\n",
    "for column in columns_to_analyze:\n",
    "    analyze_column_data_types(df, column)"
   ]
  },
  {
   "cell_type": "markdown",
   "id": "cd437f63-94c7-4333-9a45-53c2a2bda729",
   "metadata": {
    "jp-MarkdownHeadingCollapsed": true
   },
   "source": [
    "## iloc"
   ]
  },
  {
   "cell_type": "code",
   "execution_count": 11,
   "id": "b67821b1-e3c6-46cb-9fe2-9acd93b1e458",
   "metadata": {},
   "outputs": [
    {
     "data": {
      "text/html": [
       "<div>\n",
       "<style scoped>\n",
       "    .dataframe tbody tr th:only-of-type {\n",
       "        vertical-align: middle;\n",
       "    }\n",
       "\n",
       "    .dataframe tbody tr th {\n",
       "        vertical-align: top;\n",
       "    }\n",
       "\n",
       "    .dataframe thead th {\n",
       "        text-align: right;\n",
       "    }\n",
       "</style>\n",
       "<table border=\"1\" class=\"dataframe\">\n",
       "  <thead>\n",
       "    <tr style=\"text-align: right;\">\n",
       "      <th></th>\n",
       "      <th>App</th>\n",
       "      <th>Category</th>\n",
       "      <th>Rating</th>\n",
       "      <th>Reviews</th>\n",
       "      <th>Size</th>\n",
       "      <th>Installs</th>\n",
       "      <th>Type</th>\n",
       "      <th>Price</th>\n",
       "      <th>Content Rating</th>\n",
       "      <th>Genres</th>\n",
       "      <th>Last Updated</th>\n",
       "      <th>Current Ver</th>\n",
       "      <th>Android Ver</th>\n",
       "    </tr>\n",
       "  </thead>\n",
       "  <tbody>\n",
       "    <tr>\n",
       "      <th>10474</th>\n",
       "      <td>Sat-Fi Voice</td>\n",
       "      <td>COMMUNICATION</td>\n",
       "      <td>3.400</td>\n",
       "      <td>37</td>\n",
       "      <td>14M</td>\n",
       "      <td>1,000+</td>\n",
       "      <td>Free</td>\n",
       "      <td>0</td>\n",
       "      <td>Everyone</td>\n",
       "      <td>Communication</td>\n",
       "      <td>November 21, 2014</td>\n",
       "      <td>2.2.1.5</td>\n",
       "      <td>2.2 and up</td>\n",
       "    </tr>\n",
       "    <tr>\n",
       "      <th>10475</th>\n",
       "      <td>Wi-Fi Visualizer</td>\n",
       "      <td>TOOLS</td>\n",
       "      <td>3.900</td>\n",
       "      <td>132</td>\n",
       "      <td>2.6M</td>\n",
       "      <td>50,000+</td>\n",
       "      <td>Free</td>\n",
       "      <td>0</td>\n",
       "      <td>Everyone</td>\n",
       "      <td>Tools</td>\n",
       "      <td>May 17, 2017</td>\n",
       "      <td>0.0.9</td>\n",
       "      <td>2.3 and up</td>\n",
       "    </tr>\n",
       "    <tr>\n",
       "      <th>10476</th>\n",
       "      <td>Lennox iComfort Wi-Fi</td>\n",
       "      <td>LIFESTYLE</td>\n",
       "      <td>3.000</td>\n",
       "      <td>552</td>\n",
       "      <td>7.6M</td>\n",
       "      <td>50,000+</td>\n",
       "      <td>Free</td>\n",
       "      <td>0</td>\n",
       "      <td>Everyone</td>\n",
       "      <td>Lifestyle</td>\n",
       "      <td>March 22, 2017</td>\n",
       "      <td>2.0.15</td>\n",
       "      <td>2.3.3 and up</td>\n",
       "    </tr>\n",
       "    <tr>\n",
       "      <th>10477</th>\n",
       "      <td>Sci-Fi Sounds and Ringtones</td>\n",
       "      <td>PERSONALIZATION</td>\n",
       "      <td>3.600</td>\n",
       "      <td>128</td>\n",
       "      <td>11M</td>\n",
       "      <td>10,000+</td>\n",
       "      <td>Free</td>\n",
       "      <td>0</td>\n",
       "      <td>Everyone</td>\n",
       "      <td>Personalization</td>\n",
       "      <td>September 27, 2017</td>\n",
       "      <td>4.0</td>\n",
       "      <td>4.0 and up</td>\n",
       "    </tr>\n",
       "    <tr>\n",
       "      <th>10478</th>\n",
       "      <td>Sci Fi Sounds</td>\n",
       "      <td>FAMILY</td>\n",
       "      <td>3.200</td>\n",
       "      <td>4</td>\n",
       "      <td>8.0M</td>\n",
       "      <td>1,000+</td>\n",
       "      <td>Free</td>\n",
       "      <td>0</td>\n",
       "      <td>Everyone</td>\n",
       "      <td>Entertainment</td>\n",
       "      <td>November 2, 2017</td>\n",
       "      <td>1.0</td>\n",
       "      <td>4.0 and up</td>\n",
       "    </tr>\n",
       "    <tr>\n",
       "      <th>10479</th>\n",
       "      <td>Free Wi-fi HotspoT</td>\n",
       "      <td>COMMUNICATION</td>\n",
       "      <td>4.100</td>\n",
       "      <td>382</td>\n",
       "      <td>2.3M</td>\n",
       "      <td>50,000+</td>\n",
       "      <td>Free</td>\n",
       "      <td>0</td>\n",
       "      <td>Everyone</td>\n",
       "      <td>Communication</td>\n",
       "      <td>July 20, 2018</td>\n",
       "      <td>2.5</td>\n",
       "      <td>4.0 and up</td>\n",
       "    </tr>\n",
       "    <tr>\n",
       "      <th>10480</th>\n",
       "      <td>FJ 4x4 Cruiser Offroad Driving</td>\n",
       "      <td>FAMILY</td>\n",
       "      <td>4.100</td>\n",
       "      <td>3543</td>\n",
       "      <td>49M</td>\n",
       "      <td>500,000+</td>\n",
       "      <td>Free</td>\n",
       "      <td>0</td>\n",
       "      <td>Everyone</td>\n",
       "      <td>Simulation</td>\n",
       "      <td>January 4, 2017</td>\n",
       "      <td>1.1</td>\n",
       "      <td>2.3 and up</td>\n",
       "    </tr>\n",
       "  </tbody>\n",
       "</table>\n",
       "</div>"
      ],
      "text/plain": [
       "                                  App         Category  Rating Reviews  Size  \\\n",
       "10474                    Sat-Fi Voice    COMMUNICATION   3.400      37   14M   \n",
       "10475                Wi-Fi Visualizer            TOOLS   3.900     132  2.6M   \n",
       "10476           Lennox iComfort Wi-Fi        LIFESTYLE   3.000     552  7.6M   \n",
       "10477     Sci-Fi Sounds and Ringtones  PERSONALIZATION   3.600     128   11M   \n",
       "10478                   Sci Fi Sounds           FAMILY   3.200       4  8.0M   \n",
       "10479              Free Wi-fi HotspoT    COMMUNICATION   4.100     382  2.3M   \n",
       "10480  FJ 4x4 Cruiser Offroad Driving           FAMILY   4.100    3543   49M   \n",
       "\n",
       "       Installs  Type Price Content Rating           Genres  \\\n",
       "10474    1,000+  Free     0       Everyone    Communication   \n",
       "10475   50,000+  Free     0       Everyone            Tools   \n",
       "10476   50,000+  Free     0       Everyone        Lifestyle   \n",
       "10477   10,000+  Free     0       Everyone  Personalization   \n",
       "10478    1,000+  Free     0       Everyone    Entertainment   \n",
       "10479   50,000+  Free     0       Everyone    Communication   \n",
       "10480  500,000+  Free     0       Everyone       Simulation   \n",
       "\n",
       "             Last Updated Current Ver   Android Ver  \n",
       "10474   November 21, 2014     2.2.1.5    2.2 and up  \n",
       "10475        May 17, 2017       0.0.9    2.3 and up  \n",
       "10476      March 22, 2017      2.0.15  2.3.3 and up  \n",
       "10477  September 27, 2017         4.0    4.0 and up  \n",
       "10478    November 2, 2017         1.0    4.0 and up  \n",
       "10479       July 20, 2018         2.5    4.0 and up  \n",
       "10480     January 4, 2017         1.1    2.3 and up  "
      ]
     },
     "execution_count": 11,
     "metadata": {},
     "output_type": "execute_result"
    }
   ],
   "source": [
    "df.iloc[10474: 10481]"
   ]
  },
  {
   "cell_type": "code",
   "execution_count": 12,
   "id": "23efc67a-2696-4682-a861-4644b25b3920",
   "metadata": {},
   "outputs": [
    {
     "data": {
      "text/html": [
       "<div>\n",
       "<style scoped>\n",
       "    .dataframe tbody tr th:only-of-type {\n",
       "        vertical-align: middle;\n",
       "    }\n",
       "\n",
       "    .dataframe tbody tr th {\n",
       "        vertical-align: top;\n",
       "    }\n",
       "\n",
       "    .dataframe thead th {\n",
       "        text-align: right;\n",
       "    }\n",
       "</style>\n",
       "<table border=\"1\" class=\"dataframe\">\n",
       "  <thead>\n",
       "    <tr style=\"text-align: right;\">\n",
       "      <th></th>\n",
       "      <th>App</th>\n",
       "      <th>Category</th>\n",
       "      <th>Rating</th>\n",
       "      <th>Reviews</th>\n",
       "      <th>Size</th>\n",
       "      <th>Installs</th>\n",
       "      <th>Type</th>\n",
       "      <th>Price</th>\n",
       "      <th>Content Rating</th>\n",
       "      <th>Genres</th>\n",
       "      <th>Last Updated</th>\n",
       "      <th>Current Ver</th>\n",
       "      <th>Android Ver</th>\n",
       "    </tr>\n",
       "  </thead>\n",
       "  <tbody>\n",
       "    <tr>\n",
       "      <th>10472</th>\n",
       "      <td>Life Made WI-Fi Touchscreen Photo Frame</td>\n",
       "      <td>1.9</td>\n",
       "      <td>19.000</td>\n",
       "      <td>3.0M</td>\n",
       "      <td>1,000+</td>\n",
       "      <td>Free</td>\n",
       "      <td>0</td>\n",
       "      <td>Everyone</td>\n",
       "      <td>NaN</td>\n",
       "      <td>February 11, 2018</td>\n",
       "      <td>1.0.19</td>\n",
       "      <td>4.0 and up</td>\n",
       "      <td>NaN</td>\n",
       "    </tr>\n",
       "  </tbody>\n",
       "</table>\n",
       "</div>"
      ],
      "text/plain": [
       "                                           App Category  Rating Reviews  \\\n",
       "10472  Life Made WI-Fi Touchscreen Photo Frame      1.9  19.000    3.0M   \n",
       "\n",
       "         Size Installs Type     Price Content Rating             Genres  \\\n",
       "10472  1,000+     Free    0  Everyone            NaN  February 11, 2018   \n",
       "\n",
       "      Last Updated Current Ver Android Ver  \n",
       "10472       1.0.19  4.0 and up         NaN  "
      ]
     },
     "execution_count": 12,
     "metadata": {},
     "output_type": "execute_result"
    }
   ],
   "source": [
    "df.iloc[10472:10473]"
   ]
  },
  {
   "cell_type": "code",
   "execution_count": 13,
   "id": "07fb47a7-0884-4f8a-a8a2-0e684bf5cc87",
   "metadata": {},
   "outputs": [
    {
     "data": {
      "text/plain": [
       "App               Life Made WI-Fi Touchscreen Photo Frame\n",
       "Category                                              1.9\n",
       "Rating                                             19.000\n",
       "Reviews                                              3.0M\n",
       "Size                                               1,000+\n",
       "Installs                                             Free\n",
       "Type                                                    0\n",
       "Price                                            Everyone\n",
       "Content Rating                                        NaN\n",
       "Genres                                  February 11, 2018\n",
       "Last Updated                                       1.0.19\n",
       "Current Ver                                    4.0 and up\n",
       "Android Ver                                           NaN\n",
       "Name: 10472, dtype: object"
      ]
     },
     "execution_count": 13,
     "metadata": {},
     "output_type": "execute_result"
    }
   ],
   "source": [
    "df.iloc[10472]"
   ]
  },
  {
   "cell_type": "markdown",
   "id": "1b42280d-5903-46c9-a26e-16031eabfdcf",
   "metadata": {
    "jp-MarkdownHeadingCollapsed": true
   },
   "source": [
    "## Remove row containing outliers"
   ]
  },
  {
   "cell_type": "code",
   "execution_count": 14,
   "id": "88a8fef7-684d-4a7e-9de2-1307c4d09f9c",
   "metadata": {},
   "outputs": [
    {
     "data": {
      "text/html": [
       "<div>\n",
       "<style scoped>\n",
       "    .dataframe tbody tr th:only-of-type {\n",
       "        vertical-align: middle;\n",
       "    }\n",
       "\n",
       "    .dataframe tbody tr th {\n",
       "        vertical-align: top;\n",
       "    }\n",
       "\n",
       "    .dataframe thead th {\n",
       "        text-align: right;\n",
       "    }\n",
       "</style>\n",
       "<table border=\"1\" class=\"dataframe\">\n",
       "  <thead>\n",
       "    <tr style=\"text-align: right;\">\n",
       "      <th></th>\n",
       "      <th>Rating</th>\n",
       "    </tr>\n",
       "  </thead>\n",
       "  <tbody>\n",
       "    <tr>\n",
       "      <th>count</th>\n",
       "      <td>9367.000</td>\n",
       "    </tr>\n",
       "    <tr>\n",
       "      <th>mean</th>\n",
       "      <td>4.193</td>\n",
       "    </tr>\n",
       "    <tr>\n",
       "      <th>std</th>\n",
       "      <td>0.537</td>\n",
       "    </tr>\n",
       "    <tr>\n",
       "      <th>min</th>\n",
       "      <td>1.000</td>\n",
       "    </tr>\n",
       "    <tr>\n",
       "      <th>25%</th>\n",
       "      <td>4.000</td>\n",
       "    </tr>\n",
       "    <tr>\n",
       "      <th>50%</th>\n",
       "      <td>4.300</td>\n",
       "    </tr>\n",
       "    <tr>\n",
       "      <th>75%</th>\n",
       "      <td>4.500</td>\n",
       "    </tr>\n",
       "    <tr>\n",
       "      <th>max</th>\n",
       "      <td>19.000</td>\n",
       "    </tr>\n",
       "  </tbody>\n",
       "</table>\n",
       "</div>"
      ],
      "text/plain": [
       "        Rating\n",
       "count 9367.000\n",
       "mean     4.193\n",
       "std      0.537\n",
       "min      1.000\n",
       "25%      4.000\n",
       "50%      4.300\n",
       "75%      4.500\n",
       "max     19.000"
      ]
     },
     "execution_count": 14,
     "metadata": {},
     "output_type": "execute_result"
    }
   ],
   "source": [
    "# max is 19.000000 which seems extreme value\n",
    "# Outliers / Anomalies / Extreme values / Aberrant data points / Contaminants / Noise / Irregularities / Rogue\n",
    "\n",
    "df.describe()"
   ]
  },
  {
   "cell_type": "code",
   "execution_count": 15,
   "id": "69d6ac63-8367-447a-8e34-652f52afdfda",
   "metadata": {},
   "outputs": [
    {
     "data": {
      "text/plain": [
       "Rating\n",
       "19.000    1\n",
       "1.200     1\n",
       "1.400     3\n",
       "1.500     3\n",
       "1.600     4\n",
       "Name: count, dtype: int64"
      ]
     },
     "execution_count": 15,
     "metadata": {},
     "output_type": "execute_result"
    }
   ],
   "source": [
    "df['Rating'].value_counts().sort_values(ascending=True).head(5)"
   ]
  },
  {
   "cell_type": "code",
   "execution_count": 16,
   "id": "61236c0a-74da-46bb-976d-ac70b0468a54",
   "metadata": {},
   "outputs": [
    {
     "name": "stdout",
     "output_type": "stream",
     "text": [
      "[19.0, 1.2, 1.4, 1.5, 1.6, 2.1, 1.8, 1.7, 2.0, 1.9, 2.2, 1.0, 2.4, 2.3, 2.5, 2.6, 2.7, 2.8, 2.9, 3.2, 3.1, 3.0, 4.9, 3.3, 3.4, 3.5, 3.6, 4.8, 3.7, 5.0, 3.8, 3.9, 4.7, 4.0, 4.1, 4.6, 4.2, 4.5, 4.3, 4.4]\n"
     ]
    }
   ],
   "source": [
    "# It is clear that 19.0 is extreme value and we have to remove it\n",
    "\n",
    "print( \n",
    "    df['Rating'].value_counts().sort_values(ascending=True).index.tolist() \n",
    ")"
   ]
  },
  {
   "cell_type": "code",
   "execution_count": 17,
   "id": "dfb90893-e0c4-400c-9965-1dd49c593862",
   "metadata": {},
   "outputs": [
    {
     "name": "stdout",
     "output_type": "stream",
     "text": [
      "Index([10472], dtype='int64')\n"
     ]
    }
   ],
   "source": [
    "# Find the index of extreme value 19.0\n",
    "\n",
    "index_to_drop = df[df['Rating'] == 19].index\n",
    "print(index_to_drop)"
   ]
  },
  {
   "cell_type": "code",
   "execution_count": 18,
   "id": "0cfd1d67-c7f7-4e10-8776-cc61a33ff208",
   "metadata": {},
   "outputs": [
    {
     "name": "stdout",
     "output_type": "stream",
     "text": [
      "Empty DataFrame\n",
      "Columns: [App, Category, Rating, Reviews, Size, Installs, Type, Price, Content Rating, Genres, Last Updated, Current Ver, Android Ver]\n",
      "Index: []\n"
     ]
    }
   ],
   "source": [
    "# df.drop(10472, axis=0, inplace=True)\n",
    "# df = df.drop(index_to_drop)\n",
    "\n",
    "df.drop(index_to_drop, axis=0, inplace=True)\n",
    "print(df[df['Rating'] == 19])"
   ]
  },
  {
   "cell_type": "code",
   "execution_count": 19,
   "id": "a4ab97e2-0b5e-405c-8f6f-1aaa92679290",
   "metadata": {},
   "outputs": [
    {
     "data": {
      "text/html": [
       "<div>\n",
       "<style scoped>\n",
       "    .dataframe tbody tr th:only-of-type {\n",
       "        vertical-align: middle;\n",
       "    }\n",
       "\n",
       "    .dataframe tbody tr th {\n",
       "        vertical-align: top;\n",
       "    }\n",
       "\n",
       "    .dataframe thead th {\n",
       "        text-align: right;\n",
       "    }\n",
       "</style>\n",
       "<table border=\"1\" class=\"dataframe\">\n",
       "  <thead>\n",
       "    <tr style=\"text-align: right;\">\n",
       "      <th></th>\n",
       "      <th>Rating</th>\n",
       "    </tr>\n",
       "  </thead>\n",
       "  <tbody>\n",
       "    <tr>\n",
       "      <th>count</th>\n",
       "      <td>9366.000</td>\n",
       "    </tr>\n",
       "    <tr>\n",
       "      <th>mean</th>\n",
       "      <td>4.192</td>\n",
       "    </tr>\n",
       "    <tr>\n",
       "      <th>std</th>\n",
       "      <td>0.515</td>\n",
       "    </tr>\n",
       "    <tr>\n",
       "      <th>min</th>\n",
       "      <td>1.000</td>\n",
       "    </tr>\n",
       "    <tr>\n",
       "      <th>25%</th>\n",
       "      <td>4.000</td>\n",
       "    </tr>\n",
       "    <tr>\n",
       "      <th>50%</th>\n",
       "      <td>4.300</td>\n",
       "    </tr>\n",
       "    <tr>\n",
       "      <th>75%</th>\n",
       "      <td>4.500</td>\n",
       "    </tr>\n",
       "    <tr>\n",
       "      <th>max</th>\n",
       "      <td>5.000</td>\n",
       "    </tr>\n",
       "  </tbody>\n",
       "</table>\n",
       "</div>"
      ],
      "text/plain": [
       "        Rating\n",
       "count 9366.000\n",
       "mean     4.192\n",
       "std      0.515\n",
       "min      1.000\n",
       "25%      4.000\n",
       "50%      4.300\n",
       "75%      4.500\n",
       "max      5.000"
      ]
     },
     "execution_count": 19,
     "metadata": {},
     "output_type": "execute_result"
    }
   ],
   "source": [
    "# Now max is 5 which seems to correct.\n",
    "\n",
    "df.describe()"
   ]
  },
  {
   "cell_type": "markdown",
   "id": "8472d13b-54b8-4ae3-9de3-2c8ab05fa777",
   "metadata": {
    "jp-MarkdownHeadingCollapsed": true
   },
   "source": [
    "## Functions to test data types conversion"
   ]
  },
  {
   "cell_type": "code",
   "execution_count": 20,
   "id": "d3c3c8c9-f869-4b59-b0b3-71b8c9eb7594",
   "metadata": {},
   "outputs": [],
   "source": [
    "import pandas as pd\n",
    "\n",
    "def test_to_integer_conversion(series):\n",
    "    integer_series = pd.to_numeric(series, errors='coerce', downcast='integer')\n",
    "    successful_conversions = integer_series.count()\n",
    "    failed_conversions = integer_series.isnull().sum()\n",
    "    print(f\"Integer Conversion Test:\")\n",
    "    print(f\"  Number of successful conversions: {successful_conversions}\")\n",
    "    print(f\"  Number of failed conversions (NaN): {failed_conversions}\")\n",
    "    return integer_series\n",
    "\n",
    "def test_to_float_conversion(series):\n",
    "    float_series = pd.to_numeric(series, errors='coerce', downcast='float')\n",
    "    successful_conversions = float_series.count()\n",
    "    failed_conversions = float_series.isnull().sum()\n",
    "    print(f\"Float Conversion Test:\")\n",
    "    print(f\"  Number of successful conversions: {successful_conversions}\")\n",
    "    print(f\"  Number of failed conversions (NaN): {failed_conversions}\")\n",
    "    return float_series\n",
    "\n",
    "def test_to_date_conversion(series, date_format=None):\n",
    "    date_series = pd.to_datetime(series, errors='coerce', format=date_format).dt.date\n",
    "    successful_conversions = date_series.count()\n",
    "    failed_conversions = date_series.isnull().sum()\n",
    "    print(f\"Date Conversion Test:\")\n",
    "    print(f\"  Number of successful conversions: {successful_conversions}\")\n",
    "    print(f\"  Number of failed conversions (NaT): {failed_conversions}\")\n",
    "    return date_series\n",
    "\n",
    "def test_to_datetime_conversion(series, datetime_format=None):\n",
    "    datetime_series = pd.to_datetime(series, errors='coerce', format=datetime_format)\n",
    "    successful_conversions = datetime_series.count()\n",
    "    failed_conversions = datetime_series.isnull().sum()\n",
    "    print(f\"Datetime Conversion Test:\")\n",
    "    print(f\"  Number of successful conversions: {successful_conversions}\")\n",
    "    print(f\"  Number of failed conversions (NaT): {failed_conversions}\")\n",
    "    return datetime_series\n",
    "\n",
    "# Example usage with DataFrame 'df':\n",
    "# Assuming 'df' have columns named 'Reviews', 'Price', 'Timestamp', and 'Date'\n",
    "    \n",
    "# reviews_int_test = test_to_integer_conversion(df['Reviews'])\n",
    "\n",
    "# price_float_test = test_to_float_conversion(df['Price'])\n",
    "\n",
    "# date_test = test_to_date_conversion(df['Date'])\n",
    "# # date_test_specific_format = test_to_date_conversion(df['Date'], date_format='%m/%d/%Y')\n",
    "\n",
    "# datetime_test = test_to_datetime_conversion(df['Timestamp'])\n",
    "# # datetime_test_specific_format = test_to_datetime_conversion(df['Timestamp'], datetime_format='%Y-%m-%d %H:%M:%S')"
   ]
  },
  {
   "cell_type": "code",
   "execution_count": 21,
   "id": "942dea30-1a5f-4dbc-8fd5-f2fb3c3c37dd",
   "metadata": {},
   "outputs": [],
   "source": [
    "import pandas as pd\n",
    "\n",
    "def test_integer_conversion_with_error_handling(series):\n",
    "    try:\n",
    "        # Attempt direct conversion using astype('int')\n",
    "        integer_series = series.astype('int')\n",
    "        print(\"Direct integer conversion using astype('int') was successful.\")\n",
    "        return integer_series\n",
    "    except ValueError as e:\n",
    "        print(f\"Error during direct integer conversion (astype('int')): {e}\")\n",
    "        print(\"\\nAttempting conversion using pd.to_numeric with 'coerce' to handle errors.\")\n",
    "        numeric_series = pd.to_numeric(series, errors='coerce', downcast='integer')\n",
    "        nan_count = numeric_series.isnull().sum()\n",
    "        total_count = len(numeric_series)\n",
    "        nan_percentage = (nan_count / total_count) * 100 if total_count > 0 else 0\n",
    "\n",
    "        print(f\"Number of NaN values after conversion with 'coerce': {nan_count}\")\n",
    "        print(f\"Total number of values: {total_count}\")\n",
    "        print(f\"Percentage of NaN values: {nan_percentage:.2f}%\")\n",
    "        print(\"\\nIf you proceed with this conversion, these NaN values will replace the original non-convertible entries.\")\n",
    "        return numeric_series\n",
    "\n",
    "def test_float_conversion_with_error_handling(series):\n",
    "    try:\n",
    "        # Attempt direct conversion using astype('float')\n",
    "        float_series = series.astype('float')\n",
    "        print(\"Direct float conversion using astype('float') was successful.\")\n",
    "        return float_series\n",
    "    except ValueError as e:\n",
    "        print(f\"Error during direct float conversion (astype('float')): {e}\")\n",
    "        print(\"\\nAttempting conversion using pd.to_numeric with 'coerce' to handle errors.\")\n",
    "        numeric_series = pd.to_numeric(series, errors='coerce', downcast='float')\n",
    "        nan_count = numeric_series.isnull().sum()\n",
    "        total_count = len(numeric_series)\n",
    "        nan_percentage = (nan_count / total_count) * 100 if total_count > 0 else 0\n",
    "\n",
    "        print(f\"Number of NaN values after conversion with 'coerce': {nan_count}\")\n",
    "        print(f\"Total number of values: {total_count}\")\n",
    "        print(f\"Percentage of NaN values: {nan_percentage:.2f}%\")\n",
    "        print(\"\\nIf you proceed with this conversion, these NaN values will replace the original non-convertible entries.\")\n",
    "        return numeric_series\n",
    "\n",
    "def test_datetime_conversion_with_error_handling(series, datetime_format=None):\n",
    "    try:\n",
    "        # Attempt direct conversion using pd.to_datetime\n",
    "        datetime_series = pd.to_datetime(series)\n",
    "        print(\"Direct datetime conversion using pd.to_datetime was successful.\")\n",
    "        return datetime_series\n",
    "    except ValueError as e:\n",
    "        print(f\"Error during direct datetime conversion (pd.to_datetime): {e}\")\n",
    "        print(\"\\nAttempting conversion using pd.to_datetime with 'coerce'.\")\n",
    "        datetime_series = pd.to_datetime(series, errors='coerce', format=datetime_format)\n",
    "        nat_count = datetime_series.isna().sum()\n",
    "        total_count = len(datetime_series)\n",
    "        nat_percentage = (nat_count / total_count) * 100 if total_count > 0 else 0\n",
    "\n",
    "        print(f\"Number of NaT values after conversion with 'coerce': {nat_count}\")\n",
    "        print(f\"Total number of values: {total_count}\")\n",
    "        print(f\"Percentage of NaT values: {nat_percentage:.2f}%\")\n",
    "        print(\"\\nIf you proceed with this conversion, these NaT values will replace the original non-convertible entries.\")\n",
    "        return datetime_series\n",
    "\n",
    "def test_date_conversion_with_error_handling(series, date_format=None):\n",
    "    try:\n",
    "        # Attempt direct conversion using pd.to_datetime and .dt.date\n",
    "        date_series = pd.to_datetime(series).dt.date\n",
    "        print(\"Direct date conversion using pd.to_datetime().dt.date was successful.\")\n",
    "        return date_series\n",
    "    except ValueError as e:\n",
    "        print(f\"Error during direct date conversion (pd.to_datetime().dt.date): {e}\")\n",
    "        print(\"\\nAttempting conversion using pd.to_datetime with 'coerce' and extracting date.\")\n",
    "        date_series = pd.to_datetime(series, errors='coerce', format=date_format).dt.date\n",
    "        nat_count = date_series.isna().sum()\n",
    "        total_count = len(date_series)\n",
    "        nat_percentage = (nat_count / total_count) * 100 if total_count > 0 else 0\n",
    "\n",
    "        print(f\"Number of NaT values after conversion with 'coerce': {nat_count}\")\n",
    "        print(f\"Total number of values: {total_count}\")\n",
    "        print(f\"Percentage of NaT values: {nat_percentage:.2f}%\")\n",
    "        print(\"\\nIf you proceed with this conversion, these NaT values will replace the original non-convertible entries.\")\n",
    "        return date_series\n",
    "\n",
    "# Example usage with DataFrame 'df':\n",
    "# Assuming 'df' have columns named 'Reviews', 'Price', 'Timestamp', and 'Date'\n",
    "\n",
    "# Reviews_int_tested = test_integer_conversion_with_error_handling(df['Reviews'])\n",
    "# Decide whether to replace df['Reviews'] with Reviews_int_tested\n",
    "# df['Reviews'] = Reviews_int_tested\n",
    "\n",
    "# Price_float_tested = test_float_conversion_with_error_handling(df['Price'])\n",
    "# Decide whether to replace df['Price']\n",
    "\n",
    "# Timestamp_datetime_tested = test_datetime_conversion_with_error_handling(df['Timestamp'])\n",
    "# If you have a specific format:\n",
    "# Timestamp_datetime_tested = test_datetime_conversion_with_error_handling(df['Timestamp'], datetime_format='%Y-%m-%d %H:%M:%S')\n",
    "# Decide whether to replace df['Timestamp']\n",
    "\n",
    "# df['Date_date_tested'] = test_date_conversion_with_error_handling(df['Date'])\n",
    "# If you have a specific format:\n",
    "# df['Date_date_tested'] = test_date_conversion_with_error_handling(df['Date'], date_format='%m/%d/%Y')\n",
    "# Decide whether to replace df['Date']"
   ]
  },
  {
   "cell_type": "markdown",
   "id": "7e1da7ec-c7af-41ae-af6c-d8d163aa08f8",
   "metadata": {
    "jp-MarkdownHeadingCollapsed": true
   },
   "source": [
    "## data type conversion: object to integer"
   ]
  },
  {
   "cell_type": "code",
   "execution_count": 22,
   "id": "81683ce6-c07d-4722-b7cb-adf7759b25cd",
   "metadata": {},
   "outputs": [
    {
     "data": {
      "text/plain": [
       "0       159\n",
       "1       967\n",
       "2     87510\n",
       "3    215644\n",
       "4       967\n",
       "Name: Reviews, dtype: object"
      ]
     },
     "execution_count": 22,
     "metadata": {},
     "output_type": "execute_result"
    }
   ],
   "source": [
    "df['Reviews'].head()"
   ]
  },
  {
   "cell_type": "code",
   "execution_count": 23,
   "id": "64a77402-22cc-4461-b7c4-d70ea11f33d0",
   "metadata": {},
   "outputs": [
    {
     "name": "stdout",
     "output_type": "stream",
     "text": [
      "Direct integer conversion using astype('int') was successful.\n"
     ]
    }
   ],
   "source": [
    "# below test confirm that while converting df['Reviews'] from object to integer no errors occured\n",
    "\n",
    "x = test_integer_conversion_with_error_handling(df['Reviews'])"
   ]
  },
  {
   "cell_type": "code",
   "execution_count": 24,
   "id": "bb520153-d1d8-4b69-b79d-973879127480",
   "metadata": {},
   "outputs": [
    {
     "data": {
      "text/plain": [
       "dtype('int32')"
      ]
     },
     "execution_count": 24,
     "metadata": {},
     "output_type": "execute_result"
    }
   ],
   "source": [
    "df['Reviews'] = df['Reviews'].astype('int')\n",
    "df['Reviews'].dtypes"
   ]
  },
  {
   "cell_type": "code",
   "execution_count": 25,
   "id": "f1a39cfe-97f0-4c3c-9428-78885b4c52c9",
   "metadata": {},
   "outputs": [
    {
     "data": {
      "text/html": [
       "<div>\n",
       "<style scoped>\n",
       "    .dataframe tbody tr th:only-of-type {\n",
       "        vertical-align: middle;\n",
       "    }\n",
       "\n",
       "    .dataframe tbody tr th {\n",
       "        vertical-align: top;\n",
       "    }\n",
       "\n",
       "    .dataframe thead th {\n",
       "        text-align: right;\n",
       "    }\n",
       "</style>\n",
       "<table border=\"1\" class=\"dataframe\">\n",
       "  <thead>\n",
       "    <tr style=\"text-align: right;\">\n",
       "      <th></th>\n",
       "      <th>Rating</th>\n",
       "      <th>Reviews</th>\n",
       "    </tr>\n",
       "  </thead>\n",
       "  <tbody>\n",
       "    <tr>\n",
       "      <th>count</th>\n",
       "      <td>9366.000</td>\n",
       "      <td>10840.000</td>\n",
       "    </tr>\n",
       "    <tr>\n",
       "      <th>mean</th>\n",
       "      <td>4.192</td>\n",
       "      <td>444152.896</td>\n",
       "    </tr>\n",
       "    <tr>\n",
       "      <th>std</th>\n",
       "      <td>0.515</td>\n",
       "      <td>2927760.604</td>\n",
       "    </tr>\n",
       "    <tr>\n",
       "      <th>min</th>\n",
       "      <td>1.000</td>\n",
       "      <td>0.000</td>\n",
       "    </tr>\n",
       "    <tr>\n",
       "      <th>25%</th>\n",
       "      <td>4.000</td>\n",
       "      <td>38.000</td>\n",
       "    </tr>\n",
       "    <tr>\n",
       "      <th>50%</th>\n",
       "      <td>4.300</td>\n",
       "      <td>2094.000</td>\n",
       "    </tr>\n",
       "    <tr>\n",
       "      <th>75%</th>\n",
       "      <td>4.500</td>\n",
       "      <td>54775.500</td>\n",
       "    </tr>\n",
       "    <tr>\n",
       "      <th>max</th>\n",
       "      <td>5.000</td>\n",
       "      <td>78158306.000</td>\n",
       "    </tr>\n",
       "  </tbody>\n",
       "</table>\n",
       "</div>"
      ],
      "text/plain": [
       "        Rating      Reviews\n",
       "count 9366.000    10840.000\n",
       "mean     4.192   444152.896\n",
       "std      0.515  2927760.604\n",
       "min      1.000        0.000\n",
       "25%      4.000       38.000\n",
       "50%      4.300     2094.000\n",
       "75%      4.500    54775.500\n",
       "max      5.000 78158306.000"
      ]
     },
     "execution_count": 25,
     "metadata": {},
     "output_type": "execute_result"
    }
   ],
   "source": [
    "df.describe()"
   ]
  },
  {
   "cell_type": "markdown",
   "id": "76a8c2ab-d900-40d8-b86c-4a142591d821",
   "metadata": {
    "jp-MarkdownHeadingCollapsed": true
   },
   "source": [
    "## data type conversion: alpha-numeric string to integer: df['Size']"
   ]
  },
  {
   "cell_type": "code",
   "execution_count": 26,
   "id": "dc8912a3-eee1-4ff7-ae76-5e8e90f53118",
   "metadata": {},
   "outputs": [
    {
     "data": {
      "text/plain": [
       "0     19M\n",
       "1     14M\n",
       "2    8.7M\n",
       "3     25M\n",
       "4    2.8M\n",
       "Name: Size, dtype: object"
      ]
     },
     "execution_count": 26,
     "metadata": {},
     "output_type": "execute_result"
    }
   ],
   "source": [
    "df['Size'].head()"
   ]
  },
  {
   "cell_type": "code",
   "execution_count": 27,
   "id": "14f1b444-c78d-449b-9df2-415b6b1bfa61",
   "metadata": {},
   "outputs": [
    {
     "data": {
      "text/plain": [
       "Size\n",
       "Varies with device    1695\n",
       "11M                    198\n",
       "12M                    196\n",
       "14M                    194\n",
       "13M                    191\n",
       "15M                    184\n",
       "17M                    160\n",
       "19M                    154\n",
       "26M                    149\n",
       "16M                    149\n",
       "Name: count, dtype: int64"
      ]
     },
     "execution_count": 27,
     "metadata": {},
     "output_type": "execute_result"
    }
   ],
   "source": [
    "df['Size'].value_counts().head(10)"
   ]
  },
  {
   "cell_type": "code",
   "execution_count": 28,
   "id": "54fbc9df-ef6d-4cab-a2e2-aeac1999e54b",
   "metadata": {},
   "outputs": [
    {
     "data": {
      "text/plain": [
       "Size\n",
       "412k    1\n",
       "459k    1\n",
       "478k    1\n",
       "782k    1\n",
       "721k    1\n",
       "430k    1\n",
       "429k    1\n",
       "200k    1\n",
       "460k    1\n",
       "619k    1\n",
       "Name: count, dtype: int64"
      ]
     },
     "execution_count": 28,
     "metadata": {},
     "output_type": "execute_result"
    }
   ],
   "source": [
    "df['Size'].value_counts().tail(10)"
   ]
  },
  {
   "cell_type": "code",
   "execution_count": 29,
   "id": "c2c00d29-1331-4ec9-a434-0abde21124de",
   "metadata": {},
   "outputs": [
    {
     "data": {
      "text/plain": [
       "0"
      ]
     },
     "execution_count": 29,
     "metadata": {},
     "output_type": "execute_result"
    }
   ],
   "source": [
    "df['Size'].isnull().sum()"
   ]
  },
  {
   "cell_type": "code",
   "execution_count": 30,
   "id": "1e4a8b1a-7e15-4cf9-b445-ce3400af39e0",
   "metadata": {},
   "outputs": [],
   "source": [
    "# It is observed that there are three categories in 'Size' column:\n",
    "# string containing 'k' and 'M'\n",
    "# having string 'Varies with device'"
   ]
  },
  {
   "cell_type": "code",
   "execution_count": 31,
   "id": "103e19f6-5f7c-4872-bac7-17d14c03571a",
   "metadata": {},
   "outputs": [],
   "source": [
    "# df['Size'].str.contains('M') ≈ masked True, False, ....\n",
    "# df['Size'].loc[df['Size'].str.contains('M')] ≈ actual string/rows containing 'M' in df['Size']\n",
    "# df['Size'].loc[df['Size'].str.contains('M')].value_counts() ≈ unique strings and its counts and these strings containing 'M'\n",
    "# df['Size'].loc[df['Size'].str.contains('M')].value_counts().sum()) ≈ sum of counts"
   ]
  },
  {
   "cell_type": "code",
   "execution_count": 32,
   "id": "1b208be7-4af4-456e-82b6-b018a82663c6",
   "metadata": {},
   "outputs": [
    {
     "name": "stdout",
     "output_type": "stream",
     "text": [
      "Number of M in Size Column 8829\n"
     ]
    }
   ],
   "source": [
    "print(\n",
    "    \"Number of M in Size Column\", \n",
    "    df['Size'].loc[df['Size'].str.contains('M')].value_counts().sum()\n",
    ")"
   ]
  },
  {
   "cell_type": "code",
   "execution_count": 33,
   "id": "40b957f9-1229-4eb9-862a-963c6a2f39cc",
   "metadata": {},
   "outputs": [
    {
     "name": "stdout",
     "output_type": "stream",
     "text": [
      "Number of k in Size Column 316\n"
     ]
    }
   ],
   "source": [
    "print(\n",
    "    \"Number of k in Size Column\", \n",
    "    df['Size'].loc[df['Size'].str.contains('k')].value_counts().sum()\n",
    ")"
   ]
  },
  {
   "cell_type": "code",
   "execution_count": 34,
   "id": "6d7e929a-ecd4-4648-b57c-ae5bd43aae60",
   "metadata": {},
   "outputs": [
    {
     "name": "stdout",
     "output_type": "stream",
     "text": [
      "Number of 'Varies with device' in Size Column 1695\n"
     ]
    }
   ],
   "source": [
    "print(\n",
    "    \"Number of 'Varies with device' in Size Column\", \n",
    "    df['Size'].loc[df['Size'].str.contains('Varies with device')].value_counts().sum()\n",
    ")"
   ]
  },
  {
   "cell_type": "code",
   "execution_count": 35,
   "id": "0ef0b724-bd7b-4ea9-8a08-f1d5a6aeb038",
   "metadata": {},
   "outputs": [],
   "source": [
    "def convert_into_bytes(column_name):\n",
    "    if isinstance(column_name, str):\n",
    "        if 'k' in column_name:\n",
    "            return float(column_name.replace(\"k\", \"\")) * 1024\n",
    "        elif 'M' in column_name:\n",
    "            return float(column_name.replace(\"M\", \"\")) * 1024 * 1024\n",
    "        elif 'Varies with device' in column_name:\n",
    "            return np.nan\n",
    "    return column_name"
   ]
  },
  {
   "cell_type": "code",
   "execution_count": 36,
   "id": "feb6c0cd-4e19-4b9b-bb73-f525efcd6c4d",
   "metadata": {},
   "outputs": [
    {
     "name": "stdout",
     "output_type": "stream",
     "text": [
      "object\n",
      "False\n",
      "True\n"
     ]
    }
   ],
   "source": [
    "print( df['Size'].dtypes )\n",
    "print( isinstance(df['Size'], str) )\n",
    "print( isinstance(df['Size'][1], str) )"
   ]
  },
  {
   "cell_type": "code",
   "execution_count": 37,
   "id": "7de5daf2-a014-4ba8-801b-7f3c68e6d649",
   "metadata": {},
   "outputs": [],
   "source": [
    "# apply function will take one by one value as a string from df['Size'] series/column and run function 'convert_into_bytes' with this string argument\n",
    "\n",
    "df['Size'] = df['Size'].apply(convert_into_bytes)"
   ]
  },
  {
   "cell_type": "code",
   "execution_count": 38,
   "id": "3342f3b3-5e87-4587-9bc4-a36bfb3df500",
   "metadata": {},
   "outputs": [
    {
     "data": {
      "text/plain": [
       "0   19922944.000\n",
       "1   14680064.000\n",
       "2    9122611.200\n",
       "3   26214400.000\n",
       "4    2936012.800\n",
       "Name: Size, dtype: float64"
      ]
     },
     "execution_count": 38,
     "metadata": {},
     "output_type": "execute_result"
    }
   ],
   "source": [
    "df['Size'].head()"
   ]
  },
  {
   "cell_type": "code",
   "execution_count": 39,
   "id": "68bbe5ac-cb0f-4fbf-aaf8-605590be3fe9",
   "metadata": {},
   "outputs": [
    {
     "name": "stdout",
     "output_type": "stream",
     "text": [
      "float64\n"
     ]
    }
   ],
   "source": [
    "print( df['Size'].dtypes )"
   ]
  },
  {
   "cell_type": "code",
   "execution_count": 40,
   "id": "0d3dba3c-2f04-41ac-af7c-e920aa7127de",
   "metadata": {},
   "outputs": [],
   "source": [
    "df.rename(columns={'Size': 'Size_bytes'}, inplace=True)"
   ]
  },
  {
   "cell_type": "code",
   "execution_count": 41,
   "id": "6a932a67-2ce4-498f-97d0-ac4ab1ded928",
   "metadata": {},
   "outputs": [
    {
     "data": {
      "text/plain": [
       "Index(['App', 'Category', 'Rating', 'Reviews', 'Size_bytes', 'Installs',\n",
       "       'Type', 'Price', 'Content Rating', 'Genres', 'Last Updated',\n",
       "       'Current Ver', 'Android Ver'],\n",
       "      dtype='object')"
      ]
     },
     "execution_count": 41,
     "metadata": {},
     "output_type": "execute_result"
    }
   ],
   "source": [
    "df.columns"
   ]
  },
  {
   "cell_type": "code",
   "execution_count": 42,
   "id": "323c5f90-3e00-4acb-9b4c-ec83e275e46b",
   "metadata": {},
   "outputs": [],
   "source": [
    "# convert bytes into megabytes and make a new column\n",
    "\n",
    "df['Size_MB'] = df['Size_bytes'] / (1024 * 1024)"
   ]
  },
  {
   "cell_type": "code",
   "execution_count": 43,
   "id": "b0325b17-5003-441f-8aa7-730ab5da7a05",
   "metadata": {},
   "outputs": [
    {
     "data": {
      "text/html": [
       "<div>\n",
       "<style scoped>\n",
       "    .dataframe tbody tr th:only-of-type {\n",
       "        vertical-align: middle;\n",
       "    }\n",
       "\n",
       "    .dataframe tbody tr th {\n",
       "        vertical-align: top;\n",
       "    }\n",
       "\n",
       "    .dataframe thead th {\n",
       "        text-align: right;\n",
       "    }\n",
       "</style>\n",
       "<table border=\"1\" class=\"dataframe\">\n",
       "  <thead>\n",
       "    <tr style=\"text-align: right;\">\n",
       "      <th></th>\n",
       "      <th>Size_bytes</th>\n",
       "      <th>Size_MB</th>\n",
       "    </tr>\n",
       "  </thead>\n",
       "  <tbody>\n",
       "    <tr>\n",
       "      <th>0</th>\n",
       "      <td>19922944.000</td>\n",
       "      <td>19.000</td>\n",
       "    </tr>\n",
       "    <tr>\n",
       "      <th>1</th>\n",
       "      <td>14680064.000</td>\n",
       "      <td>14.000</td>\n",
       "    </tr>\n",
       "    <tr>\n",
       "      <th>2</th>\n",
       "      <td>9122611.200</td>\n",
       "      <td>8.700</td>\n",
       "    </tr>\n",
       "    <tr>\n",
       "      <th>3</th>\n",
       "      <td>26214400.000</td>\n",
       "      <td>25.000</td>\n",
       "    </tr>\n",
       "    <tr>\n",
       "      <th>4</th>\n",
       "      <td>2936012.800</td>\n",
       "      <td>2.800</td>\n",
       "    </tr>\n",
       "  </tbody>\n",
       "</table>\n",
       "</div>"
      ],
      "text/plain": [
       "    Size_bytes  Size_MB\n",
       "0 19922944.000   19.000\n",
       "1 14680064.000   14.000\n",
       "2  9122611.200    8.700\n",
       "3 26214400.000   25.000\n",
       "4  2936012.800    2.800"
      ]
     },
     "execution_count": 43,
     "metadata": {},
     "output_type": "execute_result"
    }
   ],
   "source": [
    "df[['Size_bytes', 'Size_MB']].head()"
   ]
  },
  {
   "cell_type": "markdown",
   "id": "b4b9d97d-5904-4bb0-8842-91ee280c4631",
   "metadata": {
    "jp-MarkdownHeadingCollapsed": true
   },
   "source": [
    "## data type conversion: alpha-numeric string to integer: df['Installs']"
   ]
  },
  {
   "cell_type": "code",
   "execution_count": 44,
   "id": "5989d084-3950-4b1a-a9f5-f060947cdf5a",
   "metadata": {},
   "outputs": [
    {
     "data": {
      "text/plain": [
       "0        10,000+\n",
       "1       500,000+\n",
       "2     5,000,000+\n",
       "3    50,000,000+\n",
       "4       100,000+\n",
       "Name: Installs, dtype: object"
      ]
     },
     "execution_count": 44,
     "metadata": {},
     "output_type": "execute_result"
    }
   ],
   "source": [
    "df['Installs'].head()"
   ]
  },
  {
   "cell_type": "code",
   "execution_count": 45,
   "id": "cf65ac42-4563-4645-be32-4f3d3654fc99",
   "metadata": {},
   "outputs": [
    {
     "data": {
      "text/plain": [
       "10836         5,000+\n",
       "10837           100+\n",
       "10838         1,000+\n",
       "10839         1,000+\n",
       "10840    10,000,000+\n",
       "Name: Installs, dtype: object"
      ]
     },
     "execution_count": 45,
     "metadata": {},
     "output_type": "execute_result"
    }
   ],
   "source": [
    "df['Installs'].tail()"
   ]
  },
  {
   "cell_type": "code",
   "execution_count": 46,
   "id": "cef992ca-1623-437e-8e19-15e7e83ce9ea",
   "metadata": {},
   "outputs": [],
   "source": [
    "# Observations:\n",
    "#     Remove + sign\n",
    "#     Remove , from the values\n",
    "#     Convert the column in to integers"
   ]
  },
  {
   "cell_type": "code",
   "execution_count": 47,
   "id": "0905862c-ebca-4ec0-a4df-39626021030c",
   "metadata": {},
   "outputs": [],
   "source": [
    "# def installs(install):\n",
    "#     if isinstance(install, str):\n",
    "#         if '+' in install:\n",
    "#             return install.replace(\"+\", \"\")\n",
    "#     return int(install)\n",
    "\n",
    "# df['Installs'] = df['Installs'].apply(installs)\n",
    "# df['Installs'] = df['Installs'].apply(lambda x: x.replace(',', '') if ',' in str(x) else x)\n",
    "# df['Installs'] = df['Installs'].astype('int')"
   ]
  },
  {
   "cell_type": "code",
   "execution_count": 48,
   "id": "4d22b140-c848-423b-a0f2-390664a354d8",
   "metadata": {},
   "outputs": [],
   "source": [
    "def clean_and_convert_installs(series):\n",
    "    cleaned_series = series.str.replace('+', '', regex=False).str.replace(',', '', regex=False)\n",
    "    integer_series = pd.to_numeric(cleaned_series, errors='coerce', downcast='integer')\n",
    "    return integer_series"
   ]
  },
  {
   "cell_type": "code",
   "execution_count": 49,
   "id": "224217bd-1390-4152-b528-744ddc6f041f",
   "metadata": {},
   "outputs": [],
   "source": [
    "df['Installs'] = clean_and_convert_installs(df['Installs'])"
   ]
  },
  {
   "cell_type": "code",
   "execution_count": 50,
   "id": "93cb1926-bd36-480c-8758-9d67043a7a7c",
   "metadata": {},
   "outputs": [
    {
     "data": {
      "text/plain": [
       "0       10000\n",
       "1      500000\n",
       "2     5000000\n",
       "3    50000000\n",
       "4      100000\n",
       "Name: Installs, dtype: int32"
      ]
     },
     "execution_count": 50,
     "metadata": {},
     "output_type": "execute_result"
    }
   ],
   "source": [
    "df['Installs'].head()"
   ]
  },
  {
   "cell_type": "code",
   "execution_count": 51,
   "id": "c45ea2c2-bccd-427b-95f9-dabf2c089c25",
   "metadata": {},
   "outputs": [
    {
     "data": {
      "text/plain": [
       "0"
      ]
     },
     "execution_count": 51,
     "metadata": {},
     "output_type": "execute_result"
    }
   ],
   "source": [
    "df['Installs'].isnull().sum()"
   ]
  },
  {
   "cell_type": "code",
   "execution_count": 52,
   "id": "530c66b6-b0d5-4157-a2ef-c3c7ab6f4b7b",
   "metadata": {},
   "outputs": [
    {
     "data": {
      "text/plain": [
       "Installs\n",
       "0               15\n",
       "1               67\n",
       "5               82\n",
       "10             386\n",
       "50             205\n",
       "100            719\n",
       "500            330\n",
       "1000           907\n",
       "5000           477\n",
       "10000         1054\n",
       "50000          479\n",
       "100000        1169\n",
       "500000         539\n",
       "1000000       1579\n",
       "5000000        752\n",
       "10000000      1252\n",
       "50000000       289\n",
       "100000000      409\n",
       "500000000       72\n",
       "1000000000      58\n",
       "Name: count, dtype: int64"
      ]
     },
     "execution_count": 52,
     "metadata": {},
     "output_type": "execute_result"
    }
   ],
   "source": [
    "df['Installs'].value_counts().sort_index(ascending=True)"
   ]
  },
  {
   "cell_type": "code",
   "execution_count": 53,
   "id": "f9c4b5dc-7e1e-4c3e-b877-3eea6556de0f",
   "metadata": {},
   "outputs": [
    {
     "data": {
      "text/plain": [
       "Installs\n",
       "0               15\n",
       "1000000000      58\n",
       "1               67\n",
       "500000000       72\n",
       "5               82\n",
       "50             205\n",
       "50000000       289\n",
       "500            330\n",
       "10             386\n",
       "100000000      409\n",
       "5000           477\n",
       "50000          479\n",
       "500000         539\n",
       "100            719\n",
       "5000000        752\n",
       "1000           907\n",
       "10000         1054\n",
       "100000        1169\n",
       "10000000      1252\n",
       "1000000       1579\n",
       "Name: count, dtype: int64"
      ]
     },
     "execution_count": 53,
     "metadata": {},
     "output_type": "execute_result"
    }
   ],
   "source": [
    "df['Installs'].value_counts().sort_values(ascending=True)"
   ]
  },
  {
   "cell_type": "markdown",
   "id": "57797c1f-286b-452f-8440-92a6b4f910e3",
   "metadata": {
    "jp-MarkdownHeadingCollapsed": true
   },
   "source": [
    "## Making a new column called 'Installs_category' which will have the category of the 'Installs'"
   ]
  },
  {
   "cell_type": "code",
   "execution_count": 54,
   "id": "e01eb8ae-bb6b-4f5b-b728-61265f0713f8",
   "metadata": {},
   "outputs": [],
   "source": [
    "bins = [-1, 0, 10, 1000, 10000, 100000, 1000000, 10000000, 10000000000]\n",
    "labels = ['no', 'Very low', 'Low', 'Moderate', 'More than moderate', 'High', 'Very High', 'Top Notch']\n",
    "df['Installs_category'] = pd.cut(df['Installs'], bins=bins, labels=labels)"
   ]
  },
  {
   "cell_type": "code",
   "execution_count": 55,
   "id": "48acdc67-187c-43ee-bfa6-8057e565274f",
   "metadata": {},
   "outputs": [
    {
     "data": {
      "text/plain": [
       "Installs_category\n",
       "Low                   2161\n",
       "High                  2118\n",
       "Very High             2004\n",
       "More than moderate    1648\n",
       "Moderate              1531\n",
       "Top Notch              828\n",
       "Very low               535\n",
       "no                      15\n",
       "Name: count, dtype: int64"
      ]
     },
     "execution_count": 55,
     "metadata": {},
     "output_type": "execute_result"
    }
   ],
   "source": [
    "df['Installs_category'].value_counts()"
   ]
  },
  {
   "cell_type": "markdown",
   "id": "501aceaa-883e-462c-bcee-eb02e69fb23e",
   "metadata": {
    "jp-MarkdownHeadingCollapsed": true
   },
   "source": [
    "## data type conversion: dollar string to float: df['Price']"
   ]
  },
  {
   "cell_type": "code",
   "execution_count": 56,
   "id": "cc320f28-f609-4958-ba9e-863ae0a7b7e9",
   "metadata": {},
   "outputs": [
    {
     "data": {
      "text/plain": [
       "array(['0', '$4.99', '$3.99', '$6.99', '$1.49', '$2.99', '$7.99', '$5.99',\n",
       "       '$3.49', '$1.99', '$9.99', '$7.49', '$0.99', '$9.00', '$5.49',\n",
       "       '$10.00', '$24.99', '$11.99', '$79.99', '$16.99', '$14.99',\n",
       "       '$1.00', '$29.99', '$12.99', '$2.49', '$10.99', '$1.50', '$19.99',\n",
       "       '$15.99', '$33.99', '$74.99', '$39.99', '$3.95', '$4.49', '$1.70',\n",
       "       '$8.99', '$2.00', '$3.88', '$25.99', '$399.99', '$17.99',\n",
       "       '$400.00', '$3.02', '$1.76', '$4.84', '$4.77', '$1.61', '$2.50',\n",
       "       '$1.59', '$6.49', '$1.29', '$5.00', '$13.99', '$299.99', '$379.99',\n",
       "       '$37.99', '$18.99', '$389.99', '$19.90', '$8.49', '$1.75',\n",
       "       '$14.00', '$4.85', '$46.99', '$109.99', '$154.99', '$3.08',\n",
       "       '$2.59', '$4.80', '$1.96', '$19.40', '$3.90', '$4.59', '$15.46',\n",
       "       '$3.04', '$4.29', '$2.60', '$3.28', '$4.60', '$28.99', '$2.95',\n",
       "       '$2.90', '$1.97', '$200.00', '$89.99', '$2.56', '$30.99', '$3.61',\n",
       "       '$394.99', '$1.26', '$1.20', '$1.04'], dtype=object)"
      ]
     },
     "execution_count": 56,
     "metadata": {},
     "output_type": "execute_result"
    }
   ],
   "source": [
    "df['Price'].unique()"
   ]
  },
  {
   "cell_type": "code",
   "execution_count": 57,
   "id": "114fe4ea-f2c6-4f25-9eca-8055da091905",
   "metadata": {},
   "outputs": [],
   "source": [
    "def adjust_price(price):\n",
    "    if isinstance(price, str):\n",
    "        if '$' in price:\n",
    "            return price.replace(\"$\", \"\")\n",
    "    return price"
   ]
  },
  {
   "cell_type": "code",
   "execution_count": 58,
   "id": "06d7993a-8aaa-4a0a-9e3d-34755029cdaf",
   "metadata": {},
   "outputs": [
    {
     "data": {
      "text/plain": [
       "dtype('O')"
      ]
     },
     "execution_count": 58,
     "metadata": {},
     "output_type": "execute_result"
    }
   ],
   "source": [
    "df['Price'] = df['Price'].apply(adjust_price)\n",
    "df['Price'].dtypes"
   ]
  },
  {
   "cell_type": "code",
   "execution_count": 59,
   "id": "5372dc85-eb85-4997-8ed4-04f27a4194f9",
   "metadata": {},
   "outputs": [
    {
     "data": {
      "text/plain": [
       "array(['0', '4.99', '3.99', '6.99', '1.49', '2.99', '7.99', '5.99',\n",
       "       '3.49', '1.99', '9.99', '7.49', '0.99', '9.00', '5.49', '10.00',\n",
       "       '24.99', '11.99', '79.99', '16.99', '14.99', '1.00', '29.99',\n",
       "       '12.99', '2.49', '10.99', '1.50', '19.99', '15.99', '33.99',\n",
       "       '74.99', '39.99', '3.95', '4.49', '1.70', '8.99', '2.00', '3.88',\n",
       "       '25.99', '399.99', '17.99', '400.00', '3.02', '1.76', '4.84',\n",
       "       '4.77', '1.61', '2.50', '1.59', '6.49', '1.29', '5.00', '13.99',\n",
       "       '299.99', '379.99', '37.99', '18.99', '389.99', '19.90', '8.49',\n",
       "       '1.75', '14.00', '4.85', '46.99', '109.99', '154.99', '3.08',\n",
       "       '2.59', '4.80', '1.96', '19.40', '3.90', '4.59', '15.46', '3.04',\n",
       "       '4.29', '2.60', '3.28', '4.60', '28.99', '2.95', '2.90', '1.97',\n",
       "       '200.00', '89.99', '2.56', '30.99', '3.61', '394.99', '1.26',\n",
       "       '1.20', '1.04'], dtype=object)"
      ]
     },
     "execution_count": 59,
     "metadata": {},
     "output_type": "execute_result"
    }
   ],
   "source": [
    "df['Price'].unique()"
   ]
  },
  {
   "cell_type": "code",
   "execution_count": 60,
   "id": "eb58a944-92ee-47da-a041-e425cf7cc127",
   "metadata": {},
   "outputs": [
    {
     "data": {
      "text/plain": [
       "dtype('float64')"
      ]
     },
     "execution_count": 60,
     "metadata": {},
     "output_type": "execute_result"
    }
   ],
   "source": [
    "df['Price'] = df['Price'].astype('float')\n",
    "df['Price'].dtypes"
   ]
  },
  {
   "cell_type": "code",
   "execution_count": 61,
   "id": "edbe2f61-7a1b-4738-a206-7bb1170989f0",
   "metadata": {},
   "outputs": [
    {
     "data": {
      "text/plain": [
       "array([  0.  ,   4.99,   3.99,   6.99,   1.49,   2.99,   7.99,   5.99,\n",
       "         3.49,   1.99,   9.99,   7.49,   0.99,   9.  ,   5.49,  10.  ,\n",
       "        24.99,  11.99,  79.99,  16.99,  14.99,   1.  ,  29.99,  12.99,\n",
       "         2.49,  10.99,   1.5 ,  19.99,  15.99,  33.99,  74.99,  39.99,\n",
       "         3.95,   4.49,   1.7 ,   8.99,   2.  ,   3.88,  25.99, 399.99,\n",
       "        17.99, 400.  ,   3.02,   1.76,   4.84,   4.77,   1.61,   2.5 ,\n",
       "         1.59,   6.49,   1.29,   5.  ,  13.99, 299.99, 379.99,  37.99,\n",
       "        18.99, 389.99,  19.9 ,   8.49,   1.75,  14.  ,   4.85,  46.99,\n",
       "       109.99, 154.99,   3.08,   2.59,   4.8 ,   1.96,  19.4 ,   3.9 ,\n",
       "         4.59,  15.46,   3.04,   4.29,   2.6 ,   3.28,   4.6 ,  28.99,\n",
       "         2.95,   2.9 ,   1.97, 200.  ,  89.99,   2.56,  30.99,   3.61,\n",
       "       394.99,   1.26,   1.2 ,   1.04])"
      ]
     },
     "execution_count": 61,
     "metadata": {},
     "output_type": "execute_result"
    }
   ],
   "source": [
    "df['Price'].unique()"
   ]
  },
  {
   "cell_type": "code",
   "execution_count": 62,
   "id": "fe4f270d-1fbd-498a-8827-bae6c2a7cf42",
   "metadata": {},
   "outputs": [
    {
     "data": {
      "text/html": [
       "<div>\n",
       "<style scoped>\n",
       "    .dataframe tbody tr th:only-of-type {\n",
       "        vertical-align: middle;\n",
       "    }\n",
       "\n",
       "    .dataframe tbody tr th {\n",
       "        vertical-align: top;\n",
       "    }\n",
       "\n",
       "    .dataframe thead th {\n",
       "        text-align: right;\n",
       "    }\n",
       "</style>\n",
       "<table border=\"1\" class=\"dataframe\">\n",
       "  <thead>\n",
       "    <tr style=\"text-align: right;\">\n",
       "      <th></th>\n",
       "      <th>Rating</th>\n",
       "      <th>Reviews</th>\n",
       "      <th>Size_bytes</th>\n",
       "      <th>Installs</th>\n",
       "      <th>Price</th>\n",
       "      <th>Size_MB</th>\n",
       "    </tr>\n",
       "  </thead>\n",
       "  <tbody>\n",
       "    <tr>\n",
       "      <th>count</th>\n",
       "      <td>9366.000</td>\n",
       "      <td>10840.000</td>\n",
       "      <td>9145.000</td>\n",
       "      <td>10840.000</td>\n",
       "      <td>10840.000</td>\n",
       "      <td>9145.000</td>\n",
       "    </tr>\n",
       "    <tr>\n",
       "      <th>mean</th>\n",
       "      <td>4.192</td>\n",
       "      <td>444152.896</td>\n",
       "      <td>22561334.688</td>\n",
       "      <td>15464338.883</td>\n",
       "      <td>1.027</td>\n",
       "      <td>21.516</td>\n",
       "    </tr>\n",
       "    <tr>\n",
       "      <th>std</th>\n",
       "      <td>0.515</td>\n",
       "      <td>2927760.604</td>\n",
       "      <td>23686371.701</td>\n",
       "      <td>85029361.395</td>\n",
       "      <td>15.950</td>\n",
       "      <td>22.589</td>\n",
       "    </tr>\n",
       "    <tr>\n",
       "      <th>min</th>\n",
       "      <td>1.000</td>\n",
       "      <td>0.000</td>\n",
       "      <td>8704.000</td>\n",
       "      <td>0.000</td>\n",
       "      <td>0.000</td>\n",
       "      <td>0.008</td>\n",
       "    </tr>\n",
       "    <tr>\n",
       "      <th>25%</th>\n",
       "      <td>4.000</td>\n",
       "      <td>38.000</td>\n",
       "      <td>5138022.400</td>\n",
       "      <td>1000.000</td>\n",
       "      <td>0.000</td>\n",
       "      <td>4.900</td>\n",
       "    </tr>\n",
       "    <tr>\n",
       "      <th>50%</th>\n",
       "      <td>4.300</td>\n",
       "      <td>2094.000</td>\n",
       "      <td>13631488.000</td>\n",
       "      <td>100000.000</td>\n",
       "      <td>0.000</td>\n",
       "      <td>13.000</td>\n",
       "    </tr>\n",
       "    <tr>\n",
       "      <th>75%</th>\n",
       "      <td>4.500</td>\n",
       "      <td>54775.500</td>\n",
       "      <td>31457280.000</td>\n",
       "      <td>5000000.000</td>\n",
       "      <td>0.000</td>\n",
       "      <td>30.000</td>\n",
       "    </tr>\n",
       "    <tr>\n",
       "      <th>max</th>\n",
       "      <td>5.000</td>\n",
       "      <td>78158306.000</td>\n",
       "      <td>104857600.000</td>\n",
       "      <td>1000000000.000</td>\n",
       "      <td>400.000</td>\n",
       "      <td>100.000</td>\n",
       "    </tr>\n",
       "  </tbody>\n",
       "</table>\n",
       "</div>"
      ],
      "text/plain": [
       "        Rating      Reviews    Size_bytes       Installs     Price  Size_MB\n",
       "count 9366.000    10840.000      9145.000      10840.000 10840.000 9145.000\n",
       "mean     4.192   444152.896  22561334.688   15464338.883     1.027   21.516\n",
       "std      0.515  2927760.604  23686371.701   85029361.395    15.950   22.589\n",
       "min      1.000        0.000      8704.000          0.000     0.000    0.008\n",
       "25%      4.000       38.000   5138022.400       1000.000     0.000    4.900\n",
       "50%      4.300     2094.000  13631488.000     100000.000     0.000   13.000\n",
       "75%      4.500    54775.500  31457280.000    5000000.000     0.000   30.000\n",
       "max      5.000 78158306.000 104857600.000 1000000000.000   400.000  100.000"
      ]
     },
     "execution_count": 62,
     "metadata": {},
     "output_type": "execute_result"
    }
   ],
   "source": [
    "df.describe()"
   ]
  },
  {
   "cell_type": "markdown",
   "id": "e71f86aa-db49-466d-aae3-91052a75a17b",
   "metadata": {
    "jp-MarkdownHeadingCollapsed": true
   },
   "source": [
    "## Missing Values"
   ]
  },
  {
   "cell_type": "code",
   "execution_count": 63,
   "id": "dd544473-7f1c-4ce5-a38b-631c58bbd523",
   "metadata": {},
   "outputs": [
    {
     "data": {
      "text/plain": [
       "App                     0\n",
       "Category                0\n",
       "Reviews                 0\n",
       "Installs                0\n",
       "Price                   0\n",
       "Content Rating          0\n",
       "Genres                  0\n",
       "Last Updated            0\n",
       "Installs_category       0\n",
       "Type                    1\n",
       "Android Ver             2\n",
       "Current Ver             8\n",
       "Rating               1474\n",
       "Size_bytes           1695\n",
       "Size_MB              1695\n",
       "dtype: int64"
      ]
     },
     "execution_count": 63,
     "metadata": {},
     "output_type": "execute_result"
    }
   ],
   "source": [
    "df.isnull().sum().sort_values(ascending=True)"
   ]
  },
  {
   "cell_type": "code",
   "execution_count": 64,
   "id": "b964be69-d3aa-4472-b4dc-c16ebdd2edb0",
   "metadata": {},
   "outputs": [
    {
     "data": {
      "text/plain": [
       "App                  0.000\n",
       "Category             0.000\n",
       "Reviews              0.000\n",
       "Installs             0.000\n",
       "Price                0.000\n",
       "Content Rating       0.000\n",
       "Genres               0.000\n",
       "Last Updated         0.000\n",
       "Installs_category    0.000\n",
       "Type                 0.009\n",
       "Android Ver          0.018\n",
       "Current Ver          0.074\n",
       "Rating              13.598\n",
       "Size_bytes          15.637\n",
       "Size_MB             15.637\n",
       "dtype: float64"
      ]
     },
     "execution_count": 64,
     "metadata": {},
     "output_type": "execute_result"
    }
   ],
   "source": [
    "missing_percentage = df.isnull().sum()/len(df)*100\n",
    "missing_percentage.sort_values(ascending=True)"
   ]
  },
  {
   "cell_type": "code",
   "execution_count": null,
   "id": "7d1b4f33-16e6-4900-90a7-20d529fb3d78",
   "metadata": {},
   "outputs": [],
   "source": []
  },
  {
   "cell_type": "code",
   "execution_count": 65,
   "id": "1633bfcf-ac8f-4d01-89a9-91f8d3d40fda",
   "metadata": {},
   "outputs": [
    {
     "data": {
      "text/plain": [
       "<Axes: >"
      ]
     },
     "execution_count": 65,
     "metadata": {},
     "output_type": "execute_result"
    },
    {
     "data": {
      "image/png": "[encoded data removed]",
      "text/plain": [
       "<Figure size 640x480 with 1 Axes>"
      ]
     },
     "metadata": {},
     "output_type": "display_data"
    }
   ],
   "source": [
    "sns.heatmap(df.isnull(), yticklabels=False, cbar=False, cmap='viridis')"
   ]
  },
  {
   "cell_type": "code",
   "execution_count": 66,
   "id": "0e4cf626-9724-4c52-8ca7-498c3f1f6112",
   "metadata": {},
   "outputs": [
    {
     "data": {
      "image/png": "[encoded data removed]",
      "text/plain": [
       "<Figure size 800x600 with 1 Axes>"
      ]
     },
     "metadata": {},
     "output_type": "display_data"
    }
   ],
   "source": [
    "def visualize_missing_matplotlib(df):\n",
    "    \"\"\"Visualizes missing data using Matplotlib.\"\"\"\n",
    "    \n",
    "    plt.figure(figsize=(8, 6))\n",
    "    missing = df.isnull()\n",
    "    plt.imshow(missing, aspect='auto', cmap='viridis', interpolation='nearest')\n",
    "\n",
    "    # Show row labels if needed\n",
    "    # plt.yticks(ticks=np.arange(df.shape[0]), labels=df.index, fontsize=8)\n",
    "\n",
    "    # Show column labels\n",
    "    plt.xticks(ticks=np.arange(df.shape[1]), labels=df.columns, rotation=90, fontsize=8)\n",
    "    \n",
    "    plt.title(\"Missing Data Visualization\")\n",
    "    plt.xlabel(\"Columns\")\n",
    "    plt.ylabel(\"Rows\")\n",
    "    \n",
    "    # Add a colorbar to explain\n",
    "    # plt.colorbar(label='Missing (True) / Present (False)')\n",
    "    \n",
    "    plt.tight_layout()\n",
    "    plt.show()\n",
    "\n",
    "visualize_missing_matplotlib(df)"
   ]
  },
  {
   "cell_type": "code",
   "execution_count": 67,
   "id": "d5b741f3-f9b6-4d4b-afab-012c88a833b2",
   "metadata": {},
   "outputs": [
    {
     "data": {
      "image/png": "[encoded data removed]",
      "text/plain": [
       "<Figure size 600x400 with 1 Axes>"
      ]
     },
     "metadata": {},
     "output_type": "display_data"
    }
   ],
   "source": [
    "plt.figure(figsize=(6, 4))\n",
    "missing_percentage.plot(kind='bar')\n",
    "plt.xlabel('Columns')\n",
    "plt.ylabel('Percentage')\n",
    "plt.title('Percentage of Missing Values in each Column')\n",
    "plt.show()                  "
   ]
  },
  {
   "cell_type": "code",
   "execution_count": 68,
   "id": "0eeccec8-d070-4564-a218-a758100790ba",
   "metadata": {},
   "outputs": [
    {
     "data": {
      "text/plain": [
       "App                 0.000\n",
       "Category            0.000\n",
       "Reviews             0.000\n",
       "Installs            0.000\n",
       "Type                0.009\n",
       "Price               0.000\n",
       "Content Rating      0.000\n",
       "Genres              0.000\n",
       "Last Updated        0.000\n",
       "Current Ver         0.074\n",
       "Android Ver         0.018\n",
       "Installs_category   0.000\n",
       "dtype: float64"
      ]
     },
     "execution_count": 68,
     "metadata": {},
     "output_type": "execute_result"
    }
   ],
   "source": [
    "missing_percentage[missing_percentage < 1]"
   ]
  },
  {
   "cell_type": "code",
   "execution_count": 69,
   "id": "278b9308-53d6-46c2-b371-a16e3a70baae",
   "metadata": {},
   "outputs": [
    {
     "data": {
      "image/png": "[encoded data removed]",
      "text/plain": [
       "<Figure size 600x400 with 1 Axes>"
      ]
     },
     "metadata": {},
     "output_type": "display_data"
    }
   ],
   "source": [
    "# bar plot where missing_percentage is less than 1\n",
    "\n",
    "plt.figure(figsize=(6, 4))\n",
    "missing_percentage[missing_percentage < 1].plot(kind='bar')\n",
    "plt.xlabel('Columns')\n",
    "plt.ylabel('Percentage')\n",
    "plt.title('Percentage of Missing Values in each Column without Rating column')\n",
    "plt.show()"
   ]
  },
  {
   "cell_type": "markdown",
   "id": "1d4af4e2-de5f-4999-a447-0b63c5df4bdc",
   "metadata": {
    "jp-MarkdownHeadingCollapsed": true
   },
   "source": [
    "## Correlation Test"
   ]
  },
  {
   "cell_type": "code",
   "execution_count": 70,
   "id": "e57309d2-bdb6-4e8f-80a6-4bd9d246200e",
   "metadata": {},
   "outputs": [
    {
     "data": {
      "text/plain": [
       "['Rating',\n",
       " 'Reviews',\n",
       " 'Size_bytes',\n",
       " 'Installs',\n",
       " 'Price',\n",
       " 'Size_MB',\n",
       " 'Installs_category']"
      ]
     },
     "execution_count": 70,
     "metadata": {},
     "output_type": "execute_result"
    }
   ],
   "source": [
    "numeric_cols = [i for i in df.columns if df[i].dtype != 'object' ]\n",
    "numeric_cols"
   ]
  },
  {
   "cell_type": "code",
   "execution_count": 71,
   "id": "eec04b6a-249b-40b5-afd7-b8ee18c3f1a0",
   "metadata": {},
   "outputs": [
    {
     "data": {
      "text/plain": [
       "['Rating', 'Reviews', 'Size_bytes', 'Installs', 'Price', 'Size_MB']"
      ]
     },
     "execution_count": 71,
     "metadata": {},
     "output_type": "execute_result"
    }
   ],
   "source": [
    "numeric_cols.remove(\"Installs_category\")\n",
    "numeric_cols"
   ]
  },
  {
   "cell_type": "code",
   "execution_count": 72,
   "id": "75439c02-b423-4fc3-ad42-a4c4ab665991",
   "metadata": {},
   "outputs": [
    {
     "data": {
      "text/html": [
       "<div>\n",
       "<style scoped>\n",
       "    .dataframe tbody tr th:only-of-type {\n",
       "        vertical-align: middle;\n",
       "    }\n",
       "\n",
       "    .dataframe tbody tr th {\n",
       "        vertical-align: top;\n",
       "    }\n",
       "\n",
       "    .dataframe thead th {\n",
       "        text-align: right;\n",
       "    }\n",
       "</style>\n",
       "<table border=\"1\" class=\"dataframe\">\n",
       "  <thead>\n",
       "    <tr style=\"text-align: right;\">\n",
       "      <th></th>\n",
       "      <th>Rating</th>\n",
       "      <th>Reviews</th>\n",
       "      <th>Size_bytes</th>\n",
       "      <th>Installs</th>\n",
       "      <th>Price</th>\n",
       "      <th>Size_MB</th>\n",
       "    </tr>\n",
       "  </thead>\n",
       "  <tbody>\n",
       "    <tr>\n",
       "      <th>Rating</th>\n",
       "      <td>1.000</td>\n",
       "      <td>0.068</td>\n",
       "      <td>0.084</td>\n",
       "      <td>0.051</td>\n",
       "      <td>-0.022</td>\n",
       "      <td>0.084</td>\n",
       "    </tr>\n",
       "    <tr>\n",
       "      <th>Reviews</th>\n",
       "      <td>0.068</td>\n",
       "      <td>1.000</td>\n",
       "      <td>0.238</td>\n",
       "      <td>0.643</td>\n",
       "      <td>-0.010</td>\n",
       "      <td>0.238</td>\n",
       "    </tr>\n",
       "    <tr>\n",
       "      <th>Size_bytes</th>\n",
       "      <td>0.084</td>\n",
       "      <td>0.238</td>\n",
       "      <td>1.000</td>\n",
       "      <td>0.165</td>\n",
       "      <td>-0.023</td>\n",
       "      <td>1.000</td>\n",
       "    </tr>\n",
       "    <tr>\n",
       "      <th>Installs</th>\n",
       "      <td>0.051</td>\n",
       "      <td>0.643</td>\n",
       "      <td>0.165</td>\n",
       "      <td>1.000</td>\n",
       "      <td>-0.012</td>\n",
       "      <td>0.165</td>\n",
       "    </tr>\n",
       "    <tr>\n",
       "      <th>Price</th>\n",
       "      <td>-0.022</td>\n",
       "      <td>-0.010</td>\n",
       "      <td>-0.023</td>\n",
       "      <td>-0.012</td>\n",
       "      <td>1.000</td>\n",
       "      <td>-0.023</td>\n",
       "    </tr>\n",
       "    <tr>\n",
       "      <th>Size_MB</th>\n",
       "      <td>0.084</td>\n",
       "      <td>0.238</td>\n",
       "      <td>1.000</td>\n",
       "      <td>0.165</td>\n",
       "      <td>-0.023</td>\n",
       "      <td>1.000</td>\n",
       "    </tr>\n",
       "  </tbody>\n",
       "</table>\n",
       "</div>"
      ],
      "text/plain": [
       "            Rating  Reviews  Size_bytes  Installs  Price  Size_MB\n",
       "Rating       1.000    0.068       0.084     0.051 -0.022    0.084\n",
       "Reviews      0.068    1.000       0.238     0.643 -0.010    0.238\n",
       "Size_bytes   0.084    0.238       1.000     0.165 -0.023    1.000\n",
       "Installs     0.051    0.643       0.165     1.000 -0.012    0.165\n",
       "Price       -0.022   -0.010      -0.023    -0.012  1.000   -0.023\n",
       "Size_MB      0.084    0.238       1.000     0.165 -0.023    1.000"
      ]
     },
     "execution_count": 72,
     "metadata": {},
     "output_type": "execute_result"
    }
   ],
   "source": [
    "corr = df[numeric_cols].corr()\n",
    "corr"
   ]
  },
  {
   "cell_type": "code",
   "execution_count": 73,
   "id": "07792e4a-4f04-461e-99f5-0df997ada278",
   "metadata": {},
   "outputs": [
    {
     "data": {
      "image/png": "[encoded data removed]",
      "text/plain": [
       "<Figure size 1200x600 with 2 Axes>"
      ]
     },
     "metadata": {},
     "output_type": "display_data"
    }
   ],
   "source": [
    "plt.figure(figsize=(12, 6))\n",
    "sns.heatmap(corr, cmap=sns.diverging_palette(220, 20, as_cmap=True))\n",
    "plt.show()"
   ]
  },
  {
   "cell_type": "markdown",
   "id": "55128586-4a20-4057-87c9-3a7360eb677e",
   "metadata": {
    "jp-MarkdownHeadingCollapsed": true
   },
   "source": [
    "## Pearson Correlation Coefficient ('Reviews' and 'Installs')"
   ]
  },
  {
   "cell_type": "code",
   "execution_count": 74,
   "id": "eeca0549-ee06-4e1d-a59f-4f99dcea5402",
   "metadata": {},
   "outputs": [
    {
     "name": "stdout",
     "output_type": "stream",
     "text": [
      "(10840, 15)\n",
      "(7723, 15)\n"
     ]
    }
   ],
   "source": [
    "# To calculate Pearson's R, it is necessary to remove rows containing NaN or infinite values\n",
    "\n",
    "df_clean = df.dropna()\n",
    "print( df.shape )\n",
    "print( df_clean.shape )"
   ]
  },
  {
   "cell_type": "code",
   "execution_count": 75,
   "id": "cf38b7ec-030c-4543-8a2a-3909f762be92",
   "metadata": {},
   "outputs": [
    {
     "name": "stdout",
     "output_type": "stream",
     "text": [
      "Pearson's R between Reviews and Installs: 0.6262\n"
     ]
    }
   ],
   "source": [
    "# calculate Pearson's R between Rating and Installs\n",
    "\n",
    "pearson_r, _ = stats.pearsonr(df_clean['Reviews'], df_clean['Installs'])\n",
    "print(f\"Pearson's R between Reviews and Installs: {pearson_r:.4f}\")"
   ]
  },
  {
   "cell_type": "markdown",
   "id": "7a1db2e3-d295-48b1-a342-4e47f5107d27",
   "metadata": {
    "jp-MarkdownHeadingCollapsed": true
   },
   "source": [
    "## Relationship between 'Installs_category' and 'Rating'"
   ]
  },
  {
   "cell_type": "code",
   "execution_count": 76,
   "id": "9589a023-fb22-46f8-8c10-63c14eebaa26",
   "metadata": {},
   "outputs": [
    {
     "name": "stdout",
     "output_type": "stream",
     "text": [
      "(10840, 15)\n",
      "(10829, 15)\n",
      "Length of the dataframe after removing null values: 10829\n"
     ]
    }
   ],
   "source": [
    "# Remove the rows having null values in the 'Current Ver', 'Android Ver', 'Category', 'Type' and 'Genres' column\n",
    "\n",
    "print(df.shape)\n",
    "df.dropna(subset=['Current Ver', 'Android Ver', 'Category', 'Type', 'Genres'], inplace=True)\n",
    "print(df.shape)\n",
    "print(f\"Length of the dataframe after removing null values: {len(df)}\")"
   ]
  },
  {
   "cell_type": "code",
   "execution_count": 77,
   "id": "4165b7ad-55b6-4762-a47d-dedd2db60109",
   "metadata": {},
   "outputs": [
    {
     "data": {
      "text/plain": [
       "<pandas.core.groupby.generic.SeriesGroupBy object at 0x000002515B287EF0>"
      ]
     },
     "execution_count": 77,
     "metadata": {},
     "output_type": "execute_result"
    }
   ],
   "source": [
    "df.groupby('Installs_category')['Rating']"
   ]
  },
  {
   "cell_type": "code",
   "execution_count": 78,
   "id": "c7ce55d2-14ab-4f24-b672-1d2b86873fda",
   "metadata": {},
   "outputs": [
    {
     "data": {
      "text/html": [
       "<div>\n",
       "<style scoped>\n",
       "    .dataframe tbody tr th:only-of-type {\n",
       "        vertical-align: middle;\n",
       "    }\n",
       "\n",
       "    .dataframe tbody tr th {\n",
       "        vertical-align: top;\n",
       "    }\n",
       "\n",
       "    .dataframe thead th {\n",
       "        text-align: right;\n",
       "    }\n",
       "</style>\n",
       "<table border=\"1\" class=\"dataframe\">\n",
       "  <thead>\n",
       "    <tr style=\"text-align: right;\">\n",
       "      <th></th>\n",
       "      <th>count</th>\n",
       "      <th>mean</th>\n",
       "      <th>std</th>\n",
       "      <th>min</th>\n",
       "      <th>25%</th>\n",
       "      <th>50%</th>\n",
       "      <th>75%</th>\n",
       "      <th>max</th>\n",
       "    </tr>\n",
       "    <tr>\n",
       "      <th>Installs_category</th>\n",
       "      <th></th>\n",
       "      <th></th>\n",
       "      <th></th>\n",
       "      <th></th>\n",
       "      <th></th>\n",
       "      <th></th>\n",
       "      <th></th>\n",
       "      <th></th>\n",
       "    </tr>\n",
       "  </thead>\n",
       "  <tbody>\n",
       "    <tr>\n",
       "      <th>no</th>\n",
       "      <td>0.000</td>\n",
       "      <td>NaN</td>\n",
       "      <td>NaN</td>\n",
       "      <td>NaN</td>\n",
       "      <td>NaN</td>\n",
       "      <td>NaN</td>\n",
       "      <td>NaN</td>\n",
       "      <td>NaN</td>\n",
       "    </tr>\n",
       "    <tr>\n",
       "      <th>Very low</th>\n",
       "      <td>81.000</td>\n",
       "      <td>4.637</td>\n",
       "      <td>0.845</td>\n",
       "      <td>1.000</td>\n",
       "      <td>4.800</td>\n",
       "      <td>5.000</td>\n",
       "      <td>5.000</td>\n",
       "      <td>5.000</td>\n",
       "    </tr>\n",
       "    <tr>\n",
       "      <th>Low</th>\n",
       "      <td>1278.000</td>\n",
       "      <td>4.171</td>\n",
       "      <td>0.826</td>\n",
       "      <td>1.000</td>\n",
       "      <td>3.800</td>\n",
       "      <td>4.400</td>\n",
       "      <td>4.800</td>\n",
       "      <td>5.000</td>\n",
       "    </tr>\n",
       "    <tr>\n",
       "      <th>Moderate</th>\n",
       "      <td>1440.000</td>\n",
       "      <td>4.035</td>\n",
       "      <td>0.604</td>\n",
       "      <td>1.400</td>\n",
       "      <td>3.800</td>\n",
       "      <td>4.200</td>\n",
       "      <td>4.500</td>\n",
       "      <td>5.000</td>\n",
       "    </tr>\n",
       "    <tr>\n",
       "      <th>More than moderate</th>\n",
       "      <td>1616.000</td>\n",
       "      <td>4.093</td>\n",
       "      <td>0.506</td>\n",
       "      <td>1.600</td>\n",
       "      <td>3.900</td>\n",
       "      <td>4.200</td>\n",
       "      <td>4.500</td>\n",
       "      <td>4.900</td>\n",
       "    </tr>\n",
       "    <tr>\n",
       "      <th>High</th>\n",
       "      <td>2113.000</td>\n",
       "      <td>4.208</td>\n",
       "      <td>0.377</td>\n",
       "      <td>1.800</td>\n",
       "      <td>4.000</td>\n",
       "      <td>4.300</td>\n",
       "      <td>4.500</td>\n",
       "      <td>4.900</td>\n",
       "    </tr>\n",
       "    <tr>\n",
       "      <th>Very High</th>\n",
       "      <td>2004.000</td>\n",
       "      <td>4.287</td>\n",
       "      <td>0.295</td>\n",
       "      <td>2.000</td>\n",
       "      <td>4.100</td>\n",
       "      <td>4.300</td>\n",
       "      <td>4.500</td>\n",
       "      <td>4.900</td>\n",
       "    </tr>\n",
       "    <tr>\n",
       "      <th>Top Notch</th>\n",
       "      <td>828.000</td>\n",
       "      <td>4.374</td>\n",
       "      <td>0.194</td>\n",
       "      <td>3.100</td>\n",
       "      <td>4.300</td>\n",
       "      <td>4.400</td>\n",
       "      <td>4.500</td>\n",
       "      <td>4.800</td>\n",
       "    </tr>\n",
       "  </tbody>\n",
       "</table>\n",
       "</div>"
      ],
      "text/plain": [
       "                      count  mean   std   min   25%   50%   75%   max\n",
       "Installs_category                                                    \n",
       "no                    0.000   NaN   NaN   NaN   NaN   NaN   NaN   NaN\n",
       "Very low             81.000 4.637 0.845 1.000 4.800 5.000 5.000 5.000\n",
       "Low                1278.000 4.171 0.826 1.000 3.800 4.400 4.800 5.000\n",
       "Moderate           1440.000 4.035 0.604 1.400 3.800 4.200 4.500 5.000\n",
       "More than moderate 1616.000 4.093 0.506 1.600 3.900 4.200 4.500 4.900\n",
       "High               2113.000 4.208 0.377 1.800 4.000 4.300 4.500 4.900\n",
       "Very High          2004.000 4.287 0.295 2.000 4.100 4.300 4.500 4.900\n",
       "Top Notch           828.000 4.374 0.194 3.100 4.300 4.400 4.500 4.800"
      ]
     },
     "execution_count": 78,
     "metadata": {},
     "output_type": "execute_result"
    }
   ],
   "source": [
    "df.groupby('Installs_category')['Rating'].describe()"
   ]
  },
  {
   "cell_type": "code",
   "execution_count": 79,
   "id": "e4fc8d09-5eca-4d26-9593-e3ab9c312312",
   "metadata": {},
   "outputs": [
    {
     "data": {
      "text/plain": [
       "1469"
      ]
     },
     "execution_count": 79,
     "metadata": {},
     "output_type": "execute_result"
    }
   ],
   "source": [
    "df['Rating'].isnull().sum()"
   ]
  },
  {
   "cell_type": "code",
   "execution_count": 80,
   "id": "7698ea4a-35ec-4fd1-92db-f662342e3276",
   "metadata": {},
   "outputs": [
    {
     "data": {
      "text/plain": [
       "23       More than moderate\n",
       "113      More than moderate\n",
       "123      More than moderate\n",
       "126      More than moderate\n",
       "129                Moderate\n",
       "                ...        \n",
       "10824              Moderate\n",
       "10825                   Low\n",
       "10831              Moderate\n",
       "10835              Very low\n",
       "10838                   Low\n",
       "Name: Installs_category, Length: 1469, dtype: category\n",
       "Categories (8, object): ['no' < 'Very low' < 'Low' < 'Moderate' < 'More than moderate' < 'High' < 'Very High' < 'Top Notch']"
      ]
     },
     "execution_count": 80,
     "metadata": {},
     "output_type": "execute_result"
    }
   ],
   "source": [
    "df['Installs_category'].loc[df['Rating'].isnull()]"
   ]
  },
  {
   "cell_type": "code",
   "execution_count": 81,
   "id": "543b7428-5722-4a54-8b02-e4c2dba456ff",
   "metadata": {},
   "outputs": [
    {
     "data": {
      "text/plain": [
       "Installs_category\n",
       "Low                   880\n",
       "Very low              453\n",
       "Moderate               88\n",
       "More than moderate     31\n",
       "no                     14\n",
       "High                    3\n",
       "Very High               0\n",
       "Top Notch               0\n",
       "Name: count, dtype: int64"
      ]
     },
     "execution_count": 81,
     "metadata": {},
     "output_type": "execute_result"
    }
   ],
   "source": [
    "df['Installs_category'].loc[df['Rating'].isnull()].value_counts()"
   ]
  },
  {
   "cell_type": "markdown",
   "id": "a8119f72-4ee4-4090-8679-44d8000fdce3",
   "metadata": {},
   "source": [
    "We can see that most of the null values from Rating column are for low/moderate Installs_category which make sense that if the app has less installations, it has less Rating and review."
   ]
  },
  {
   "cell_type": "code",
   "execution_count": 82,
   "id": "7fc401a6-02de-47f4-b0b0-d58d142492b4",
   "metadata": {},
   "outputs": [
    {
     "data": {
      "image/png": "[encoded data removed]",
      "text/plain": [
       "<Figure size 1600x1000 with 1 Axes>"
      ]
     },
     "metadata": {},
     "output_type": "display_data"
    }
   ],
   "source": [
    "plt.figure(figsize=(16, 10))\n",
    "sns.boxplot(x='Installs_category', y='Rating', hue='Installs_category', data=df)\n",
    "\n",
    "# Add the text of number of null values in each category\n",
    "\n",
    "plt.text(0, 3.5, 'Null values: 14')\n",
    "plt.text(1, 3.5, 'Null values: 453')\n",
    "plt.text(2, 3.5, 'Null values: 880')\n",
    "plt.text(3, 3.5, 'Null values: 88')\n",
    "plt.text(4, 3.5, 'Null values: 31')\n",
    "plt.text(5, 3.5, 'Null values: 3')\n",
    "plt.text(6, 3.5, 'Null values: 0')\n",
    "plt.text(7, 3.5, 'Null values: 0')\n",
    "\n",
    "plt.show()"
   ]
  },
  {
   "cell_type": "markdown",
   "id": "9956f3b1-adb6-466b-a056-67bfa8b6856e",
   "metadata": {
    "jp-MarkdownHeadingCollapsed": true
   },
   "source": [
    "## Fill missing values in column 'Rating'"
   ]
  },
  {
   "cell_type": "code",
   "execution_count": 83,
   "id": "a7a8d44c-f0ee-4195-aa77-494984d920ab",
   "metadata": {},
   "outputs": [],
   "source": [
    "# Fill missing values in column 'Rating' where 'Rating' is null/NaN\n",
    "# Fill values is different-different for each categories of 'Installs_category'"
   ]
  },
  {
   "cell_type": "code",
   "execution_count": 84,
   "id": "8b55ce16-db50-408b-8ac7-5d56ef4fe941",
   "metadata": {},
   "outputs": [],
   "source": [
    "def fill_missing_ratings(df, category, fill_value):\n",
    "    filtered_df = df[ (df['Installs_category'] == category) & df['Rating'].isnull() ]\n",
    "    df.loc[filtered_df.index, 'Rating'] = fill_value\n",
    "    return df"
   ]
  },
  {
   "cell_type": "code",
   "execution_count": 85,
   "id": "eb5d269b-0bc8-4941-b216-26a5245cdf19",
   "metadata": {},
   "outputs": [
    {
     "data": {
      "text/html": [
       "<div>\n",
       "<style scoped>\n",
       "    .dataframe tbody tr th:only-of-type {\n",
       "        vertical-align: middle;\n",
       "    }\n",
       "\n",
       "    .dataframe tbody tr th {\n",
       "        vertical-align: top;\n",
       "    }\n",
       "\n",
       "    .dataframe thead th {\n",
       "        text-align: right;\n",
       "    }\n",
       "</style>\n",
       "<table border=\"1\" class=\"dataframe\">\n",
       "  <thead>\n",
       "    <tr style=\"text-align: right;\">\n",
       "      <th></th>\n",
       "      <th>App</th>\n",
       "      <th>Category</th>\n",
       "      <th>Rating</th>\n",
       "      <th>Reviews</th>\n",
       "      <th>Size_bytes</th>\n",
       "      <th>Installs</th>\n",
       "      <th>Type</th>\n",
       "      <th>Price</th>\n",
       "      <th>Content Rating</th>\n",
       "      <th>Genres</th>\n",
       "      <th>Last Updated</th>\n",
       "      <th>Current Ver</th>\n",
       "      <th>Android Ver</th>\n",
       "      <th>Size_MB</th>\n",
       "      <th>Installs_category</th>\n",
       "    </tr>\n",
       "  </thead>\n",
       "  <tbody>\n",
       "    <tr>\n",
       "      <th>478</th>\n",
       "      <td>Truth or Dare Pro</td>\n",
       "      <td>DATING</td>\n",
       "      <td>NaN</td>\n",
       "      <td>0</td>\n",
       "      <td>20971520.000</td>\n",
       "      <td>50</td>\n",
       "      <td>Paid</td>\n",
       "      <td>1.490</td>\n",
       "      <td>Teen</td>\n",
       "      <td>Dating</td>\n",
       "      <td>September 1, 2017</td>\n",
       "      <td>1.0</td>\n",
       "      <td>4.0 and up</td>\n",
       "      <td>20.000</td>\n",
       "      <td>Low</td>\n",
       "    </tr>\n",
       "  </tbody>\n",
       "</table>\n",
       "</div>"
      ],
      "text/plain": [
       "                   App Category  Rating  Reviews   Size_bytes  Installs  Type  \\\n",
       "478  Truth or Dare Pro   DATING     NaN        0 20971520.000        50  Paid   \n",
       "\n",
       "     Price Content Rating  Genres       Last Updated Current Ver Android Ver  \\\n",
       "478  1.490           Teen  Dating  September 1, 2017         1.0  4.0 and up   \n",
       "\n",
       "     Size_MB Installs_category  \n",
       "478   20.000               Low  "
      ]
     },
     "execution_count": 85,
     "metadata": {},
     "output_type": "execute_result"
    }
   ],
   "source": [
    "filtered_df = df[(df[ 'Installs_category'] == 'Low') & df['Rating'].isnull() ]\n",
    "filtered_df.head(1)"
   ]
  },
  {
   "cell_type": "code",
   "execution_count": 86,
   "id": "2a748bef-1ea5-4822-9953-a3b60b4dedcd",
   "metadata": {},
   "outputs": [
    {
     "data": {
      "text/plain": [
       "Index([478, 479, 480, 610, 613], dtype='int64')"
      ]
     },
     "execution_count": 86,
     "metadata": {},
     "output_type": "execute_result"
    }
   ],
   "source": [
    "filtered_df.index[0:5]"
   ]
  },
  {
   "cell_type": "code",
   "execution_count": 87,
   "id": "97e7d04b-9f90-4bd0-a60d-c873a9f90aa5",
   "metadata": {},
   "outputs": [
    {
     "data": {
      "text/plain": [
       "478   NaN\n",
       "479   NaN\n",
       "480   NaN\n",
       "610   NaN\n",
       "613   NaN\n",
       "Name: Rating, dtype: float64"
      ]
     },
     "execution_count": 87,
     "metadata": {},
     "output_type": "execute_result"
    }
   ],
   "source": [
    "df.loc[filtered_df.index, 'Rating'][0:5]"
   ]
  },
  {
   "cell_type": "code",
   "execution_count": 88,
   "id": "7ae065c7-f8a6-4540-8bf5-88d53ac1519c",
   "metadata": {},
   "outputs": [],
   "source": [
    "# fill_value is mean of: df.groupby('Installs_category')['Rating'].describe()\n",
    "\n",
    "df = fill_missing_ratings(df, 'Low', 4.170970)\n",
    "df = fill_missing_ratings(df, 'Very low', 4.637037)\n",
    "df = fill_missing_ratings(df, 'Moderate', 4.035417)\n",
    "df = fill_missing_ratings(df, 'More than moderate', 4.093255)\n",
    "df = fill_missing_ratings(df, 'High', 4.207525)\n",
    "df = fill_missing_ratings(df, 'no', 0)"
   ]
  },
  {
   "cell_type": "code",
   "execution_count": 89,
   "id": "daa12cb2-0387-461c-a327-985368f76e06",
   "metadata": {},
   "outputs": [
    {
     "data": {
      "text/plain": [
       "Installs_category\n",
       "no                    0\n",
       "Very low              0\n",
       "Low                   0\n",
       "Moderate              0\n",
       "More than moderate    0\n",
       "High                  0\n",
       "Very High             0\n",
       "Top Notch             0\n",
       "Name: count, dtype: int64"
      ]
     },
     "execution_count": 89,
     "metadata": {},
     "output_type": "execute_result"
    }
   ],
   "source": [
    "df['Installs_category'].loc[df['Rating'].isnull()].value_counts()"
   ]
  },
  {
   "cell_type": "code",
   "execution_count": 90,
   "id": "48eeba3b-b8a0-462b-973b-af1a2aa735ab",
   "metadata": {},
   "outputs": [
    {
     "data": {
      "text/plain": [
       "0"
      ]
     },
     "execution_count": 90,
     "metadata": {},
     "output_type": "execute_result"
    }
   ],
   "source": [
    "df['Rating'].isnull().sum()"
   ]
  },
  {
   "cell_type": "markdown",
   "id": "d4fe1a5d-f803-4246-9d0e-cde95b0b02c7",
   "metadata": {
    "jp-MarkdownHeadingCollapsed": true
   },
   "source": [
    "## Relationship between 'Installs_category' and 'Reviews'"
   ]
  },
  {
   "cell_type": "code",
   "execution_count": 91,
   "id": "1b8b0ee6-72df-4452-b126-866687f0636e",
   "metadata": {},
   "outputs": [
    {
     "data": {
      "text/plain": [
       "0       159\n",
       "1       967\n",
       "2     87510\n",
       "3    215644\n",
       "4       967\n",
       "Name: Reviews, dtype: int32"
      ]
     },
     "execution_count": 91,
     "metadata": {},
     "output_type": "execute_result"
    }
   ],
   "source": [
    "df['Reviews'].head()"
   ]
  },
  {
   "cell_type": "code",
   "execution_count": 92,
   "id": "64c20413-ce01-4edc-a549-12fe6acf7dc8",
   "metadata": {},
   "outputs": [
    {
     "data": {
      "text/plain": [
       "0"
      ]
     },
     "execution_count": 92,
     "metadata": {},
     "output_type": "execute_result"
    }
   ],
   "source": [
    "df['Reviews'].isnull().sum()"
   ]
  },
  {
   "cell_type": "code",
   "execution_count": 93,
   "id": "f70372df-a1e6-43af-b43a-9b3e536ba947",
   "metadata": {},
   "outputs": [
    {
     "data": {
      "text/html": [
       "<div>\n",
       "<style scoped>\n",
       "    .dataframe tbody tr th:only-of-type {\n",
       "        vertical-align: middle;\n",
       "    }\n",
       "\n",
       "    .dataframe tbody tr th {\n",
       "        vertical-align: top;\n",
       "    }\n",
       "\n",
       "    .dataframe thead th {\n",
       "        text-align: right;\n",
       "    }\n",
       "</style>\n",
       "<table border=\"1\" class=\"dataframe\">\n",
       "  <thead>\n",
       "    <tr style=\"text-align: right;\">\n",
       "      <th></th>\n",
       "      <th>count</th>\n",
       "      <th>mean</th>\n",
       "      <th>std</th>\n",
       "      <th>min</th>\n",
       "      <th>25%</th>\n",
       "      <th>50%</th>\n",
       "      <th>75%</th>\n",
       "      <th>max</th>\n",
       "    </tr>\n",
       "    <tr>\n",
       "      <th>Installs_category</th>\n",
       "      <th></th>\n",
       "      <th></th>\n",
       "      <th></th>\n",
       "      <th></th>\n",
       "      <th></th>\n",
       "      <th></th>\n",
       "      <th></th>\n",
       "      <th></th>\n",
       "    </tr>\n",
       "  </thead>\n",
       "  <tbody>\n",
       "    <tr>\n",
       "      <th>no</th>\n",
       "      <td>14.000</td>\n",
       "      <td>0.000</td>\n",
       "      <td>0.000</td>\n",
       "      <td>0.000</td>\n",
       "      <td>0.000</td>\n",
       "      <td>0.000</td>\n",
       "      <td>0.000</td>\n",
       "      <td>0.000</td>\n",
       "    </tr>\n",
       "    <tr>\n",
       "      <th>Very low</th>\n",
       "      <td>534.000</td>\n",
       "      <td>0.903</td>\n",
       "      <td>1.946</td>\n",
       "      <td>0.000</td>\n",
       "      <td>0.000</td>\n",
       "      <td>0.000</td>\n",
       "      <td>1.000</td>\n",
       "      <td>20.000</td>\n",
       "    </tr>\n",
       "    <tr>\n",
       "      <th>Low</th>\n",
       "      <td>2158.000</td>\n",
       "      <td>19.967</td>\n",
       "      <td>46.066</td>\n",
       "      <td>0.000</td>\n",
       "      <td>2.000</td>\n",
       "      <td>7.000</td>\n",
       "      <td>19.000</td>\n",
       "      <td>787.000</td>\n",
       "    </tr>\n",
       "    <tr>\n",
       "      <th>Moderate</th>\n",
       "      <td>1528.000</td>\n",
       "      <td>268.584</td>\n",
       "      <td>562.686</td>\n",
       "      <td>0.000</td>\n",
       "      <td>51.000</td>\n",
       "      <td>114.000</td>\n",
       "      <td>249.000</td>\n",
       "      <td>10249.000</td>\n",
       "    </tr>\n",
       "    <tr>\n",
       "      <th>More than moderate</th>\n",
       "      <td>1647.000</td>\n",
       "      <td>2691.725</td>\n",
       "      <td>4559.975</td>\n",
       "      <td>0.000</td>\n",
       "      <td>518.500</td>\n",
       "      <td>1205.000</td>\n",
       "      <td>2921.000</td>\n",
       "      <td>57076.000</td>\n",
       "    </tr>\n",
       "    <tr>\n",
       "      <th>High</th>\n",
       "      <td>2116.000</td>\n",
       "      <td>27137.232</td>\n",
       "      <td>33710.780</td>\n",
       "      <td>1.000</td>\n",
       "      <td>7059.750</td>\n",
       "      <td>16193.500</td>\n",
       "      <td>33674.000</td>\n",
       "      <td>376223.000</td>\n",
       "    </tr>\n",
       "    <tr>\n",
       "      <th>Very High</th>\n",
       "      <td>2004.000</td>\n",
       "      <td>265066.762</td>\n",
       "      <td>334254.774</td>\n",
       "      <td>66.000</td>\n",
       "      <td>68637.750</td>\n",
       "      <td>155557.500</td>\n",
       "      <td>319713.250</td>\n",
       "      <td>3093932.000</td>\n",
       "    </tr>\n",
       "    <tr>\n",
       "      <th>Top Notch</th>\n",
       "      <td>828.000</td>\n",
       "      <td>5097933.720</td>\n",
       "      <td>9405582.611</td>\n",
       "      <td>9602.000</td>\n",
       "      <td>1013766.500</td>\n",
       "      <td>2325369.500</td>\n",
       "      <td>5395504.500</td>\n",
       "      <td>78158306.000</td>\n",
       "    </tr>\n",
       "  </tbody>\n",
       "</table>\n",
       "</div>"
      ],
      "text/plain": [
       "                      count        mean         std      min         25%  \\\n",
       "Installs_category                                                          \n",
       "no                   14.000       0.000       0.000    0.000       0.000   \n",
       "Very low            534.000       0.903       1.946    0.000       0.000   \n",
       "Low                2158.000      19.967      46.066    0.000       2.000   \n",
       "Moderate           1528.000     268.584     562.686    0.000      51.000   \n",
       "More than moderate 1647.000    2691.725    4559.975    0.000     518.500   \n",
       "High               2116.000   27137.232   33710.780    1.000    7059.750   \n",
       "Very High          2004.000  265066.762  334254.774   66.000   68637.750   \n",
       "Top Notch           828.000 5097933.720 9405582.611 9602.000 1013766.500   \n",
       "\n",
       "                           50%         75%          max  \n",
       "Installs_category                                        \n",
       "no                       0.000       0.000        0.000  \n",
       "Very low                 0.000       1.000       20.000  \n",
       "Low                      7.000      19.000      787.000  \n",
       "Moderate               114.000     249.000    10249.000  \n",
       "More than moderate    1205.000    2921.000    57076.000  \n",
       "High                 16193.500   33674.000   376223.000  \n",
       "Very High           155557.500  319713.250  3093932.000  \n",
       "Top Notch          2325369.500 5395504.500 78158306.000  "
      ]
     },
     "execution_count": 93,
     "metadata": {},
     "output_type": "execute_result"
    }
   ],
   "source": [
    "df.groupby('Installs_category')['Reviews'].describe()"
   ]
  },
  {
   "cell_type": "code",
   "execution_count": 94,
   "id": "0a0db6f5-e30c-419e-a25d-e4738c62a7b3",
   "metadata": {},
   "outputs": [
    {
     "data": {
      "image/png": "[encoded data removed]",
      "text/plain": [
       "<Figure size 1200x600 with 1 Axes>"
      ]
     },
     "metadata": {},
     "output_type": "display_data"
    }
   ],
   "source": [
    "plt.figure(figsize=(12, 6))\n",
    "sns.boxplot(x='Installs_category', y='Reviews', hue='Installs_category', data=df)\n",
    "plt.ticklabel_format(style='plain', axis='y')\n",
    "plt.show()"
   ]
  },
  {
   "cell_type": "code",
   "execution_count": 95,
   "id": "e04c35e2-4b82-4a41-89e5-e263592e6d35",
   "metadata": {},
   "outputs": [
    {
     "data": {
      "image/png": "[encoded data removed]",
      "text/plain": [
       "<Figure size 1200x600 with 1 Axes>"
      ]
     },
     "metadata": {},
     "output_type": "display_data"
    }
   ],
   "source": [
    "plt.figure(figsize=(12, 6))\n",
    "sns.boxplot(x='Installs_category', y=np.log10(df['Reviews']), hue='Installs_category', data=df)\n",
    "plt.ticklabel_format(style='plain', axis='y')\n",
    "plt.show()"
   ]
  },
  {
   "cell_type": "code",
   "execution_count": 96,
   "id": "c72309d1-5aff-43f3-93dc-e03e98231750",
   "metadata": {},
   "outputs": [
    {
     "name": "stdout",
     "output_type": "stream",
     "text": [
      "min: -inf, max: 7.892975137931482\n"
     ]
    }
   ],
   "source": [
    "temp_log = np.log10(df['Reviews'])\n",
    "print(f'min: {min(temp_log)}, max: {max(temp_log)}')"
   ]
  },
  {
   "cell_type": "code",
   "execution_count": 97,
   "id": "bdf411f8-a062-435a-8df4-4938a7f451db",
   "metadata": {},
   "outputs": [
    {
     "data": {
      "text/html": [
       "<div>\n",
       "<style scoped>\n",
       "    .dataframe tbody tr th:only-of-type {\n",
       "        vertical-align: middle;\n",
       "    }\n",
       "\n",
       "    .dataframe tbody tr th {\n",
       "        vertical-align: top;\n",
       "    }\n",
       "\n",
       "    .dataframe thead th {\n",
       "        text-align: right;\n",
       "    }\n",
       "</style>\n",
       "<table border=\"1\" class=\"dataframe\">\n",
       "  <thead>\n",
       "    <tr style=\"text-align: right;\">\n",
       "      <th></th>\n",
       "      <th>Reviews</th>\n",
       "      <th>review_log</th>\n",
       "    </tr>\n",
       "  </thead>\n",
       "  <tbody>\n",
       "    <tr>\n",
       "      <th>0</th>\n",
       "      <td>159</td>\n",
       "      <td>2.201</td>\n",
       "    </tr>\n",
       "    <tr>\n",
       "      <th>1</th>\n",
       "      <td>967</td>\n",
       "      <td>2.985</td>\n",
       "    </tr>\n",
       "    <tr>\n",
       "      <th>2</th>\n",
       "      <td>87510</td>\n",
       "      <td>4.942</td>\n",
       "    </tr>\n",
       "    <tr>\n",
       "      <th>3</th>\n",
       "      <td>215644</td>\n",
       "      <td>5.334</td>\n",
       "    </tr>\n",
       "    <tr>\n",
       "      <th>4</th>\n",
       "      <td>967</td>\n",
       "      <td>2.985</td>\n",
       "    </tr>\n",
       "  </tbody>\n",
       "</table>\n",
       "</div>"
      ],
      "text/plain": [
       "   Reviews  review_log\n",
       "0      159       2.201\n",
       "1      967       2.985\n",
       "2    87510       4.942\n",
       "3   215644       5.334\n",
       "4      967       2.985"
      ]
     },
     "execution_count": 97,
     "metadata": {},
     "output_type": "execute_result"
    }
   ],
   "source": [
    "# The .assign() method is a way to add new columns to a DataFrame (or a temporary view of it) without modifying the original DataFrame in place\n",
    "\n",
    "df[['Reviews']].assign(review_log=temp_log).head()"
   ]
  },
  {
   "cell_type": "markdown",
   "id": "c29f4c9d-d2d6-4dc5-ba42-9a9364d3e62c",
   "metadata": {
    "jp-MarkdownHeadingCollapsed": true
   },
   "source": [
    "## Scatter plot between Rating, Reviews and Installs_category"
   ]
  },
  {
   "cell_type": "code",
   "execution_count": 98,
   "id": "d6f0f720-283d-4951-a69a-16fa0e7fa5da",
   "metadata": {},
   "outputs": [
    {
     "data": {
      "image/png": "[encoded data removed]",
      "text/plain": [
       "<Figure size 1200x600 with 1 Axes>"
      ]
     },
     "metadata": {},
     "output_type": "display_data"
    }
   ],
   "source": [
    "plt.figure(figsize=(12, 6))\n",
    "sns.scatterplot(x='Rating', y='Reviews', hue='Installs_category', data=df)\n",
    "plt.ticklabel_format(style='plain', axis='y')\n",
    "plt.show()"
   ]
  },
  {
   "cell_type": "markdown",
   "id": "031fc569-f637-429e-8f33-a5fb32c039e6",
   "metadata": {},
   "source": [
    "It doesn't show any trend, because, you should know that Rating is a categorical variable (Ordinal) and Reviews is a continuous variable, therefore, we can not plot them together."
   ]
  },
  {
   "cell_type": "markdown",
   "id": "33bfb208-88d4-4bc2-9ed3-0b5167203bfd",
   "metadata": {
    "jp-MarkdownHeadingCollapsed": true
   },
   "source": [
    "## Scatter plot between Reviews and Installs"
   ]
  },
  {
   "cell_type": "code",
   "execution_count": 99,
   "id": "3c312cab-cd3e-4dc3-a626-7e76d942d233",
   "metadata": {},
   "outputs": [
    {
     "data": {
      "text/html": [
       "<div>\n",
       "<style scoped>\n",
       "    .dataframe tbody tr th:only-of-type {\n",
       "        vertical-align: middle;\n",
       "    }\n",
       "\n",
       "    .dataframe tbody tr th {\n",
       "        vertical-align: top;\n",
       "    }\n",
       "\n",
       "    .dataframe thead th {\n",
       "        text-align: right;\n",
       "    }\n",
       "</style>\n",
       "<table border=\"1\" class=\"dataframe\">\n",
       "  <thead>\n",
       "    <tr style=\"text-align: right;\">\n",
       "      <th></th>\n",
       "      <th>Installs</th>\n",
       "      <th>Reviews</th>\n",
       "    </tr>\n",
       "  </thead>\n",
       "  <tbody>\n",
       "    <tr>\n",
       "      <th>0</th>\n",
       "      <td>10000</td>\n",
       "      <td>159</td>\n",
       "    </tr>\n",
       "    <tr>\n",
       "      <th>1</th>\n",
       "      <td>500000</td>\n",
       "      <td>967</td>\n",
       "    </tr>\n",
       "    <tr>\n",
       "      <th>2</th>\n",
       "      <td>5000000</td>\n",
       "      <td>87510</td>\n",
       "    </tr>\n",
       "    <tr>\n",
       "      <th>3</th>\n",
       "      <td>50000000</td>\n",
       "      <td>215644</td>\n",
       "    </tr>\n",
       "    <tr>\n",
       "      <th>4</th>\n",
       "      <td>100000</td>\n",
       "      <td>967</td>\n",
       "    </tr>\n",
       "  </tbody>\n",
       "</table>\n",
       "</div>"
      ],
      "text/plain": [
       "   Installs  Reviews\n",
       "0     10000      159\n",
       "1    500000      967\n",
       "2   5000000    87510\n",
       "3  50000000   215644\n",
       "4    100000      967"
      ]
     },
     "execution_count": 99,
     "metadata": {},
     "output_type": "execute_result"
    }
   ],
   "source": [
    "df[['Installs','Reviews']].head()"
   ]
  },
  {
   "cell_type": "code",
   "execution_count": 100,
   "id": "2ac9e462-b838-4bac-9afc-95d94eda38c6",
   "metadata": {},
   "outputs": [
    {
     "data": {
      "image/png": "[encoded data removed]",
      "text/plain": [
       "<Figure size 1200x600 with 1 Axes>"
      ]
     },
     "metadata": {},
     "output_type": "display_data"
    }
   ],
   "source": [
    "plt.figure(figsize=(12, 6))\n",
    "sns.scatterplot(x='Installs', y='Reviews', data=df)\n",
    "plt.ticklabel_format(style='plain', axis='y')\n",
    "plt.ticklabel_format(style='plain', axis='x')\n",
    "plt.show()"
   ]
  },
  {
   "cell_type": "code",
   "execution_count": 101,
   "id": "77f03a4a-e924-444d-bc77-324198903c0b",
   "metadata": {},
   "outputs": [
    {
     "data": {
      "image/png": "[encoded data removed]",
      "text/plain": [
       "<Figure size 1200x600 with 1 Axes>"
      ]
     },
     "metadata": {},
     "output_type": "display_data"
    }
   ],
   "source": [
    "plt.figure(figsize=(12, 6))\n",
    "sns.scatterplot(x='Reviews', y='Installs', data=df)\n",
    "plt.ticklabel_format(style='plain', axis='y')\n",
    "plt.ticklabel_format(style='plain', axis='x')\n",
    "plt.show()"
   ]
  },
  {
   "cell_type": "markdown",
   "id": "6a61a4c6-bd1e-4f2a-929b-661b58e1918b",
   "metadata": {},
   "source": [
    "We did not see any trend and the issue is we need to normalize the data before plotting it."
   ]
  },
  {
   "cell_type": "code",
   "execution_count": 102,
   "id": "60db36bd-4e8c-491f-9477-50edd376a7ef",
   "metadata": {},
   "outputs": [
    {
     "data": {
      "image/png": "[encoded data removed]",
      "text/plain": [
       "<Figure size 1200x600 with 1 Axes>"
      ]
     },
     "metadata": {},
     "output_type": "display_data"
    }
   ],
   "source": [
    "plt.figure(figsize=(12, 6))\n",
    "sns.scatterplot(x=np.log10(df['Installs']), y=np.log10(df['Reviews']), data=df)\n",
    "plt.ticklabel_format(style='plain', axis='y')\n",
    "plt.ticklabel_format(style='plain', axis='x')\n",
    "plt.show()"
   ]
  },
  {
   "cell_type": "markdown",
   "id": "c5535a02-217e-482e-bfc5-dc6ea7aa2152",
   "metadata": {},
   "source": [
    "We see a slight trend but still the issue is installs are not discreet number not continuous one."
   ]
  },
  {
   "cell_type": "markdown",
   "id": "5821408d-4b6d-42e6-a8b8-c30270132cc6",
   "metadata": {
    "jp-MarkdownHeadingCollapsed": true
   },
   "source": [
    "## Scatter plot with trend line between Reviews and Installs"
   ]
  },
  {
   "cell_type": "code",
   "execution_count": 103,
   "id": "b0c19e65-389d-4f26-b3c9-cc324696c895",
   "metadata": {},
   "outputs": [
    {
     "data": {
      "text/plain": [
       "<Figure size 1600x1200 with 0 Axes>"
      ]
     },
     "metadata": {},
     "output_type": "display_data"
    },
    {
     "data": {
      "image/png": "[encoded data removed]",
      "text/plain": [
       "<Figure size 666.667x500 with 1 Axes>"
      ]
     },
     "metadata": {},
     "output_type": "display_data"
    }
   ],
   "source": [
    "plt.figure(figsize=(16, 12))\n",
    "sns.lmplot(x='Installs', y='Reviews', data=df, aspect=16/12)\n",
    "plt.ticklabel_format(style='plain', axis='y')\n",
    "plt.ticklabel_format(style='plain', axis='x')\n",
    "plt.xticks(rotation=90)\n",
    "plt.show()"
   ]
  },
  {
   "cell_type": "markdown",
   "id": "0f6cf027-d793-481b-87b8-a35675ff1b9b",
   "metadata": {},
   "source": [
    "Here, we can see a nice trend, which shows that number of Reviews increases with the number of Installs, which is quite obvious."
   ]
  },
  {
   "cell_type": "markdown",
   "id": "748a81f5-b26e-4954-a3f0-b012201c725e",
   "metadata": {
    "jp-MarkdownHeadingCollapsed": true
   },
   "source": [
    "## Duplicates"
   ]
  },
  {
   "cell_type": "code",
   "execution_count": 104,
   "id": "6fdce1a4-758b-40d1-8805-fd4ae235476d",
   "metadata": {},
   "outputs": [
    {
     "data": {
      "text/plain": [
       "0        False\n",
       "1        False\n",
       "2        False\n",
       "3        False\n",
       "4        False\n",
       "         ...  \n",
       "10836    False\n",
       "10837    False\n",
       "10838    False\n",
       "10839    False\n",
       "10840    False\n",
       "Length: 10829, dtype: bool"
      ]
     },
     "execution_count": 104,
     "metadata": {},
     "output_type": "execute_result"
    }
   ],
   "source": [
    "df.duplicated()"
   ]
  },
  {
   "cell_type": "code",
   "execution_count": 105,
   "id": "fb1e90d3-1d66-4580-9561-d493a5b2280d",
   "metadata": {},
   "outputs": [
    {
     "data": {
      "text/plain": [
       "483"
      ]
     },
     "execution_count": 105,
     "metadata": {},
     "output_type": "execute_result"
    }
   ],
   "source": [
    "df.duplicated().sum()"
   ]
  },
  {
   "cell_type": "code",
   "execution_count": 106,
   "id": "69ac3354-44f6-4bcb-a4a8-029fbee03a06",
   "metadata": {},
   "outputs": [
    {
     "name": "stdout",
     "output_type": "stream",
     "text": [
      "Number of duplicates in 'App' column are: 1181\n",
      "Number of duplicates in 'Category' column are: 10796\n",
      "Number of duplicates in 'Rating' column are: 10784\n",
      "Number of duplicates in 'Reviews' column are: 4830\n",
      "Number of duplicates in 'Size_bytes' column are: 10373\n",
      "Number of duplicates in 'Installs' column are: 10809\n",
      "Number of duplicates in 'Type' column are: 10827\n",
      "Number of duplicates in 'Price' column are: 10737\n",
      "Number of duplicates in 'Content Rating' column are: 10823\n",
      "Number of duplicates in 'Genres' column are: 10710\n",
      "Number of duplicates in 'Last Updated' column are: 9453\n",
      "Number of duplicates in 'Current Ver' column are: 7998\n",
      "Number of duplicates in 'Android Ver' column are: 10796\n",
      "Number of duplicates in 'Size_MB' column are: 10373\n",
      "Number of duplicates in 'Installs_category' column are: 10821\n"
     ]
    }
   ],
   "source": [
    "for col in df.columns:\n",
    "    print(f\"Number of duplicates in '{col}' column are: {df[col].duplicated().sum()}\")"
   ]
  },
  {
   "cell_type": "code",
   "execution_count": 107,
   "id": "23f2445b-43a0-4475-97c7-5181acba2800",
   "metadata": {},
   "outputs": [
    {
     "data": {
      "text/plain": [
       "Category\n",
       "FAMILY                 1968\n",
       "GAME                   1144\n",
       "TOOLS                   841\n",
       "MEDICAL                 463\n",
       "BUSINESS                460\n",
       "PRODUCTIVITY            424\n",
       "PERSONALIZATION         390\n",
       "COMMUNICATION           387\n",
       "SPORTS                  384\n",
       "LIFESTYLE               382\n",
       "FINANCE                 366\n",
       "HEALTH_AND_FITNESS      341\n",
       "PHOTOGRAPHY             335\n",
       "SOCIAL                  295\n",
       "NEWS_AND_MAGAZINES      283\n",
       "SHOPPING                260\n",
       "TRAVEL_AND_LOCAL        258\n",
       "DATING                  234\n",
       "BOOKS_AND_REFERENCE     230\n",
       "VIDEO_PLAYERS           175\n",
       "EDUCATION               156\n",
       "ENTERTAINMENT           149\n",
       "MAPS_AND_NAVIGATION     137\n",
       "FOOD_AND_DRINK          127\n",
       "HOUSE_AND_HOME           88\n",
       "AUTO_AND_VEHICLES        85\n",
       "LIBRARIES_AND_DEMO       84\n",
       "WEATHER                  82\n",
       "EVENTS                   64\n",
       "ART_AND_DESIGN           64\n",
       "PARENTING                60\n",
       "COMICS                   60\n",
       "BEAUTY                   53\n",
       "Name: count, dtype: int64"
      ]
     },
     "execution_count": 107,
     "metadata": {},
     "output_type": "execute_result"
    }
   ],
   "source": [
    "df['Category'].value_counts()"
   ]
  },
  {
   "cell_type": "code",
   "execution_count": 108,
   "id": "ea2564f4-decd-4e0e-a58f-dbf2067353c2",
   "metadata": {},
   "outputs": [
    {
     "name": "stdout",
     "output_type": "stream",
     "text": [
      "10829\n",
      "10796\n",
      "33\n",
      "10796+33 = 10829\n"
     ]
    }
   ],
   "source": [
    "print( len(df['Category']) )\n",
    "print( df['Category'].duplicated().sum() )\n",
    "print( len(df['Category'].value_counts().index) )\n",
    "\n",
    "print(f'{df['Category'].duplicated().sum()}+{len(df['Category'].value_counts().index)} = \\\n",
    "{df['Category'].duplicated().sum()+len(df['Category'].value_counts().index)}')"
   ]
  },
  {
   "cell_type": "markdown",
   "id": "5853a9ee-0023-48ea-8b6c-2a3dc1cb45e1",
   "metadata": {},
   "source": [
    "There are 33 unique values in 'Category' column. Total values in 'Category' column is 10829. Obviously 10829-33=10796 values are duplicates of 33 unique values of 'Category' column."
   ]
  },
  {
   "cell_type": "code",
   "execution_count": 109,
   "id": "8a8c99bd-bf28-430e-a386-120a4c584542",
   "metadata": {},
   "outputs": [
    {
     "data": {
      "text/plain": [
       "483"
      ]
     },
     "execution_count": 109,
     "metadata": {},
     "output_type": "execute_result"
    }
   ],
   "source": [
    "df.duplicated().sum()"
   ]
  },
  {
   "cell_type": "code",
   "execution_count": 110,
   "id": "9b9dd582-861e-47c6-8acf-43ce85ca93ce",
   "metadata": {},
   "outputs": [
    {
     "data": {
      "text/plain": [
       "0"
      ]
     },
     "execution_count": 110,
     "metadata": {},
     "output_type": "execute_result"
    }
   ],
   "source": [
    "df.drop_duplicates(inplace=True)\n",
    "df.duplicated().sum()"
   ]
  },
  {
   "cell_type": "code",
   "execution_count": 111,
   "id": "bb9644eb-262a-4283-b0de-5d49107f427d",
   "metadata": {},
   "outputs": [
    {
     "data": {
      "text/plain": [
       "(10346, 15)"
      ]
     },
     "execution_count": 111,
     "metadata": {},
     "output_type": "execute_result"
    }
   ],
   "source": [
    "df.shape"
   ]
  },
  {
   "cell_type": "markdown",
   "id": "f75d82ee-3342-48de-8de6-03b0a674378e",
   "metadata": {
    "jp-MarkdownHeadingCollapsed": true
   },
   "source": [
    "## Which category has the highest number of apps?"
   ]
  },
  {
   "cell_type": "code",
   "execution_count": 112,
   "id": "3857ff37-57a2-47a6-a0bc-f632d22e9901",
   "metadata": {},
   "outputs": [
    {
     "data": {
      "text/plain": [
       "Category\n",
       "FAMILY             1939\n",
       "GAME               1121\n",
       "TOOLS               841\n",
       "BUSINESS            427\n",
       "MEDICAL             408\n",
       "PRODUCTIVITY        407\n",
       "PERSONALIZATION     386\n",
       "LIFESTYLE           373\n",
       "COMMUNICATION       366\n",
       "FINANCE             360\n",
       "Name: count, dtype: int64"
      ]
     },
     "execution_count": 112,
     "metadata": {},
     "output_type": "execute_result"
    }
   ],
   "source": [
    "df['Category'].value_counts().head(10)"
   ]
  },
  {
   "cell_type": "markdown",
   "id": "9a86f64f-3377-45b4-901a-4292fbac500b",
   "metadata": {
    "jp-MarkdownHeadingCollapsed": true
   },
   "source": [
    "## Which category has the highest number of installs?"
   ]
  },
  {
   "cell_type": "code",
   "execution_count": 113,
   "id": "9f809d5e-c477-4fa2-a58e-c193a679db34",
   "metadata": {},
   "outputs": [
    {
     "data": {
      "text/plain": [
       "Category\n",
       "GAME                  31544024415\n",
       "COMMUNICATION         24152276251\n",
       "SOCIAL                12513867902\n",
       "PRODUCTIVITY          12463091369\n",
       "TOOLS                 11452271905\n",
       "FAMILY                10041632405\n",
       "PHOTOGRAPHY            9721247655\n",
       "TRAVEL_AND_LOCAL       6361887146\n",
       "VIDEO_PLAYERS          6222002720\n",
       "NEWS_AND_MAGAZINES     5393217760\n",
       "Name: Installs, dtype: int64"
      ]
     },
     "execution_count": 113,
     "metadata": {},
     "output_type": "execute_result"
    }
   ],
   "source": [
    "df.groupby('Category')['Installs'].sum().sort_values(ascending=False).head(10)"
   ]
  },
  {
   "cell_type": "markdown",
   "id": "16e15b59-bc6d-42f2-b070-25365ffd01f7",
   "metadata": {
    "jp-MarkdownHeadingCollapsed": true
   },
   "source": [
    "## Which category has the highest number of reviews?"
   ]
  },
  {
   "cell_type": "code",
   "execution_count": 114,
   "id": "6e8f84f5-3189-4f61-bb99-cd6c2e20906a",
   "metadata": {},
   "outputs": [
    {
     "data": {
      "text/plain": [
       "Category\n",
       "GAME               1415536650\n",
       "COMMUNICATION       601273552\n",
       "SOCIAL              533576829\n",
       "FAMILY              396771746\n",
       "TOOLS               273181033\n",
       "PHOTOGRAPHY         204297410\n",
       "VIDEO_PLAYERS       110380188\n",
       "PRODUCTIVITY        102554498\n",
       "SHOPPING             94931162\n",
       "PERSONALIZATION      75192744\n",
       "Name: Reviews, dtype: int32"
      ]
     },
     "execution_count": 114,
     "metadata": {},
     "output_type": "execute_result"
    }
   ],
   "source": [
    "df.groupby('Category')['Reviews'].sum().sort_values(ascending=False).head(10)"
   ]
  },
  {
   "cell_type": "markdown",
   "id": "69e72aaf-f64b-46a6-80c1-bcdd0cf23d6c",
   "metadata": {
    "jp-MarkdownHeadingCollapsed": true
   },
   "source": [
    "## Which category has the highest rating?"
   ]
  },
  {
   "cell_type": "code",
   "execution_count": 115,
   "id": "50d8a447-8a86-4624-8750-951b0a221b01",
   "metadata": {},
   "outputs": [
    {
     "data": {
      "text/plain": [
       "Category\n",
       "EVENTS                4.394\n",
       "EDUCATION             4.374\n",
       "BOOKS_AND_REFERENCE   4.358\n",
       "PERSONALIZATION       4.322\n",
       "ART_AND_DESIGN        4.299\n",
       "GAME                  4.282\n",
       "HEALTH_AND_FITNESS    4.274\n",
       "PARENTING             4.260\n",
       "SHOPPING              4.253\n",
       "SPORTS                4.253\n",
       "Name: Rating, dtype: float64"
      ]
     },
     "execution_count": 115,
     "metadata": {},
     "output_type": "execute_result"
    }
   ],
   "source": [
    "df.groupby('Category')['Rating'].mean().sort_values(ascending=False).head(10)"
   ]
  },
  {
   "cell_type": "code",
   "execution_count": 116,
   "id": "f1ffa302-6152-4957-ba11-0295cc732d56",
   "metadata": {},
   "outputs": [
    {
     "data": {
      "image/png": "[encoded data removed]",
      "text/plain": [
       "<Figure size 800x400 with 1 Axes>"
      ]
     },
     "metadata": {},
     "output_type": "display_data"
    }
   ],
   "source": [
    "plt.figure(figsize=(8, 4))\n",
    "# The distribution plot\n",
    "sns.kdeplot(df['Rating'], color=\"skyblue\", shade=True)\n",
    "plt.show()"
   ]
  },
  {
   "cell_type": "code",
   "execution_count": 128,
   "id": "ec40897c-a882-4158-9112-9ea71842ca90",
   "metadata": {},
   "outputs": [
    {
     "name": "stdout",
     "output_type": "stream",
     "text": [
      "Calculated Bandwidth (Silverman's rule): 0.0862\n"
     ]
    }
   ],
   "source": [
    "# Extract the 'Rating' series\n",
    "ratings = df['Rating']\n",
    "\n",
    "# 1. Choose a kernel function (Gaussian)\n",
    "def gaussian_kernel(u):\n",
    "    return (1 / np.sqrt(2 * np.pi)) * np.exp(-0.5 * u**2)\n",
    "\n",
    "# 2. Select a bandwidth (you might need to experiment with this)\n",
    "# Using Silverman's rule of thumb:\n",
    "bandwidth = 1.06 * ratings.std() * (len(ratings))**(-1/5)\n",
    "# We can also try a manual value:\n",
    "# bandwidth = 0.5\n",
    "\n",
    "# 3. Define the range of x values for density estimation\n",
    "x_min = ratings.min() - 1\n",
    "x_max = ratings.max() + 1\n",
    "x_values = np.linspace(x_min, x_max, 200)  # Generate 200 points\n",
    "\n",
    "# 4. Calculate the density estimate for each x value\n",
    "density_estimates = []\n",
    "n = len(ratings)\n",
    "for x in x_values:\n",
    "    density = 0\n",
    "    for xi in ratings:\n",
    "        u = (x - xi) / bandwidth\n",
    "        density += gaussian_kernel(u)\n",
    "    density_estimates.append(density / (n * bandwidth))"
   ]
  },
  {
   "cell_type": "code",
   "execution_count": 142,
   "id": "039733b4-f224-441c-9fd8-107eccf3a0ce",
   "metadata": {},
   "outputs": [
    {
     "name": "stdout",
     "output_type": "stream",
     "text": [
      "Calculated Bandwidth (Silverman rule): 0.0862\n",
      "x_min: -1.0\n",
      "x_max: 6.0\n",
      "len_ratings: 10346\n",
      "len_x_values: 200\n",
      "len_density_estimates: 200\n",
      "\n",
      "x_values: \n",
      "[-1.         -0.96482412 -0.92964824 -0.89447236 -0.85929648 -0.8241206\n",
      " -0.78894472 -0.75376884 -0.71859296 -0.68341709 -0.64824121 -0.61306533\n",
      " -0.57788945 -0.54271357 -0.50753769 -0.47236181 -0.43718593 -0.40201005\n",
      " -0.36683417 -0.33165829]\n",
      "\n",
      "density_estimates: \n",
      "[3.936852212237037e-32, 4.105723481934021e-30, 3.6254833289764277e-28, 2.7106769300491015e-26, 1.716031430357982e-24, 9.198316473144876e-23, 4.174717462274778e-21, 1.6042847699934391e-19, 5.22001155034733e-18, 1.4381265316774298e-16, 3.354736117559427e-15, 6.626058432911495e-14, 1.1081225423923314e-12, 1.569119246151689e-11, 1.8813072974525163e-10, 1.909849573906915e-09, 1.641625975659518e-08, 1.19477162507202e-07, 7.362600154916908e-07, 3.841609021637001e-06]\n"
     ]
    }
   ],
   "source": [
    "print(f'Calculated Bandwidth (Silverman rule): {bandwidth:.4f}')\n",
    "print(f'x_min: {x_min}')\n",
    "print(f'x_max: {x_max}')\n",
    "print(f'len_ratings: {n}')\n",
    "print(f'len_x_values: {len(x_values)}')\n",
    "print(f'len_density_estimates: {len(density_estimates)}')\n",
    "print(f'\\nx_values: \\n{x_values[0:20]}')\n",
    "print(f'\\ndensity_estimates: \\n{density_estimates[0:20]}')"
   ]
  },
  {
   "cell_type": "code",
   "execution_count": 129,
   "id": "45a082c1-8e36-4399-8c2b-d5c9d11fc98a",
   "metadata": {},
   "outputs": [
    {
     "data": {
      "image/png": "[encoded data removed]",
      "text/plain": [
       "<Figure size 800x600 with 1 Axes>"
      ]
     },
     "metadata": {},
     "output_type": "display_data"
    }
   ],
   "source": [
    "# Plot the results\n",
    "plt.figure(figsize=(8, 6))\n",
    "\n",
    "# Plot the histogram of the data\n",
    "plt.hist(ratings, density=True, alpha=0.3, color='skyblue', label='Rating Histogram')\n",
    "\n",
    "# Plot the manual KDE\n",
    "plt.plot(x_values, density_estimates, color='salmon', label=f'Manual KDE (Gaussian, bw={bandwidth:.4f})')\n",
    "\n",
    "# Plot Seaborn's KDE for comparison\n",
    "sns.kdeplot(ratings, color=\"lightgreen\", shade=True, label='Seaborn KDE')\n",
    "\n",
    "plt.xlabel('Rating')\n",
    "plt.ylabel('Density')\n",
    "plt.title('Manual and Seaborn Kernel Density Estimation of Rating')\n",
    "plt.legend()\n",
    "plt.grid(True)\n",
    "plt.show()"
   ]
  },
  {
   "cell_type": "code",
   "execution_count": 127,
   "id": "ad338e00-c93d-4ca9-94c9-bf80ce95fff8",
   "metadata": {},
   "outputs": [
    {
     "data": {
      "image/png": "[encoded data removed]",
      "text/plain": [
       "<Figure size 800x900 with 3 Axes>"
      ]
     },
     "metadata": {},
     "output_type": "display_data"
    }
   ],
   "source": [
    "# Create subplots\n",
    "fig, axes = plt.subplots(3, 1, figsize=(8, 9))\n",
    "fig.suptitle('Distribution Analysis of Rating', fontsize=16)\n",
    "\n",
    "# Plot 1: Histogram of the Data\n",
    "axes[0].hist(ratings, bins=10, density=True, alpha=0.6, color='skyblue', edgecolor='black')\n",
    "axes[0].set_xlabel('Rating')\n",
    "axes[0].set_ylabel('Density (Histogram)')\n",
    "axes[0].set_title('Histogram of Rating Distribution')\n",
    "axes[0].grid(axis='y', alpha=0.75)\n",
    "\n",
    "# Plot 2: Manual KDE\n",
    "axes[1].plot(x_values, density_estimates, color='salmon', linewidth=2, label=f'Manual KDE (bw={bandwidth:.4f})')\n",
    "axes[1].fill_between(x_values, density_estimates, alpha=0.3, color='salmon')\n",
    "axes[1].set_xlabel('Rating')\n",
    "axes[1].set_ylabel('Density (KDE)')\n",
    "axes[1].set_title('Manual Kernel Density Estimation (Gaussian)')\n",
    "axes[1].legend()\n",
    "axes[1].grid(True)\n",
    "\n",
    "# Plot 3: Seaborn KDE\n",
    "sns.kdeplot(ratings, ax=axes[2], color=\"lightgreen\", shade=True, label='Seaborn KDE')\n",
    "axes[2].set_xlabel('Rating')\n",
    "axes[2].set_ylabel('Density (KDE)')\n",
    "axes[2].set_title('Seaborn Kernel Density Estimation')\n",
    "axes[2].legend()\n",
    "axes[2].grid(True)\n",
    "\n",
    "plt.tight_layout(rect=[0, 0.03, 1, 0.95]) # Adjust layout to prevent overlap\n",
    "plt.show()"
   ]
  }
 ],
 "metadata": {
  "kernelspec": {
   "display_name": "tensorflowkernel",
   "language": "python",
   "name": "tensorflowkernel"
  },
  "language_info": {
   "codemirror_mode": {
    "name": "ipython",
    "version": 3
   },
   "file_extension": ".py",
   "mimetype": "text/x-python",
   "name": "python",
   "nbconvert_exporter": "python",
   "pygments_lexer": "ipython3",
   "version": "3.12.4"
  }
 },
 "nbformat": 4,
 "nbformat_minor": 5
}
