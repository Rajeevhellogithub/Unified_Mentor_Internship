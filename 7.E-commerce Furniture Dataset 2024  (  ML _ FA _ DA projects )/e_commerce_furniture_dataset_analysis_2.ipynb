{
 "cells": [
  {
   "cell_type": "markdown",
   "id": "08130beb-7fbc-4665-853b-56bf4199029c",
   "metadata": {
    "jp-MarkdownHeadingCollapsed": true
   },
   "source": [
    "## Import Libraries"
   ]
  },
  {
   "cell_type": "code",
   "execution_count": 35,
   "id": "214b492c-4fed-49e5-bee9-c11293ad76a5",
   "metadata": {},
   "outputs": [],
   "source": [
    "import numpy as np\n",
    "import pandas as pd\n",
    "import matplotlib.pyplot as plt\n",
    "import seaborn as sns\n",
    "from sklearn.preprocessing import LabelEncoder"
   ]
  },
  {
   "cell_type": "markdown",
   "id": "11f940a4-b16e-4cfd-bdf9-7ba91195a046",
   "metadata": {
    "jp-MarkdownHeadingCollapsed": true
   },
   "source": [
    "## Import Dataset"
   ]
  },
  {
   "cell_type": "code",
   "execution_count": 2,
   "id": "35d4f3ef-43e9-4eea-916c-d91a3f1a4310",
   "metadata": {},
   "outputs": [
    {
     "data": {
      "text/plain": [
       "(2000, 5)"
      ]
     },
     "execution_count": 2,
     "metadata": {},
     "output_type": "execute_result"
    }
   ],
   "source": [
    "df = pd.read_csv('ecommerce_furniture_dataset_2024.csv')\n",
    "df.shape"
   ]
  },
  {
   "cell_type": "code",
   "execution_count": 3,
   "id": "ec9b7728-01e3-43ac-9544-4b3122b692ab",
   "metadata": {},
   "outputs": [
    {
     "data": {
      "text/html": [
       "<div>\n",
       "<style scoped>\n",
       "    .dataframe tbody tr th:only-of-type {\n",
       "        vertical-align: middle;\n",
       "    }\n",
       "\n",
       "    .dataframe tbody tr th {\n",
       "        vertical-align: top;\n",
       "    }\n",
       "\n",
       "    .dataframe thead th {\n",
       "        text-align: right;\n",
       "    }\n",
       "</style>\n",
       "<table border=\"1\" class=\"dataframe\">\n",
       "  <thead>\n",
       "    <tr style=\"text-align: right;\">\n",
       "      <th></th>\n",
       "      <th>productTitle</th>\n",
       "      <th>originalPrice</th>\n",
       "      <th>price</th>\n",
       "      <th>sold</th>\n",
       "      <th>tagText</th>\n",
       "    </tr>\n",
       "  </thead>\n",
       "  <tbody>\n",
       "    <tr>\n",
       "      <th>0</th>\n",
       "      <td>Dresser For Bedroom With 9 Fabric Drawers Ward...</td>\n",
       "      <td>NaN</td>\n",
       "      <td>$46.79</td>\n",
       "      <td>600</td>\n",
       "      <td>Free shipping</td>\n",
       "    </tr>\n",
       "    <tr>\n",
       "      <th>1</th>\n",
       "      <td>Outdoor Conversation Set 4 Pieces Patio Furnit...</td>\n",
       "      <td>NaN</td>\n",
       "      <td>$169.72</td>\n",
       "      <td>0</td>\n",
       "      <td>Free shipping</td>\n",
       "    </tr>\n",
       "    <tr>\n",
       "      <th>2</th>\n",
       "      <td>Desser For Bedroom With 7 Fabric Drawers Organ...</td>\n",
       "      <td>$78.4</td>\n",
       "      <td>$39.46</td>\n",
       "      <td>7</td>\n",
       "      <td>Free shipping</td>\n",
       "    </tr>\n",
       "    <tr>\n",
       "      <th>3</th>\n",
       "      <td>Modern Accent Boucle Chair,Upholstered Tufted ...</td>\n",
       "      <td>NaN</td>\n",
       "      <td>$111.99</td>\n",
       "      <td>0</td>\n",
       "      <td>Free shipping</td>\n",
       "    </tr>\n",
       "    <tr>\n",
       "      <th>4</th>\n",
       "      <td>Small Unit Simple Computer Desk Household Wood...</td>\n",
       "      <td>$48.82</td>\n",
       "      <td>$21.37</td>\n",
       "      <td>1</td>\n",
       "      <td>Free shipping</td>\n",
       "    </tr>\n",
       "  </tbody>\n",
       "</table>\n",
       "</div>"
      ],
      "text/plain": [
       "                                        productTitle originalPrice    price  \\\n",
       "0  Dresser For Bedroom With 9 Fabric Drawers Ward...           NaN   $46.79   \n",
       "1  Outdoor Conversation Set 4 Pieces Patio Furnit...           NaN  $169.72   \n",
       "2  Desser For Bedroom With 7 Fabric Drawers Organ...         $78.4   $39.46   \n",
       "3  Modern Accent Boucle Chair,Upholstered Tufted ...           NaN  $111.99   \n",
       "4  Small Unit Simple Computer Desk Household Wood...        $48.82   $21.37   \n",
       "\n",
       "   sold        tagText  \n",
       "0   600  Free shipping  \n",
       "1     0  Free shipping  \n",
       "2     7  Free shipping  \n",
       "3     0  Free shipping  \n",
       "4     1  Free shipping  "
      ]
     },
     "execution_count": 3,
     "metadata": {},
     "output_type": "execute_result"
    }
   ],
   "source": [
    "df.head()"
   ]
  },
  {
   "cell_type": "markdown",
   "id": "a30cca54-9f1f-4d15-8029-07b14300265b",
   "metadata": {
    "jp-MarkdownHeadingCollapsed": true
   },
   "source": [
    "## Check null values"
   ]
  },
  {
   "cell_type": "code",
   "execution_count": 4,
   "id": "c08330e4-846a-4713-ada7-70c7ea553eb2",
   "metadata": {},
   "outputs": [
    {
     "data": {
      "text/plain": [
       "productTitle        0\n",
       "originalPrice    1513\n",
       "price               0\n",
       "sold                0\n",
       "tagText             3\n",
       "dtype: int64"
      ]
     },
     "execution_count": 4,
     "metadata": {},
     "output_type": "execute_result"
    }
   ],
   "source": [
    "df.isnull().sum()"
   ]
  },
  {
   "cell_type": "markdown",
   "id": "8d1aea8a-3a2e-4eee-94f4-b083c9472db1",
   "metadata": {
    "jp-MarkdownHeadingCollapsed": true
   },
   "source": [
    "## Remove columns"
   ]
  },
  {
   "cell_type": "code",
   "execution_count": 5,
   "id": "c30b608d-4051-4548-9dce-57339413db1a",
   "metadata": {},
   "outputs": [],
   "source": [
    "df.drop(['originalPrice'], axis=1, inplace=True)"
   ]
  },
  {
   "cell_type": "markdown",
   "id": "9f554781-7645-4e97-86aa-e984be4e5502",
   "metadata": {
    "jp-MarkdownHeadingCollapsed": true
   },
   "source": [
    "## Manipulate column 'tagText'"
   ]
  },
  {
   "cell_type": "code",
   "execution_count": 6,
   "id": "0fa5fb14-4562-42d1-9d32-0d4bf7407aca",
   "metadata": {},
   "outputs": [
    {
     "data": {
      "text/plain": [
       "100"
      ]
     },
     "execution_count": 6,
     "metadata": {},
     "output_type": "execute_result"
    }
   ],
   "source": [
    "df['tagText'].nunique()"
   ]
  },
  {
   "cell_type": "code",
   "execution_count": 7,
   "id": "a884313d-06c6-4513-9286-f5453dde1d13",
   "metadata": {},
   "outputs": [
    {
     "data": {
      "text/plain": [
       "Index(['Free shipping', '+Shipping: $5.09', '+Shipping: $239.64',\n",
       "       '+Shipping: $97.54', '+Shipping: $64.56', '+Shipping: $75.99',\n",
       "       '+Shipping: $34.63', '+Shipping: $55.98', '+Shipping: $80.21',\n",
       "       '+Shipping: $2.91', '+Shipping: $94.92', '+Shipping: $92.22',\n",
       "       '+Shipping: $66.53', '+Shipping: $744.64', '+Shipping: $350.41',\n",
       "       '+Shipping: $85.58', '+Shipping: $1,323.31', '+Shipping: $30.86',\n",
       "       '+Shipping: $12.82', '+Shipping: $21.62', '+Shipping: $140.27',\n",
       "       '+Shipping: $60.41', '+Shipping: $72.12', '+Shipping: $8.86',\n",
       "       '+Shipping: $28.9', '+Shipping: $23.29', '+Shipping: $132.48',\n",
       "       '+Shipping: $44.55', '+Shipping: $255.93', '+Shipping: $142.23',\n",
       "       '+Shipping: $106.05', '+Shipping: $141.75', '+Shipping: $397.72',\n",
       "       '+Shipping: $78.61', '+Shipping: $41.93', '+Shipping: $151.69',\n",
       "       '+Shipping: $134.27', '+Shipping: $67.69', '+Shipping: $54.16',\n",
       "       '+Shipping: $13.95', '+Shipping: $230.37', '+Shipping: $60.62',\n",
       "       '+Shipping: $363.95', '+Shipping: $381.73', '+Shipping: $2.33',\n",
       "       '+Shipping: $85.31', '+Shipping: $66.35', '+Shipping: $122.29',\n",
       "       '+Shipping: $227.23', '+Shipping: $303.1', '+Shipping: $7.38',\n",
       "       '+Shipping: $84.44', '+Shipping: $85.45', '+Shipping: $63.08',\n",
       "       '+Shipping: $322.02', '+Shipping: $110.64', '+Shipping: $4.74',\n",
       "       '+Shipping: $5.39', '+Shipping: $120.25', '+Shipping: $210.53',\n",
       "       '+Shipping: $76.6', '+Shipping: $52.63', '+Shipping: $129.03',\n",
       "       '+Shipping: $150.28', '+Shipping: $64.01', '+Shipping: $18.44',\n",
       "       '+Shipping: $112.1', '+Shipping: $41.19', '+Shipping: $104.89',\n",
       "       '+Shipping: $38.07', '+Shipping: $29.52', '+Shipping: $7.8',\n",
       "       '+Shipping: $225.12', '+Shipping: $86.91', '+Shipping: $36.4',\n",
       "       '+Shipping: $29.45', '+Shipping: $258.18', '+Shipping: $72.79',\n",
       "       '+Shipping: $168.91', '+Shipping: $109.18', '+Shipping: $5.86',\n",
       "       '+Shipping: $12.03', '+Shipping: $21.65', '+Shipping: $74.22',\n",
       "       '+Shipping: $86.33', '+Shipping: $1,115.86', '+Shipping: $34.4',\n",
       "       '+Shipping: $373.41', '+Shipping: $21.07', '+Shipping: $69.95',\n",
       "       '+Shipping: $18.81', '+Shipping: $14.91', '+Shipping: $14.97',\n",
       "       '+Shipping: $30.44', '+Shipping: $23.49', '+Shipping: $88.26',\n",
       "       '+Shipping: $170.31', '+Shipping: $1,097.18', '+Shipping: $106.13',\n",
       "       '+Shipping: $171.49'],\n",
       "      dtype='object', name='tagText')"
      ]
     },
     "execution_count": 7,
     "metadata": {},
     "output_type": "execute_result"
    }
   ],
   "source": [
    "df['tagText'].value_counts().index"
   ]
  },
  {
   "cell_type": "code",
   "execution_count": 8,
   "id": "a976fa3d-4b90-47bc-8f92-dc2f777e5672",
   "metadata": {},
   "outputs": [
    {
     "data": {
      "text/plain": [
       "array([1880,    9,    2,    2,    2,    2,    2,    2,    2,    2,    2,\n",
       "          2,    1,    1,    1,    1,    1,    1,    1,    1,    1,    1,\n",
       "          1,    1,    1,    1,    1,    1,    1,    1,    1,    1,    1,\n",
       "          1,    1,    1,    1,    1,    1,    1,    1,    1,    1,    1,\n",
       "          1,    1,    1,    1,    1,    1,    1,    1,    1,    1,    1,\n",
       "          1,    1,    1,    1,    1,    1,    1,    1,    1,    1,    1,\n",
       "          1,    1,    1,    1,    1,    1,    1,    1,    1,    1,    1,\n",
       "          1,    1,    1,    1,    1,    1,    1,    1,    1,    1,    1,\n",
       "          1,    1,    1,    1,    1,    1,    1,    1,    1,    1,    1,\n",
       "          1], dtype=int64)"
      ]
     },
     "execution_count": 8,
     "metadata": {},
     "output_type": "execute_result"
    }
   ],
   "source": [
    "df['tagText'].value_counts().values"
   ]
  },
  {
   "cell_type": "code",
   "execution_count": 9,
   "id": "ea4b1423-40f8-47b4-8bf8-283f2743edc2",
   "metadata": {},
   "outputs": [],
   "source": [
    "# Replace all values with 'others' except 'Free shipping' and '+Shipping: $5.09'\n",
    "\n",
    "df['tagText'] = df['tagText'].apply(lambda x: x if x in ['Free shipping', '+Shipping: $5.09'] else 'others')"
   ]
  },
  {
   "cell_type": "code",
   "execution_count": 10,
   "id": "be9e97d7-50e9-446d-ae4d-ee5dc0c337e6",
   "metadata": {},
   "outputs": [
    {
     "data": {
      "text/plain": [
       "['Free shipping', 'others', '+Shipping: $5.09']"
      ]
     },
     "execution_count": 10,
     "metadata": {},
     "output_type": "execute_result"
    }
   ],
   "source": [
    "list(df['tagText'].value_counts().index)"
   ]
  },
  {
   "cell_type": "code",
   "execution_count": 11,
   "id": "c8380487-dfca-4a7a-90d8-a23edc6603f4",
   "metadata": {},
   "outputs": [
    {
     "data": {
      "text/plain": [
       "[1880, 111, 9]"
      ]
     },
     "execution_count": 11,
     "metadata": {},
     "output_type": "execute_result"
    }
   ],
   "source": [
    "list(df['tagText'].value_counts().values)"
   ]
  },
  {
   "cell_type": "code",
   "execution_count": 12,
   "id": "d530dd3e-d641-40ff-a528-f764a08d134e",
   "metadata": {},
   "outputs": [
    {
     "data": {
      "image/png": "[encoded data removed]",
      "text/plain": [
       "<Figure size 640x480 with 1 Axes>"
      ]
     },
     "metadata": {},
     "output_type": "display_data"
    }
   ],
   "source": [
    "sns.countplot(x='tagText',data=df);"
   ]
  },
  {
   "cell_type": "markdown",
   "id": "6991430a-3b47-421b-912e-52a0c087eca7",
   "metadata": {
    "jp-MarkdownHeadingCollapsed": true
   },
   "source": [
    "## Manipulate column 'price'"
   ]
  },
  {
   "cell_type": "code",
   "execution_count": 13,
   "id": "ab65e077-d15a-4ead-a56d-fb8b8c7379a5",
   "metadata": {},
   "outputs": [
    {
     "data": {
      "text/plain": [
       "1802"
      ]
     },
     "execution_count": 13,
     "metadata": {},
     "output_type": "execute_result"
    }
   ],
   "source": [
    "df['price'].nunique()"
   ]
  },
  {
   "cell_type": "code",
   "execution_count": 14,
   "id": "6d9caf63-59a4-4832-bbae-a4f7abd87843",
   "metadata": {},
   "outputs": [
    {
     "data": {
      "text/plain": [
       "price\n",
       "$0.99      8\n",
       "$101.44    5\n",
       "$58.94     5\n",
       "$141.05    5\n",
       "$36.65     4\n",
       "          ..\n",
       "$53.33     1\n",
       "$109.9     1\n",
       "$31.82     1\n",
       "$138.71    1\n",
       "$99.48     1\n",
       "Name: count, Length: 1802, dtype: int64"
      ]
     },
     "execution_count": 14,
     "metadata": {},
     "output_type": "execute_result"
    }
   ],
   "source": [
    "df['price'].value_counts()"
   ]
  },
  {
   "cell_type": "code",
   "execution_count": 15,
   "id": "0a572011-fc41-4d01-a465-f7ae6ad99e8a",
   "metadata": {},
   "outputs": [],
   "source": [
    "df['price'] = df['price'].replace('[\\\\$,]', '', regex=True).astype(float)"
   ]
  },
  {
   "cell_type": "code",
   "execution_count": 16,
   "id": "4314ba19-2a0c-4a2e-9880-e6c87c66fa4c",
   "metadata": {},
   "outputs": [
    {
     "data": {
      "text/plain": [
       "1802"
      ]
     },
     "execution_count": 16,
     "metadata": {},
     "output_type": "execute_result"
    }
   ],
   "source": [
    "df['price'].nunique()"
   ]
  },
  {
   "cell_type": "code",
   "execution_count": 17,
   "id": "7cd17a8f-b0a1-475f-a4f9-a685d6eb5c5c",
   "metadata": {},
   "outputs": [
    {
     "data": {
      "text/plain": [
       "price\n",
       "0.99      8\n",
       "101.44    5\n",
       "58.94     5\n",
       "141.05    5\n",
       "36.65     4\n",
       "         ..\n",
       "53.33     1\n",
       "109.90    1\n",
       "31.82     1\n",
       "138.71    1\n",
       "99.48     1\n",
       "Name: count, Length: 1802, dtype: int64"
      ]
     },
     "execution_count": 17,
     "metadata": {},
     "output_type": "execute_result"
    }
   ],
   "source": [
    "df['price'].value_counts()"
   ]
  },
  {
   "cell_type": "code",
   "execution_count": 18,
   "id": "e71617f7-6bad-4e54-ba9f-0afe9d861920",
   "metadata": {},
   "outputs": [
    {
     "data": {
      "image/png": "[encoded data removed]",
      "text/plain": [
       "<Figure size 500x500 with 1 Axes>"
      ]
     },
     "metadata": {},
     "output_type": "display_data"
    }
   ],
   "source": [
    "sns.displot(df['price']);"
   ]
  },
  {
   "cell_type": "code",
   "execution_count": 19,
   "id": "3daf8a3c-1b83-45c6-b2f0-ba8fc37326e4",
   "metadata": {},
   "outputs": [
    {
     "data": {
      "image/png": "[encoded data removed]",
      "text/plain": [
       "<Figure size 640x480 with 1 Axes>"
      ]
     },
     "metadata": {},
     "output_type": "display_data"
    }
   ],
   "source": [
    "sns.histplot(df['price']);"
   ]
  },
  {
   "cell_type": "code",
   "execution_count": 20,
   "id": "5dd1ef2e-4960-4095-b6d6-588ee77ec4b6",
   "metadata": {},
   "outputs": [],
   "source": [
    "# pd.option_context('mode.use_inf_as_na', True)"
   ]
  },
  {
   "cell_type": "code",
   "execution_count": 21,
   "id": "2ab6af29-c1e0-4425-bebf-17887c562ae9",
   "metadata": {},
   "outputs": [],
   "source": [
    "# sns.distplot(df['price']);"
   ]
  },
  {
   "cell_type": "markdown",
   "id": "5ec997e6-482b-42d0-a931-e49f801f6e1e",
   "metadata": {
    "jp-MarkdownHeadingCollapsed": true
   },
   "source": [
    "## Manipulate column 'sold'"
   ]
  },
  {
   "cell_type": "code",
   "execution_count": 22,
   "id": "542b5c51-efae-476d-857d-6bf958a9db94",
   "metadata": {},
   "outputs": [
    {
     "name": "stdout",
     "output_type": "stream",
     "text": [
      "[0, 1, 2, 3, 4, 5, 7, 6, 8, 9, 10, 11, 12, 13, 14, 15, 16, 21, 19, 28, 20, 18, 24, 27, 17, 26, 25, 22, 31, 23, 30, 41, 38, 37, 35, 34, 29, 42, 60, 33, 43, 32, 49, 900, 57, 40, 47, 48, 600, 39, 53, 68, 63, 3000, 45, 150, 64, 46, 51, 58, 85, 56, 36, 44, 50, 1000, 112, 210, 54, 132, 93, 354, 84, 62, 151, 185, 111, 121, 128, 89, 137, 393, 71, 369, 275, 280, 164, 65, 10000, 197, 288, 115, 700, 332, 135, 392, 256, 147, 52, 79, 171, 77, 118, 55, 95, 87, 223, 182, 81, 405, 134, 110, 251, 2000, 133]\n"
     ]
    }
   ],
   "source": [
    "print(list(df['sold'].value_counts().index))"
   ]
  },
  {
   "cell_type": "code",
   "execution_count": 23,
   "id": "2cf922b1-2a1a-4252-9412-663fd8abad60",
   "metadata": {},
   "outputs": [
    {
     "data": {
      "text/plain": [
       "array([451, 319, 196, 132,  95,  79,  67,  66,  62,  43,  36,  33,  29,\n",
       "        25,  25,  23,  20,  13,  13,  13,  12,  12,  10,  10,   9,   9,\n",
       "         8,   8,   8,   8,   8,   7,   5,   5,   5,   5,   4,   4,   4,\n",
       "         4,   4,   4,   3,   3,   3,   3,   3,   3,   3,   3,   3,   2,\n",
       "         2,   2,   2,   2,   2,   2,   2,   2,   2,   2,   2,   2,   2,\n",
       "         2,   2,   1,   1,   1,   1,   1,   1,   1,   1,   1,   1,   1,\n",
       "         1,   1,   1,   1,   1,   1,   1,   1,   1,   1,   1,   1,   1,\n",
       "         1,   1,   1,   1,   1,   1,   1,   1,   1,   1,   1,   1,   1,\n",
       "         1,   1,   1,   1,   1,   1,   1,   1,   1,   1,   1], dtype=int64)"
      ]
     },
     "execution_count": 23,
     "metadata": {},
     "output_type": "execute_result"
    }
   ],
   "source": [
    "df['sold'].value_counts().values"
   ]
  },
  {
   "cell_type": "code",
   "execution_count": 24,
   "id": "674f8fe1-b8e2-41ca-b1de-16c19c04b8d0",
   "metadata": {},
   "outputs": [
    {
     "data": {
      "image/png": "[encoded data removed]",
      "text/plain": [
       "<Figure size 500x500 with 1 Axes>"
      ]
     },
     "metadata": {},
     "output_type": "display_data"
    }
   ],
   "source": [
    "sns.displot(df['sold']);"
   ]
  },
  {
   "cell_type": "code",
   "execution_count": 25,
   "id": "6b82e3d1-138b-44ff-bd63-2c6cb7983c83",
   "metadata": {},
   "outputs": [
    {
     "data": {
      "image/png": "[encoded data removed]",
      "text/plain": [
       "<Figure size 640x480 with 1 Axes>"
      ]
     },
     "metadata": {},
     "output_type": "display_data"
    }
   ],
   "source": [
    "sns.histplot(df['sold']);"
   ]
  },
  {
   "cell_type": "code",
   "execution_count": 26,
   "id": "f8ba4333-c382-4b0a-bcb4-1d1f4211317f",
   "metadata": {},
   "outputs": [
    {
     "name": "stderr",
     "output_type": "stream",
     "text": [
      "C:\\Users\\RAJEEV\\AppData\\Local\\Temp\\ipykernel_2924\\3695071933.py:1: UserWarning: \n",
      "\n",
      "`distplot` is a deprecated function and will be removed in seaborn v0.14.0.\n",
      "\n",
      "Please adapt your code to use either `displot` (a figure-level function with\n",
      "similar flexibility) or `histplot` (an axes-level function for histograms).\n",
      "\n",
      "For a guide to updating your code to use the new functions, please see\n",
      "https://gist.github.com/mwaskom/de44147ed2974457ad6372750bbe5751\n",
      "\n",
      "  sns.distplot(df['sold']);\n"
     ]
    },
    {
     "data": {
      "image/png": "[encoded data removed]",
      "text/plain": [
       "<Figure size 640x480 with 1 Axes>"
      ]
     },
     "metadata": {},
     "output_type": "display_data"
    }
   ],
   "source": [
    "sns.distplot(df['sold']);"
   ]
  },
  {
   "cell_type": "markdown",
   "id": "ae2b3c43-0c4b-4ef8-972e-1499888bd73e",
   "metadata": {
    "jp-MarkdownHeadingCollapsed": true
   },
   "source": [
    "## Relationship between 'price' and 'sold' (scatterplot)"
   ]
  },
  {
   "cell_type": "code",
   "execution_count": 27,
   "id": "aaf9bcdf-34e9-49b8-895f-c9805c52d502",
   "metadata": {},
   "outputs": [
    {
     "data": {
      "text/html": [
       "<div>\n",
       "<style scoped>\n",
       "    .dataframe tbody tr th:only-of-type {\n",
       "        vertical-align: middle;\n",
       "    }\n",
       "\n",
       "    .dataframe tbody tr th {\n",
       "        vertical-align: top;\n",
       "    }\n",
       "\n",
       "    .dataframe thead th {\n",
       "        text-align: right;\n",
       "    }\n",
       "</style>\n",
       "<table border=\"1\" class=\"dataframe\">\n",
       "  <thead>\n",
       "    <tr style=\"text-align: right;\">\n",
       "      <th></th>\n",
       "      <th>price</th>\n",
       "      <th>sold</th>\n",
       "    </tr>\n",
       "  </thead>\n",
       "  <tbody>\n",
       "    <tr>\n",
       "      <th>0</th>\n",
       "      <td>46.79</td>\n",
       "      <td>600</td>\n",
       "    </tr>\n",
       "    <tr>\n",
       "      <th>1</th>\n",
       "      <td>169.72</td>\n",
       "      <td>0</td>\n",
       "    </tr>\n",
       "    <tr>\n",
       "      <th>2</th>\n",
       "      <td>39.46</td>\n",
       "      <td>7</td>\n",
       "    </tr>\n",
       "    <tr>\n",
       "      <th>3</th>\n",
       "      <td>111.99</td>\n",
       "      <td>0</td>\n",
       "    </tr>\n",
       "    <tr>\n",
       "      <th>4</th>\n",
       "      <td>21.37</td>\n",
       "      <td>1</td>\n",
       "    </tr>\n",
       "  </tbody>\n",
       "</table>\n",
       "</div>"
      ],
      "text/plain": [
       "    price  sold\n",
       "0   46.79   600\n",
       "1  169.72     0\n",
       "2   39.46     7\n",
       "3  111.99     0\n",
       "4   21.37     1"
      ]
     },
     "execution_count": 27,
     "metadata": {},
     "output_type": "execute_result"
    }
   ],
   "source": [
    "df[['price', 'sold']].head()"
   ]
  },
  {
   "cell_type": "code",
   "execution_count": 28,
   "id": "9cdef1ba-93dd-4352-a9f1-9b7d14578c51",
   "metadata": {},
   "outputs": [
    {
     "data": {
      "text/plain": [
       "<Axes: xlabel='price', ylabel='sold'>"
      ]
     },
     "execution_count": 28,
     "metadata": {},
     "output_type": "execute_result"
    },
    {
     "data": {
      "image/png": "[encoded data removed]",
      "text/plain": [
       "<Figure size 640x480 with 1 Axes>"
      ]
     },
     "metadata": {},
     "output_type": "display_data"
    }
   ],
   "source": [
    "sns.scatterplot(x='price', y='sold', data=df)"
   ]
  },
  {
   "cell_type": "markdown",
   "id": "3c870f62-a329-47b5-aa0c-a4e2bda43976",
   "metadata": {
    "jp-MarkdownHeadingCollapsed": true
   },
   "source": [
    "## Relationship between 'price' and 'sold' (pairplot)"
   ]
  },
  {
   "cell_type": "code",
   "execution_count": 29,
   "id": "c4817bef-8d57-4b44-b383-99fc381dddb3",
   "metadata": {},
   "outputs": [
    {
     "data": {
      "text/plain": [
       "array(['Free shipping', 'others', '+Shipping: $5.09'], dtype=object)"
      ]
     },
     "execution_count": 29,
     "metadata": {},
     "output_type": "execute_result"
    }
   ],
   "source": [
    "df['tagText'].unique()"
   ]
  },
  {
   "cell_type": "code",
   "execution_count": 30,
   "id": "116eeded-78c5-4cad-8c0b-70ab0bbb89a1",
   "metadata": {},
   "outputs": [
    {
     "data": {
      "text/plain": [
       "(1880, 4)"
      ]
     },
     "execution_count": 30,
     "metadata": {},
     "output_type": "execute_result"
    }
   ],
   "source": [
    "filtered_df = df[df['tagText'] == 'Free shipping']\n",
    "filtered_df.shape"
   ]
  },
  {
   "cell_type": "code",
   "execution_count": 31,
   "id": "f36118ba-ae04-4967-885e-e1ffe5780309",
   "metadata": {},
   "outputs": [
    {
     "data": {
      "text/html": [
       "<div>\n",
       "<style scoped>\n",
       "    .dataframe tbody tr th:only-of-type {\n",
       "        vertical-align: middle;\n",
       "    }\n",
       "\n",
       "    .dataframe tbody tr th {\n",
       "        vertical-align: top;\n",
       "    }\n",
       "\n",
       "    .dataframe thead th {\n",
       "        text-align: right;\n",
       "    }\n",
       "</style>\n",
       "<table border=\"1\" class=\"dataframe\">\n",
       "  <thead>\n",
       "    <tr style=\"text-align: right;\">\n",
       "      <th></th>\n",
       "      <th>productTitle</th>\n",
       "      <th>price</th>\n",
       "      <th>sold</th>\n",
       "      <th>tagText</th>\n",
       "    </tr>\n",
       "  </thead>\n",
       "  <tbody>\n",
       "    <tr>\n",
       "      <th>0</th>\n",
       "      <td>Dresser For Bedroom With 9 Fabric Drawers Ward...</td>\n",
       "      <td>46.79</td>\n",
       "      <td>600</td>\n",
       "      <td>Free shipping</td>\n",
       "    </tr>\n",
       "    <tr>\n",
       "      <th>1</th>\n",
       "      <td>Outdoor Conversation Set 4 Pieces Patio Furnit...</td>\n",
       "      <td>169.72</td>\n",
       "      <td>0</td>\n",
       "      <td>Free shipping</td>\n",
       "    </tr>\n",
       "    <tr>\n",
       "      <th>2</th>\n",
       "      <td>Desser For Bedroom With 7 Fabric Drawers Organ...</td>\n",
       "      <td>39.46</td>\n",
       "      <td>7</td>\n",
       "      <td>Free shipping</td>\n",
       "    </tr>\n",
       "    <tr>\n",
       "      <th>3</th>\n",
       "      <td>Modern Accent Boucle Chair,Upholstered Tufted ...</td>\n",
       "      <td>111.99</td>\n",
       "      <td>0</td>\n",
       "      <td>Free shipping</td>\n",
       "    </tr>\n",
       "    <tr>\n",
       "      <th>4</th>\n",
       "      <td>Small Unit Simple Computer Desk Household Wood...</td>\n",
       "      <td>21.37</td>\n",
       "      <td>1</td>\n",
       "      <td>Free shipping</td>\n",
       "    </tr>\n",
       "  </tbody>\n",
       "</table>\n",
       "</div>"
      ],
      "text/plain": [
       "                                        productTitle   price  sold  \\\n",
       "0  Dresser For Bedroom With 9 Fabric Drawers Ward...   46.79   600   \n",
       "1  Outdoor Conversation Set 4 Pieces Patio Furnit...  169.72     0   \n",
       "2  Desser For Bedroom With 7 Fabric Drawers Organ...   39.46     7   \n",
       "3  Modern Accent Boucle Chair,Upholstered Tufted ...  111.99     0   \n",
       "4  Small Unit Simple Computer Desk Household Wood...   21.37     1   \n",
       "\n",
       "         tagText  \n",
       "0  Free shipping  \n",
       "1  Free shipping  \n",
       "2  Free shipping  \n",
       "3  Free shipping  \n",
       "4  Free shipping  "
      ]
     },
     "execution_count": 31,
     "metadata": {},
     "output_type": "execute_result"
    }
   ],
   "source": [
    "filtered_df.head()"
   ]
  },
  {
   "cell_type": "code",
   "execution_count": 33,
   "id": "fdfd5476-eabf-4d75-91b1-91dde23d3a3e",
   "metadata": {},
   "outputs": [
    {
     "data": {
      "image/png": "[encoded data removed]",
      "text/plain": [
       "<Figure size 500x500 with 6 Axes>"
      ]
     },
     "metadata": {},
     "output_type": "display_data"
    }
   ],
   "source": [
    "sns.pairplot(filtered_df[['price', 'sold']]);"
   ]
  },
  {
   "cell_type": "markdown",
   "id": "57684bb6-0b63-4ec2-b7ef-554b15fa19cc",
   "metadata": {
    "jp-MarkdownHeadingCollapsed": true
   },
   "source": [
    "## LabelEncoder"
   ]
  },
  {
   "cell_type": "code",
   "execution_count": 37,
   "id": "72eca235-23cc-4a30-b4cd-e42cc512c124",
   "metadata": {},
   "outputs": [
    {
     "data": {
      "text/plain": [
       "['Free shipping', 'others', '+Shipping: $5.09']"
      ]
     },
     "execution_count": 37,
     "metadata": {},
     "output_type": "execute_result"
    }
   ],
   "source": [
    "list(df['tagText'].unique())"
   ]
  },
  {
   "cell_type": "code",
   "execution_count": 38,
   "id": "84322008-d7b5-48cc-9e0b-d4beeb96a21f",
   "metadata": {},
   "outputs": [
    {
     "data": {
      "text/plain": [
       "tagText\n",
       "Free shipping       1880\n",
       "others               111\n",
       "+Shipping: $5.09       9\n",
       "Name: count, dtype: int64"
      ]
     },
     "execution_count": 38,
     "metadata": {},
     "output_type": "execute_result"
    }
   ],
   "source": [
    "df['tagText'].value_counts()"
   ]
  },
  {
   "cell_type": "code",
   "execution_count": 39,
   "id": "cda1d8b0-6484-45c5-ab5d-37466ad6fe9f",
   "metadata": {},
   "outputs": [],
   "source": [
    "le = LabelEncoder()\n",
    "df['tagText'] = le.fit_transform(df['tagText'])"
   ]
  },
  {
   "cell_type": "code",
   "execution_count": 40,
   "id": "eeb0fd0d-2ef9-48e4-b490-0c49e5afbfda",
   "metadata": {},
   "outputs": [
    {
     "data": {
      "text/plain": [
       "[1, 2, 0]"
      ]
     },
     "execution_count": 40,
     "metadata": {},
     "output_type": "execute_result"
    }
   ],
   "source": [
    "list(df['tagText'].unique())"
   ]
  },
  {
   "cell_type": "code",
   "execution_count": 41,
   "id": "ce598db5-90b0-4770-9da8-49e46961999a",
   "metadata": {},
   "outputs": [
    {
     "data": {
      "text/plain": [
       "tagText\n",
       "1    1880\n",
       "2     111\n",
       "0       9\n",
       "Name: count, dtype: int64"
      ]
     },
     "execution_count": 41,
     "metadata": {},
     "output_type": "execute_result"
    }
   ],
   "source": [
    "df['tagText'].value_counts()"
   ]
  },
  {
   "cell_type": "code",
   "execution_count": 43,
   "id": "a2d380fb-a333-47a0-98c7-408b08d16622",
   "metadata": {},
   "outputs": [
    {
     "data": {
      "text/plain": [
       "['+Shipping: $5.09', 'Free shipping', 'others']"
      ]
     },
     "execution_count": 43,
     "metadata": {},
     "output_type": "execute_result"
    }
   ],
   "source": [
    "list(le.classes_)"
   ]
  },
  {
   "cell_type": "code",
   "execution_count": 45,
   "id": "b864d1bc-0190-4b42-92f4-857885037adb",
   "metadata": {},
   "outputs": [
    {
     "data": {
      "text/plain": [
       "[0, 1, 2]"
      ]
     },
     "execution_count": 45,
     "metadata": {},
     "output_type": "execute_result"
    }
   ],
   "source": [
    "list(le.transform(le.classes_))"
   ]
  },
  {
   "cell_type": "code",
   "execution_count": 46,
   "id": "74397df3-3c88-4267-8570-7d3ab949003a",
   "metadata": {},
   "outputs": [
    {
     "name": "stdout",
     "output_type": "stream",
     "text": [
      "{'+Shipping: $5.09': 0, 'Free shipping': 1, 'others': 2}\n"
     ]
    }
   ],
   "source": [
    "mapping = dict(zip(le.classes_, le.transform(le.classes_)))\n",
    "print(mapping)"
   ]
  },
  {
   "cell_type": "code",
   "execution_count": 50,
   "id": "341f3594-32fc-4cce-a7e5-1ff010c9990a",
   "metadata": {},
   "outputs": [
    {
     "data": {
      "text/plain": [
       "+Shipping: $5.09    0\n",
       "Free shipping       1\n",
       "others              2\n",
       "dtype: int32"
      ]
     },
     "execution_count": 50,
     "metadata": {},
     "output_type": "execute_result"
    }
   ],
   "source": [
    "mapping_series = pd.Series(le.transform(le.classes_), index=le.classes_)\n",
    "mapping_series"
   ]
  },
  {
   "cell_type": "code",
   "execution_count": 49,
   "id": "100a0248-a747-4a8d-a6e2-a016087570bc",
   "metadata": {},
   "outputs": [
    {
     "data": {
      "text/html": [
       "<div>\n",
       "<style scoped>\n",
       "    .dataframe tbody tr th:only-of-type {\n",
       "        vertical-align: middle;\n",
       "    }\n",
       "\n",
       "    .dataframe tbody tr th {\n",
       "        vertical-align: top;\n",
       "    }\n",
       "\n",
       "    .dataframe thead th {\n",
       "        text-align: right;\n",
       "    }\n",
       "</style>\n",
       "<table border=\"1\" class=\"dataframe\">\n",
       "  <thead>\n",
       "    <tr style=\"text-align: right;\">\n",
       "      <th></th>\n",
       "      <th>original_value</th>\n",
       "      <th>encoded_value</th>\n",
       "    </tr>\n",
       "  </thead>\n",
       "  <tbody>\n",
       "    <tr>\n",
       "      <th>0</th>\n",
       "      <td>+Shipping: $5.09</td>\n",
       "      <td>0</td>\n",
       "    </tr>\n",
       "    <tr>\n",
       "      <th>1</th>\n",
       "      <td>Free shipping</td>\n",
       "      <td>1</td>\n",
       "    </tr>\n",
       "    <tr>\n",
       "      <th>2</th>\n",
       "      <td>others</td>\n",
       "      <td>2</td>\n",
       "    </tr>\n",
       "  </tbody>\n",
       "</table>\n",
       "</div>"
      ],
      "text/plain": [
       "     original_value  encoded_value\n",
       "0  +Shipping: $5.09              0\n",
       "1     Free shipping              1\n",
       "2            others              2"
      ]
     },
     "execution_count": 49,
     "metadata": {},
     "output_type": "execute_result"
    }
   ],
   "source": [
    "mapping_df = pd.DataFrame({'original_value': le.classes_, 'encoded_value': le.transform(le.classes_)})\n",
    "mapping_df"
   ]
  }
 ],
 "metadata": {
  "kernelspec": {
   "display_name": "tensorflowkernel",
   "language": "python",
   "name": "tensorflowkernel"
  },
  "language_info": {
   "codemirror_mode": {
    "name": "ipython",
    "version": 3
   },
   "file_extension": ".py",
   "mimetype": "text/x-python",
   "name": "python",
   "nbconvert_exporter": "python",
   "pygments_lexer": "ipython3",
   "version": "3.12.4"
  }
 },
 "nbformat": 4,
 "nbformat_minor": 5
}
