{
 "cells": [
  {
   "cell_type": "markdown",
   "id": "4d4dc9eb-6e60-4e16-a1f4-3d1bc535f9f9",
   "metadata": {
    "jp-MarkdownHeadingCollapsed": true
   },
   "source": [
    "## Import dependencies"
   ]
  },
  {
   "cell_type": "code",
   "execution_count": null,
   "id": "941b381e-de6b-4e26-a323-23579600a947",
   "metadata": {},
   "outputs": [],
   "source": [
    "import yfinance as yf\n",
    "import pandas as pd\n",
    "import matplotlib.pyplot as plt\n",
    "import seaborn as sns\n",
    "from sklearn.model_selection import train_test_split\n",
    "from sklearn.ensemble import RandomForestRegressor\n",
    "from sklearn.metrics import mean_absolute_error, mean_squared_error\n",
    "import streamlit as st"
   ]
  },
  {
   "cell_type": "markdown",
   "id": "8f69be45-cd44-4ab4-81f9-04c91a507ba7",
   "metadata": {
    "jp-MarkdownHeadingCollapsed": true
   },
   "source": [
    "## Import dataset"
   ]
  },
  {
   "cell_type": "code",
   "execution_count": null,
   "id": "fcaebe01-ea6c-4d9a-85bf-4b510bf53cdf",
   "metadata": {},
   "outputs": [],
   "source": [
    "# Coca-Cola stock ticker\n",
    "ticker = 'KO'\n",
    "data = yf.download(ticker, start='2015-01-01', end='2023-12-31')\n",
    "data.shape"
   ]
  },
  {
   "cell_type": "code",
   "execution_count": null,
   "id": "5cdac54d-dbc8-48dd-a7fe-fc368f7c723a",
   "metadata": {},
   "outputs": [],
   "source": [
    "data.head()"
   ]
  },
  {
   "cell_type": "code",
   "execution_count": null,
   "id": "d3bd1410-18fc-4e6f-87ee-8c1c147beb4b",
   "metadata": {},
   "outputs": [],
   "source": [
    "data.columns"
   ]
  },
  {
   "cell_type": "code",
   "execution_count": null,
   "id": "a68312e6-4951-47c3-8374-023b3a9cf1da",
   "metadata": {},
   "outputs": [],
   "source": [
    "# Remove the outer 'Price' level from the columns\n",
    "data.columns = data.columns.droplevel(1)\n",
    "data.columns"
   ]
  },
  {
   "cell_type": "code",
   "execution_count": null,
   "id": "6975e794-2fa2-40e3-9464-771e4d43bd5f",
   "metadata": {},
   "outputs": [],
   "source": [
    "# Reset the index\n",
    "data.reset_index(inplace=True)\n",
    "data.columns"
   ]
  },
  {
   "cell_type": "code",
   "execution_count": null,
   "id": "eb884818-90ba-4ce3-a0bf-1427fd56c65a",
   "metadata": {},
   "outputs": [],
   "source": [
    "data.head()"
   ]
  },
  {
   "cell_type": "code",
   "execution_count": null,
   "id": "f87ffe97-8d31-4df0-bf36-c7da209bad75",
   "metadata": {},
   "outputs": [],
   "source": [
    "# Remove the 'Price' from the column level name\n",
    "data.columns.name = None\n",
    "data.columns"
   ]
  },
  {
   "cell_type": "code",
   "execution_count": null,
   "id": "18c97686-7daf-4805-b43f-2f736eeca96d",
   "metadata": {},
   "outputs": [],
   "source": [
    "data.head()"
   ]
  },
  {
   "cell_type": "code",
   "execution_count": null,
   "id": "f70f5b8d-464d-4fe4-ac60-edc77b9f71e7",
   "metadata": {},
   "outputs": [],
   "source": [
    "# # Get the current column names\n",
    "# current_columns = data.columns.tolist()\n",
    "\n",
    "# # Create a mapping for the new column names, skipping 'Date'\n",
    "# new_columns = ['Date', 'Close', 'High', 'Low', 'Open', 'Volume']\n",
    "\n",
    "# data.columns = new_columns\n",
    "\n",
    "# data.columns"
   ]
  },
  {
   "cell_type": "markdown",
   "id": "4fd5545b-ec66-424b-829c-9f2162b43bb9",
   "metadata": {
    "jp-MarkdownHeadingCollapsed": true
   },
   "source": [
    "## Check for missing values"
   ]
  },
  {
   "cell_type": "code",
   "execution_count": null,
   "id": "e3d6e60b-6520-4ed9-a434-1b5aa86024d1",
   "metadata": {},
   "outputs": [],
   "source": [
    "data.info()"
   ]
  },
  {
   "cell_type": "code",
   "execution_count": null,
   "id": "44e512c5-785f-4234-9a4c-7b05483dbeeb",
   "metadata": {},
   "outputs": [],
   "source": [
    "data.isnull().sum()"
   ]
  },
  {
   "cell_type": "markdown",
   "id": "4ed1e2de-91ac-4103-b069-c3d5af390c00",
   "metadata": {
    "jp-MarkdownHeadingCollapsed": true
   },
   "source": [
    "## Fill missing numerical values with the column mean"
   ]
  },
  {
   "cell_type": "code",
   "execution_count": null,
   "id": "23f6cf65-8c34-41b2-836a-49d41b5bf4fe",
   "metadata": {},
   "outputs": [],
   "source": [
    "# Forward fill for stock data continuity\n",
    "data.ffill(inplace=True)"
   ]
  },
  {
   "cell_type": "code",
   "execution_count": null,
   "id": "3cd500bb-00f2-4bcd-a12e-e3b317aaef30",
   "metadata": {},
   "outputs": [],
   "source": [
    "# Filling missing values (NaN) with the value 0\n",
    "# Replace remaining missing dividends / splits with 0\n",
    "data.fillna(0, inplace=True)"
   ]
  },
  {
   "cell_type": "code",
   "execution_count": null,
   "id": "84dcbd41-74bf-4b9e-90d4-c09127732350",
   "metadata": {},
   "outputs": [],
   "source": [
    "data.isnull().sum()"
   ]
  },
  {
   "cell_type": "code",
   "execution_count": null,
   "id": "413511a4-0f29-4bb5-83c3-b4eb14498114",
   "metadata": {},
   "outputs": [],
   "source": [
    "data.head()"
   ]
  },
  {
   "cell_type": "markdown",
   "id": "3437fa8d-b173-4627-a86f-9d476670711d",
   "metadata": {
    "jp-MarkdownHeadingCollapsed": true
   },
   "source": [
    "## Add moving averages"
   ]
  },
  {
   "cell_type": "code",
   "execution_count": null,
   "id": "65cacf2a-4df2-40e0-b13c-196e07af9e4f",
   "metadata": {},
   "outputs": [],
   "source": [
    "data['MA_20'] = data['Close'].rolling(window=20).mean()\n",
    "data['MA_50'] = data['Close'].rolling(window=50).mean()"
   ]
  },
  {
   "cell_type": "code",
   "execution_count": null,
   "id": "04ed9fb5-3111-4927-88c8-0b29945f9156",
   "metadata": {},
   "outputs": [],
   "source": [
    "data.head()"
   ]
  },
  {
   "cell_type": "markdown",
   "id": "36684834-6a9a-45a8-91d7-9b12804a6d7e",
   "metadata": {
    "jp-MarkdownHeadingCollapsed": true
   },
   "source": [
    "## Add daily returns"
   ]
  },
  {
   "cell_type": "code",
   "execution_count": null,
   "id": "c3741ff8-5118-4bfb-b897-a1203dd6af12",
   "metadata": {},
   "outputs": [],
   "source": [
    "data['Daily_Return'] = data['Close'].pct_change()"
   ]
  },
  {
   "cell_type": "code",
   "execution_count": null,
   "id": "3501cb7d-d7ae-40ae-bd0a-68160336b1ab",
   "metadata": {},
   "outputs": [],
   "source": [
    "data.head()"
   ]
  },
  {
   "cell_type": "markdown",
   "id": "7769846e-fec2-44ea-bd81-89394193dc27",
   "metadata": {
    "jp-MarkdownHeadingCollapsed": true
   },
   "source": [
    "## Add volatility (standard deviation of returns over a rolling window)"
   ]
  },
  {
   "cell_type": "code",
   "execution_count": null,
   "id": "d1273944-d45c-4c2e-8a60-59f53e806b7e",
   "metadata": {},
   "outputs": [],
   "source": [
    "data['Volatility'] = data['Daily_Return'].rolling(window=20).std()"
   ]
  },
  {
   "cell_type": "code",
   "execution_count": null,
   "id": "f7025127-7ede-4357-9791-e261c6735e51",
   "metadata": {},
   "outputs": [],
   "source": [
    "data.head()"
   ]
  },
  {
   "cell_type": "markdown",
   "id": "2668843c-2e39-41c1-bdb0-0b6040403cc4",
   "metadata": {
    "jp-MarkdownHeadingCollapsed": true
   },
   "source": [
    "## Drop rows with NA due to rolling calculations"
   ]
  },
  {
   "cell_type": "code",
   "execution_count": null,
   "id": "9855e18a-f4fa-4c60-8649-bbfe723ec9da",
   "metadata": {},
   "outputs": [],
   "source": [
    "data.shape"
   ]
  },
  {
   "cell_type": "code",
   "execution_count": null,
   "id": "4a765d84-b6ae-4995-9fdd-d703b0ba2e69",
   "metadata": {},
   "outputs": [],
   "source": [
    "data.dropna(inplace=True)"
   ]
  },
  {
   "cell_type": "code",
   "execution_count": null,
   "id": "03e64115-0829-4276-bf15-520fd6c7557e",
   "metadata": {},
   "outputs": [],
   "source": [
    "data.shape"
   ]
  },
  {
   "cell_type": "code",
   "execution_count": null,
   "id": "5f1607ff-b0c3-4d90-a6d2-00dee7da75ea",
   "metadata": {},
   "outputs": [],
   "source": [
    "data.head()"
   ]
  },
  {
   "cell_type": "markdown",
   "id": "fae7de25-4a8a-4652-85f6-fbd62e3cf11f",
   "metadata": {
    "jp-MarkdownHeadingCollapsed": true
   },
   "source": [
    "## Summary statistics"
   ]
  },
  {
   "cell_type": "code",
   "execution_count": null,
   "id": "d51419d2-0ea1-4060-8f9c-9be8ded300d2",
   "metadata": {},
   "outputs": [],
   "source": [
    "data.describe()"
   ]
  },
  {
   "cell_type": "markdown",
   "id": "bedd15dc-0b95-4c35-8228-3d4e4f7610c5",
   "metadata": {
    "jp-MarkdownHeadingCollapsed": true
   },
   "source": [
    "## Line plot for stock prices"
   ]
  },
  {
   "cell_type": "code",
   "execution_count": null,
   "id": "6e6ea5f0-0c75-4535-bcf3-27c3bd09b050",
   "metadata": {},
   "outputs": [],
   "source": [
    "plt.figure(figsize=(12, 6))\n",
    "plt.plot(data['Date'], data['Close'], label='Close Price')\n",
    "plt.plot(data['Date'], data['MA_20'], label='MA 20', linestyle='--')\n",
    "plt.plot(data['Date'], data['MA_50'], label='MA 50', linestyle='--')\n",
    "plt.title('Coca-Cola Stock Prices with Moving Averages')\n",
    "plt.xlabel('Date')\n",
    "plt.ylabel('Price')\n",
    "plt.legend()\n",
    "plt.show()"
   ]
  },
  {
   "cell_type": "markdown",
   "id": "01dbe492-4572-40c3-a455-4950d1102ccb",
   "metadata": {
    "jp-MarkdownHeadingCollapsed": true
   },
   "source": [
    "## Correlation heatmap"
   ]
  },
  {
   "cell_type": "code",
   "execution_count": null,
   "id": "aabf1863-b44a-40ea-b945-317ce58b3ab1",
   "metadata": {},
   "outputs": [],
   "source": [
    "plt.figure(figsize=(10, 8))\n",
    "sns.heatmap(data.corr(), annot=True, cmap='coolwarm')\n",
    "plt.title('Correlation Heatmap')\n",
    "plt.show()"
   ]
  },
  {
   "cell_type": "markdown",
   "id": "f27431f5-bf54-4187-bea2-5ed01ae07e96",
   "metadata": {
    "jp-MarkdownHeadingCollapsed": true
   },
   "source": [
    "## Left merging columns"
   ]
  },
  {
   "cell_type": "code",
   "execution_count": null,
   "id": "b5acc4d4-07d3-427f-8633-f502d2a1858d",
   "metadata": {},
   "outputs": [],
   "source": [
    "KO_hist = pd.read_csv('Coca-Cola_stock_history.csv')\n",
    "KO_hist.shape"
   ]
  },
  {
   "cell_type": "code",
   "execution_count": null,
   "id": "878a9c45-4bb5-452d-850c-5a481e9dc043",
   "metadata": {},
   "outputs": [],
   "source": [
    "KO_hist.head()"
   ]
  },
  {
   "cell_type": "code",
   "execution_count": null,
   "id": "310c1f8b-80e8-420f-87d7-737f2e0f3dc8",
   "metadata": {},
   "outputs": [],
   "source": [
    "data.head()"
   ]
  },
  {
   "cell_type": "code",
   "execution_count": null,
   "id": "5ebb752f-cc41-4661-970c-2228ff929c51",
   "metadata": {},
   "outputs": [],
   "source": [
    "# Convert 'Date' in KO_hist and then make it timezone-naive\n",
    "KO_hist['Date'] = pd.to_datetime(KO_hist['Date'], format='mixed', utc=True).dt.tz_localize(None)\n",
    "\n",
    "# Convert 'Date' in data (assuming the previous conversion was successful)\n",
    "data['Date'] = pd.to_datetime(data['Date'])\n",
    "\n",
    "# Print the data types of the 'Date' columns to verify\n",
    "# print(f\"\\nData type of KO_hist['Date']: {KO_hist['Date'].dtype}\")\n",
    "# print(f\"Data type of data['Date']: {data['Date'].dtype}\")\n",
    "\n",
    "# Merge the two dataframes based on the 'Date' column\n",
    "data = pd.merge(data, KO_hist[['Date', 'Dividends', 'Stock Splits']], on='Date', how='left')\n",
    "\n",
    "# Fill NaN values in the new columns with 0\n",
    "data['Dividends'] = data['Dividends'].fillna(0)\n",
    "data['Stock Splits'] = data['Stock Splits'].fillna(0)"
   ]
  },
  {
   "cell_type": "code",
   "execution_count": null,
   "id": "3c499d24-bf99-4391-9b71-6bbb9e9ba6e6",
   "metadata": {},
   "outputs": [],
   "source": [
    "data.head()"
   ]
  },
  {
   "cell_type": "markdown",
   "id": "2660267b-b176-4b95-b219-8d1ca502afd3",
   "metadata": {
    "jp-MarkdownHeadingCollapsed": true
   },
   "source": [
    "## Data Splitting"
   ]
  },
  {
   "cell_type": "code",
   "execution_count": null,
   "id": "23388cf7-ed1c-40b9-bb70-49c5e44346dd",
   "metadata": {},
   "outputs": [],
   "source": [
    "data.head()"
   ]
  },
  {
   "cell_type": "code",
   "execution_count": null,
   "id": "d6564f53-f5f9-46d6-b6da-65ced48467fd",
   "metadata": {},
   "outputs": [],
   "source": [
    "features = ['Open', 'High', 'Low', 'Volume', 'Dividends', 'Stock Splits', 'MA_20', 'MA_50', 'Daily_Return', 'Volatility']\n",
    "target = 'Close'"
   ]
  },
  {
   "cell_type": "code",
   "execution_count": null,
   "id": "895b440e-c6b2-4fb5-a9a0-d25348f615a5",
   "metadata": {},
   "outputs": [],
   "source": [
    "X = data[features]\n",
    "y = data[target]"
   ]
  },
  {
   "cell_type": "code",
   "execution_count": null,
   "id": "bee4f6d8-4115-4210-9d0b-8d338c08ee73",
   "metadata": {},
   "outputs": [],
   "source": [
    "X.shape"
   ]
  },
  {
   "cell_type": "code",
   "execution_count": null,
   "id": "400327ef-8e6e-4251-b64a-c86f2eaa16f0",
   "metadata": {},
   "outputs": [],
   "source": [
    "y.shape"
   ]
  },
  {
   "cell_type": "code",
   "execution_count": null,
   "id": "715d4e6b-c56e-4eca-9d3e-66e96dd46363",
   "metadata": {},
   "outputs": [],
   "source": [
    "X_train, X_test, y_train, y_test = train_test_split(X, y, test_size=0.2, random_state=42, shuffle=False)"
   ]
  },
  {
   "cell_type": "code",
   "execution_count": null,
   "id": "d4eb5b58-ac5d-4c4a-87dd-32d0944783e5",
   "metadata": {},
   "outputs": [],
   "source": [
    "print(X_train.shape)\n",
    "print(X_test.shape)\n",
    "print(y_train.shape)\n",
    "print(y_test.shape)"
   ]
  },
  {
   "cell_type": "markdown",
   "id": "3ba60f94-ce73-4e8d-96bf-698d02cefde1",
   "metadata": {
    "jp-MarkdownHeadingCollapsed": true
   },
   "source": [
    "## Model Training"
   ]
  },
  {
   "cell_type": "code",
   "execution_count": null,
   "id": "727084d3-e9d4-4a00-b2ea-bc7e9e83a773",
   "metadata": {},
   "outputs": [],
   "source": [
    "# Use Random Forest for Initial Predictions. A good baseline model for tabular data is Random Forest."
   ]
  },
  {
   "cell_type": "code",
   "execution_count": null,
   "id": "4fb9e043-c506-44a4-a918-102680216c29",
   "metadata": {},
   "outputs": [],
   "source": [
    "model = RandomForestRegressor(n_estimators=100, random_state=42)"
   ]
  },
  {
   "cell_type": "code",
   "execution_count": null,
   "id": "8dc45013-6585-47c5-b892-b67bc27e872b",
   "metadata": {},
   "outputs": [],
   "source": [
    "model.fit(X_train, y_train)"
   ]
  },
  {
   "cell_type": "code",
   "execution_count": null,
   "id": "65905cb4-8ccd-47af-9a70-9cce3928e76f",
   "metadata": {},
   "outputs": [],
   "source": [
    "y_pred = model.predict(X_test)"
   ]
  },
  {
   "cell_type": "code",
   "execution_count": null,
   "id": "f823a43d-3ebf-464a-8148-d84abfd31fa4",
   "metadata": {},
   "outputs": [],
   "source": [
    "mse = mean_squared_error(y_test, y_pred)\n",
    "mae = mean_absolute_error(y_test, y_pred)"
   ]
  },
  {
   "cell_type": "code",
   "execution_count": null,
   "id": "41ea32ad-702d-45d3-913c-97294b32015a",
   "metadata": {},
   "outputs": [],
   "source": [
    "print(f\"Mean Squared Error: {mse}\")\n",
    "print(f\"Mean Absolute Error: {mae}\")"
   ]
  },
  {
   "cell_type": "markdown",
   "id": "1f95d5d0-d882-4d90-8939-7f933f380420",
   "metadata": {
    "jp-MarkdownHeadingCollapsed": true
   },
   "source": [
    "## Fetching Live Data"
   ]
  },
  {
   "cell_type": "code",
   "execution_count": null,
   "id": "52eb7ba4-36c3-4be3-854a-106dba8357ad",
   "metadata": {},
   "outputs": [],
   "source": [
    "# Fetch latest stock data\n",
    "\n",
    "live_data = yf.download(ticker, period='1d', interval='1m')\n",
    "live_data.shape"
   ]
  },
  {
   "cell_type": "code",
   "execution_count": null,
   "id": "e1cff5f2-8a6e-440a-8312-dc46b157f819",
   "metadata": {},
   "outputs": [],
   "source": [
    "live_data.columns = live_data.columns.droplevel(1)\n",
    "live_data.reset_index(inplace=True)\n",
    "live_data.columns.name = None\n",
    "live_data.head()"
   ]
  },
  {
   "cell_type": "code",
   "execution_count": null,
   "id": "132626ca-37ec-4e2f-be8b-14f56dd40d71",
   "metadata": {},
   "outputs": [],
   "source": [
    "# Adding features\n",
    "\n",
    "live_data['MA_20'] = live_data['Close'].rolling(window=20).mean()\n",
    "live_data['MA_50'] = live_data['Close'].rolling(window=50).mean()\n",
    "live_data['Daily_Return'] = live_data['Close'].pct_change()\n",
    "live_data['Volatility'] = live_data['Daily_Return'].rolling(window=20).std()"
   ]
  },
  {
   "cell_type": "code",
   "execution_count": null,
   "id": "c1886e4e-b25d-4852-afae-6daefec77f27",
   "metadata": {},
   "outputs": [],
   "source": [
    "live_data.head()"
   ]
  },
  {
   "cell_type": "code",
   "execution_count": null,
   "id": "acd38a54-7591-43de-a518-6a610246836c",
   "metadata": {},
   "outputs": [],
   "source": [
    "# Ensure no missing values\n",
    "\n",
    "live_data.fillna(0, inplace=True)"
   ]
  },
  {
   "cell_type": "code",
   "execution_count": null,
   "id": "a95fb038-f6c7-4b45-a2d2-9fbed7342837",
   "metadata": {},
   "outputs": [],
   "source": [
    "live_data.head()"
   ]
  },
  {
   "cell_type": "code",
   "execution_count": null,
   "id": "b7fa0ada-cca9-4731-99e9-b13d07a6b00d",
   "metadata": {},
   "outputs": [],
   "source": [
    "live_data['Datetime'] = pd.to_datetime(live_data['Datetime'])\n",
    "live_data['Date'] = live_data['Datetime'].dt.date"
   ]
  },
  {
   "cell_type": "code",
   "execution_count": null,
   "id": "31cc66f7-3c02-48b8-a633-6981af94a67b",
   "metadata": {},
   "outputs": [],
   "source": [
    "live_data.head()"
   ]
  },
  {
   "cell_type": "code",
   "execution_count": null,
   "id": "6d6cfbfd-9a6b-4edf-a0bf-a26047631e94",
   "metadata": {},
   "outputs": [],
   "source": [
    "KO_hist.head()"
   ]
  },
  {
   "cell_type": "code",
   "execution_count": null,
   "id": "45717629-515f-44af-9e36-7fe05e3bfff2",
   "metadata": {},
   "outputs": [],
   "source": [
    "# Convert 'Date' in KO_hist and then make it timezone-naive\n",
    "KO_hist['Date'] = pd.to_datetime(KO_hist['Date'], format='mixed', utc=True).dt.tz_localize(None)\n",
    "\n",
    "# Convert 'Date' in live_data (assuming the previous conversion was successful)\n",
    "live_data['Date'] = pd.to_datetime(live_data['Date'])\n",
    "\n",
    "# Merge the two live_dataframes based on the 'Date' column\n",
    "live_data = pd.merge(live_data, KO_hist[['Date', 'Dividends', 'Stock Splits']], on='Date', how='left')\n",
    "\n",
    "# Fill NaN values in the new columns with 0\n",
    "live_data['Dividends'] = live_data['Dividends'].fillna(0)\n",
    "live_data['Stock Splits'] = live_data['Stock Splits'].fillna(0)"
   ]
  },
  {
   "cell_type": "code",
   "execution_count": null,
   "id": "ac2e21e3-b99b-4b98-9e1c-46559f4b2452",
   "metadata": {},
   "outputs": [],
   "source": [
    "live_data.head()"
   ]
  },
  {
   "cell_type": "code",
   "execution_count": null,
   "id": "68d22158-bd3b-4e4a-9f0a-8c84f8a69449",
   "metadata": {},
   "outputs": [],
   "source": [
    "# latest data point\n",
    "\n",
    "latest_features = live_data[features].iloc[-1:].dropna()\n",
    "latest_features.shape"
   ]
  },
  {
   "cell_type": "code",
   "execution_count": null,
   "id": "676901b9-a841-4384-bda2-15776bfdf71e",
   "metadata": {},
   "outputs": [],
   "source": [
    "latest_features.head()"
   ]
  },
  {
   "cell_type": "code",
   "execution_count": null,
   "id": "8518d91a-a053-495c-a3a1-4ceeb010b8e6",
   "metadata": {},
   "outputs": [],
   "source": [
    "live_prediction = model.predict(latest_features)"
   ]
  },
  {
   "cell_type": "code",
   "execution_count": null,
   "id": "bbb549a1-31b2-48c4-80d2-1ff9f5cf3f65",
   "metadata": {},
   "outputs": [],
   "source": [
    "print(f\"Predicted Closing Price: {live_prediction[0]}\")"
   ]
  },
  {
   "cell_type": "code",
   "execution_count": null,
   "id": "3062323b-f6b6-45ae-b572-77de0d6b624f",
   "metadata": {},
   "outputs": [],
   "source": [
    "# st.title('Coca-Cola Stock Price Prediction')\n",
    "# # Upload visualization\n",
    "# st.line_chart(data[['Close', 'MA_20', 'MA_50']])\n",
    "# # Show prediction\n",
    "# st.write(f\"Predicted Closing Price: {live_prediction[0]}\")"
   ]
  }
 ],
 "metadata": {
  "kernelspec": {
   "display_name": "tensorflowkernel",
   "language": "python",
   "name": "tensorflowkernel"
  },
  "language_info": {
   "codemirror_mode": {
    "name": "ipython",
    "version": 3
   },
   "file_extension": ".py",
   "mimetype": "text/x-python",
   "name": "python",
   "nbconvert_exporter": "python",
   "pygments_lexer": "ipython3",
   "version": "3.12.4"
  }
 },
 "nbformat": 4,
 "nbformat_minor": 5
}
